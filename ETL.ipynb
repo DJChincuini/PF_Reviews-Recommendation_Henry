{
  "cells": [
    {
      "cell_type": "markdown",
      "metadata": {},
      "source": [
        "## ETL - Extract, Transform and Load"
      ]
    },
    {
      "cell_type": "markdown",
      "metadata": {},
      "source": [
        "En esta etapa del proyecto, se llevara a cabo el proceso de ETL (extracción, transformación y carga), para poder comenzar con la obtención de valiosa e importante información a partir de los datos. En esta etapa podremos dimensionar la información con la que contamos, las diversas estructuras y formatos de los datos, las relaciones entre los distintos datasets que trabajaremos, para su porterior utilización, y que esta, sea correcta, efectiva y eficaz."
      ]
    },
    {
      "cell_type": "markdown",
      "metadata": {},
      "source": [
        "#### Importación de librerias:"
      ]
    },
    {
      "cell_type": "code",
      "execution_count": 146,
      "metadata": {
        "id": "0G0ZXtuj-2Wy"
      },
      "outputs": [],
      "source": [
        "import pandas as pd\n",
        "from io import BytesIO\n",
        "import pyarrow.parquet as pq\n",
        "import os\n",
        "import Utilidades as ut"
      ]
    },
    {
      "cell_type": "markdown",
      "metadata": {
        "id": "-VN63Tg7_yyR"
      },
      "source": [
        "### Business 📊"
      ]
    },
    {
      "cell_type": "markdown",
      "metadata": {},
      "source": [
        "*Definimos la ruta del archivo :*"
      ]
    },
    {
      "cell_type": "code",
      "execution_count": 3,
      "metadata": {
        "id": "5qBrQzr9_yI4"
      },
      "outputs": [],
      "source": [
        "ruta = './Datos/Yelp/business.pkl' "
      ]
    },
    {
      "cell_type": "markdown",
      "metadata": {},
      "source": [
        "*Almacenamos el contenido del archivo en un DataFrame:*"
      ]
    },
    {
      "cell_type": "code",
      "execution_count": 4,
      "metadata": {
        "id": "v1ZkD9cL_VRE"
      },
      "outputs": [],
      "source": [
        "with open(ruta, \"rb\") as file:\n",
        "    df_business = pd.read_pickle(BytesIO(file.read()))"
      ]
    },
    {
      "cell_type": "markdown",
      "metadata": {},
      "source": [
        "*Visualizamos el DataFrame:*"
      ]
    },
    {
      "cell_type": "code",
      "execution_count": 7,
      "metadata": {},
      "outputs": [
        {
          "data": {
            "text/html": [
              "<div>\n",
              "<style scoped>\n",
              "    .dataframe tbody tr th:only-of-type {\n",
              "        vertical-align: middle;\n",
              "    }\n",
              "\n",
              "    .dataframe tbody tr th {\n",
              "        vertical-align: top;\n",
              "    }\n",
              "\n",
              "    .dataframe thead th {\n",
              "        text-align: right;\n",
              "    }\n",
              "</style>\n",
              "<table border=\"1\" class=\"dataframe\">\n",
              "  <thead>\n",
              "    <tr style=\"text-align: right;\">\n",
              "      <th></th>\n",
              "      <th>business_id</th>\n",
              "      <th>name</th>\n",
              "      <th>address</th>\n",
              "      <th>city</th>\n",
              "      <th>state</th>\n",
              "      <th>postal_code</th>\n",
              "      <th>latitude</th>\n",
              "      <th>longitude</th>\n",
              "      <th>stars</th>\n",
              "      <th>review_count</th>\n",
              "      <th>...</th>\n",
              "      <th>state</th>\n",
              "      <th>postal_code</th>\n",
              "      <th>latitude</th>\n",
              "      <th>longitude</th>\n",
              "      <th>stars</th>\n",
              "      <th>review_count</th>\n",
              "      <th>is_open</th>\n",
              "      <th>attributes</th>\n",
              "      <th>categories</th>\n",
              "      <th>hours</th>\n",
              "    </tr>\n",
              "  </thead>\n",
              "  <tbody>\n",
              "    <tr>\n",
              "      <th>0</th>\n",
              "      <td>Pns2l4eNsfO8kk83dixA6A</td>\n",
              "      <td>Abby Rappoport, LAC, CMQ</td>\n",
              "      <td>1616 Chapala St, Ste 2</td>\n",
              "      <td>Santa Barbara</td>\n",
              "      <td>NaN</td>\n",
              "      <td>93101</td>\n",
              "      <td>34.426679</td>\n",
              "      <td>-119.711197</td>\n",
              "      <td>5.0</td>\n",
              "      <td>7</td>\n",
              "      <td>...</td>\n",
              "      <td>NaN</td>\n",
              "      <td>NaN</td>\n",
              "      <td>NaN</td>\n",
              "      <td>NaN</td>\n",
              "      <td>NaN</td>\n",
              "      <td>NaN</td>\n",
              "      <td>NaN</td>\n",
              "      <td>NaN</td>\n",
              "      <td>NaN</td>\n",
              "      <td>NaN</td>\n",
              "    </tr>\n",
              "    <tr>\n",
              "      <th>1</th>\n",
              "      <td>mpf3x-BjTdTEA3yCZrAYPw</td>\n",
              "      <td>The UPS Store</td>\n",
              "      <td>87 Grasso Plaza Shopping Center</td>\n",
              "      <td>Affton</td>\n",
              "      <td>NaN</td>\n",
              "      <td>63123</td>\n",
              "      <td>38.551126</td>\n",
              "      <td>-90.335695</td>\n",
              "      <td>3.0</td>\n",
              "      <td>15</td>\n",
              "      <td>...</td>\n",
              "      <td>NaN</td>\n",
              "      <td>NaN</td>\n",
              "      <td>NaN</td>\n",
              "      <td>NaN</td>\n",
              "      <td>NaN</td>\n",
              "      <td>NaN</td>\n",
              "      <td>NaN</td>\n",
              "      <td>NaN</td>\n",
              "      <td>NaN</td>\n",
              "      <td>NaN</td>\n",
              "    </tr>\n",
              "  </tbody>\n",
              "</table>\n",
              "<p>2 rows × 28 columns</p>\n",
              "</div>"
            ],
            "text/plain": [
              "              business_id                      name  \\\n",
              "0  Pns2l4eNsfO8kk83dixA6A  Abby Rappoport, LAC, CMQ   \n",
              "1  mpf3x-BjTdTEA3yCZrAYPw             The UPS Store   \n",
              "\n",
              "                           address           city state postal_code  \\\n",
              "0           1616 Chapala St, Ste 2  Santa Barbara   NaN       93101   \n",
              "1  87 Grasso Plaza Shopping Center         Affton   NaN       63123   \n",
              "\n",
              "    latitude   longitude stars review_count  ... state postal_code latitude  \\\n",
              "0  34.426679 -119.711197   5.0            7  ...   NaN         NaN      NaN   \n",
              "1  38.551126  -90.335695   3.0           15  ...   NaN         NaN      NaN   \n",
              "\n",
              "  longitude stars review_count is_open attributes categories hours  \n",
              "0       NaN   NaN          NaN     NaN        NaN        NaN   NaN  \n",
              "1       NaN   NaN          NaN     NaN        NaN        NaN   NaN  \n",
              "\n",
              "[2 rows x 28 columns]"
            ]
          },
          "execution_count": 7,
          "metadata": {},
          "output_type": "execute_result"
        }
      ],
      "source": [
        "df_business.head(2)"
      ]
    },
    {
      "cell_type": "markdown",
      "metadata": {},
      "source": [
        "*Podemos ver que se duplicaron las columnas, asique procedemos a eliminar los duplicados:*"
      ]
    },
    {
      "cell_type": "code",
      "execution_count": 8,
      "metadata": {},
      "outputs": [],
      "source": [
        "df_business = df_business.loc[:,~df_business.columns.duplicated()]"
      ]
    },
    {
      "cell_type": "markdown",
      "metadata": {},
      "source": [
        "*Verificamos:*"
      ]
    },
    {
      "cell_type": "code",
      "execution_count": 9,
      "metadata": {},
      "outputs": [
        {
          "data": {
            "text/html": [
              "<div>\n",
              "<style scoped>\n",
              "    .dataframe tbody tr th:only-of-type {\n",
              "        vertical-align: middle;\n",
              "    }\n",
              "\n",
              "    .dataframe tbody tr th {\n",
              "        vertical-align: top;\n",
              "    }\n",
              "\n",
              "    .dataframe thead th {\n",
              "        text-align: right;\n",
              "    }\n",
              "</style>\n",
              "<table border=\"1\" class=\"dataframe\">\n",
              "  <thead>\n",
              "    <tr style=\"text-align: right;\">\n",
              "      <th></th>\n",
              "      <th>business_id</th>\n",
              "      <th>name</th>\n",
              "      <th>address</th>\n",
              "      <th>city</th>\n",
              "      <th>state</th>\n",
              "      <th>postal_code</th>\n",
              "      <th>latitude</th>\n",
              "      <th>longitude</th>\n",
              "      <th>stars</th>\n",
              "      <th>review_count</th>\n",
              "      <th>is_open</th>\n",
              "      <th>attributes</th>\n",
              "      <th>categories</th>\n",
              "      <th>hours</th>\n",
              "    </tr>\n",
              "  </thead>\n",
              "  <tbody>\n",
              "    <tr>\n",
              "      <th>0</th>\n",
              "      <td>Pns2l4eNsfO8kk83dixA6A</td>\n",
              "      <td>Abby Rappoport, LAC, CMQ</td>\n",
              "      <td>1616 Chapala St, Ste 2</td>\n",
              "      <td>Santa Barbara</td>\n",
              "      <td>NaN</td>\n",
              "      <td>93101</td>\n",
              "      <td>34.426679</td>\n",
              "      <td>-119.711197</td>\n",
              "      <td>5.0</td>\n",
              "      <td>7</td>\n",
              "      <td>0</td>\n",
              "      <td>{'ByAppointmentOnly': 'True'}</td>\n",
              "      <td>Doctors, Traditional Chinese Medicine, Naturop...</td>\n",
              "      <td>None</td>\n",
              "    </tr>\n",
              "    <tr>\n",
              "      <th>1</th>\n",
              "      <td>mpf3x-BjTdTEA3yCZrAYPw</td>\n",
              "      <td>The UPS Store</td>\n",
              "      <td>87 Grasso Plaza Shopping Center</td>\n",
              "      <td>Affton</td>\n",
              "      <td>NaN</td>\n",
              "      <td>63123</td>\n",
              "      <td>38.551126</td>\n",
              "      <td>-90.335695</td>\n",
              "      <td>3.0</td>\n",
              "      <td>15</td>\n",
              "      <td>1</td>\n",
              "      <td>{'BusinessAcceptsCreditCards': 'True'}</td>\n",
              "      <td>Shipping Centers, Local Services, Notaries, Ma...</td>\n",
              "      <td>{'Monday': '0:0-0:0', 'Tuesday': '8:0-18:30', ...</td>\n",
              "    </tr>\n",
              "  </tbody>\n",
              "</table>\n",
              "</div>"
            ],
            "text/plain": [
              "              business_id                      name  \\\n",
              "0  Pns2l4eNsfO8kk83dixA6A  Abby Rappoport, LAC, CMQ   \n",
              "1  mpf3x-BjTdTEA3yCZrAYPw             The UPS Store   \n",
              "\n",
              "                           address           city state postal_code  \\\n",
              "0           1616 Chapala St, Ste 2  Santa Barbara   NaN       93101   \n",
              "1  87 Grasso Plaza Shopping Center         Affton   NaN       63123   \n",
              "\n",
              "    latitude   longitude stars review_count is_open  \\\n",
              "0  34.426679 -119.711197   5.0            7       0   \n",
              "1  38.551126  -90.335695   3.0           15       1   \n",
              "\n",
              "                               attributes  \\\n",
              "0           {'ByAppointmentOnly': 'True'}   \n",
              "1  {'BusinessAcceptsCreditCards': 'True'}   \n",
              "\n",
              "                                          categories  \\\n",
              "0  Doctors, Traditional Chinese Medicine, Naturop...   \n",
              "1  Shipping Centers, Local Services, Notaries, Ma...   \n",
              "\n",
              "                                               hours  \n",
              "0                                               None  \n",
              "1  {'Monday': '0:0-0:0', 'Tuesday': '8:0-18:30', ...  "
            ]
          },
          "execution_count": 9,
          "metadata": {},
          "output_type": "execute_result"
        }
      ],
      "source": [
        "df_business.head(2)"
      ]
    },
    {
      "cell_type": "markdown",
      "metadata": {},
      "source": [
        "*Normalizamos los nombres de las columnas:*"
      ]
    },
    {
      "cell_type": "code",
      "execution_count": 10,
      "metadata": {},
      "outputs": [
        {
          "data": {
            "text/html": [
              "<div>\n",
              "<style scoped>\n",
              "    .dataframe tbody tr th:only-of-type {\n",
              "        vertical-align: middle;\n",
              "    }\n",
              "\n",
              "    .dataframe tbody tr th {\n",
              "        vertical-align: top;\n",
              "    }\n",
              "\n",
              "    .dataframe thead th {\n",
              "        text-align: right;\n",
              "    }\n",
              "</style>\n",
              "<table border=\"1\" class=\"dataframe\">\n",
              "  <thead>\n",
              "    <tr style=\"text-align: right;\">\n",
              "      <th></th>\n",
              "      <th>Business_Id</th>\n",
              "      <th>Name</th>\n",
              "      <th>Address</th>\n",
              "      <th>City</th>\n",
              "      <th>State</th>\n",
              "      <th>Postal_Code</th>\n",
              "      <th>Latitude</th>\n",
              "      <th>Longitude</th>\n",
              "      <th>Stars</th>\n",
              "      <th>Review_Count</th>\n",
              "      <th>Is_Open</th>\n",
              "      <th>Attributes</th>\n",
              "      <th>Categories</th>\n",
              "      <th>Hours</th>\n",
              "    </tr>\n",
              "  </thead>\n",
              "  <tbody>\n",
              "    <tr>\n",
              "      <th>0</th>\n",
              "      <td>Pns2l4eNsfO8kk83dixA6A</td>\n",
              "      <td>Abby Rappoport, LAC, CMQ</td>\n",
              "      <td>1616 Chapala St, Ste 2</td>\n",
              "      <td>Santa Barbara</td>\n",
              "      <td>NaN</td>\n",
              "      <td>93101</td>\n",
              "      <td>34.426679</td>\n",
              "      <td>-119.711197</td>\n",
              "      <td>5.0</td>\n",
              "      <td>7</td>\n",
              "      <td>0</td>\n",
              "      <td>{'ByAppointmentOnly': 'True'}</td>\n",
              "      <td>Doctors, Traditional Chinese Medicine, Naturop...</td>\n",
              "      <td>None</td>\n",
              "    </tr>\n",
              "    <tr>\n",
              "      <th>1</th>\n",
              "      <td>mpf3x-BjTdTEA3yCZrAYPw</td>\n",
              "      <td>The UPS Store</td>\n",
              "      <td>87 Grasso Plaza Shopping Center</td>\n",
              "      <td>Affton</td>\n",
              "      <td>NaN</td>\n",
              "      <td>63123</td>\n",
              "      <td>38.551126</td>\n",
              "      <td>-90.335695</td>\n",
              "      <td>3.0</td>\n",
              "      <td>15</td>\n",
              "      <td>1</td>\n",
              "      <td>{'BusinessAcceptsCreditCards': 'True'}</td>\n",
              "      <td>Shipping Centers, Local Services, Notaries, Ma...</td>\n",
              "      <td>{'Monday': '0:0-0:0', 'Tuesday': '8:0-18:30', ...</td>\n",
              "    </tr>\n",
              "    <tr>\n",
              "      <th>2</th>\n",
              "      <td>tUFrWirKiKi_TAnsVWINQQ</td>\n",
              "      <td>Target</td>\n",
              "      <td>5255 E Broadway Blvd</td>\n",
              "      <td>Tucson</td>\n",
              "      <td>NaN</td>\n",
              "      <td>85711</td>\n",
              "      <td>32.223236</td>\n",
              "      <td>-110.880452</td>\n",
              "      <td>3.5</td>\n",
              "      <td>22</td>\n",
              "      <td>0</td>\n",
              "      <td>{'BikeParking': 'True', 'BusinessAcceptsCredit...</td>\n",
              "      <td>Department Stores, Shopping, Fashion, Home &amp; G...</td>\n",
              "      <td>{'Monday': '8:0-22:0', 'Tuesday': '8:0-22:0', ...</td>\n",
              "    </tr>\n",
              "    <tr>\n",
              "      <th>3</th>\n",
              "      <td>MTSW4McQd7CbVtyjqoe9mw</td>\n",
              "      <td>St Honore Pastries</td>\n",
              "      <td>935 Race St</td>\n",
              "      <td>Philadelphia</td>\n",
              "      <td>CA</td>\n",
              "      <td>19107</td>\n",
              "      <td>39.955505</td>\n",
              "      <td>-75.155564</td>\n",
              "      <td>4.0</td>\n",
              "      <td>80</td>\n",
              "      <td>1</td>\n",
              "      <td>{'RestaurantsDelivery': 'False', 'OutdoorSeati...</td>\n",
              "      <td>Restaurants, Food, Bubble Tea, Coffee &amp; Tea, B...</td>\n",
              "      <td>{'Monday': '7:0-20:0', 'Tuesday': '7:0-20:0', ...</td>\n",
              "    </tr>\n",
              "    <tr>\n",
              "      <th>4</th>\n",
              "      <td>mWMc6_wTdE0EUBKIGXDVfA</td>\n",
              "      <td>Perkiomen Valley Brewery</td>\n",
              "      <td>101 Walnut St</td>\n",
              "      <td>Green Lane</td>\n",
              "      <td>MO</td>\n",
              "      <td>18054</td>\n",
              "      <td>40.338183</td>\n",
              "      <td>-75.471659</td>\n",
              "      <td>4.5</td>\n",
              "      <td>13</td>\n",
              "      <td>1</td>\n",
              "      <td>{'BusinessAcceptsCreditCards': 'True', 'Wheelc...</td>\n",
              "      <td>Brewpubs, Breweries, Food</td>\n",
              "      <td>{'Wednesday': '14:0-22:0', 'Thursday': '16:0-2...</td>\n",
              "    </tr>\n",
              "    <tr>\n",
              "      <th>...</th>\n",
              "      <td>...</td>\n",
              "      <td>...</td>\n",
              "      <td>...</td>\n",
              "      <td>...</td>\n",
              "      <td>...</td>\n",
              "      <td>...</td>\n",
              "      <td>...</td>\n",
              "      <td>...</td>\n",
              "      <td>...</td>\n",
              "      <td>...</td>\n",
              "      <td>...</td>\n",
              "      <td>...</td>\n",
              "      <td>...</td>\n",
              "      <td>...</td>\n",
              "    </tr>\n",
              "    <tr>\n",
              "      <th>150341</th>\n",
              "      <td>IUQopTMmYQG-qRtBk-8QnA</td>\n",
              "      <td>Binh's Nails</td>\n",
              "      <td>3388 Gateway Blvd</td>\n",
              "      <td>Edmonton</td>\n",
              "      <td>IN</td>\n",
              "      <td>T6J 5H2</td>\n",
              "      <td>53.468419</td>\n",
              "      <td>-113.492054</td>\n",
              "      <td>3.0</td>\n",
              "      <td>13</td>\n",
              "      <td>1</td>\n",
              "      <td>{'ByAppointmentOnly': 'False', 'RestaurantsPri...</td>\n",
              "      <td>Nail Salons, Beauty &amp; Spas</td>\n",
              "      <td>{'Monday': '10:0-19:30', 'Tuesday': '10:0-19:3...</td>\n",
              "    </tr>\n",
              "    <tr>\n",
              "      <th>150342</th>\n",
              "      <td>c8GjPIOTGVmIemT7j5_SyQ</td>\n",
              "      <td>Wild Birds Unlimited</td>\n",
              "      <td>2813 Bransford Ave</td>\n",
              "      <td>Nashville</td>\n",
              "      <td>DE</td>\n",
              "      <td>37204</td>\n",
              "      <td>36.115118</td>\n",
              "      <td>-86.766925</td>\n",
              "      <td>4.0</td>\n",
              "      <td>5</td>\n",
              "      <td>1</td>\n",
              "      <td>{'BusinessAcceptsCreditCards': 'True', 'Restau...</td>\n",
              "      <td>Pets, Nurseries &amp; Gardening, Pet Stores, Hobby...</td>\n",
              "      <td>{'Monday': '9:30-17:30', 'Tuesday': '9:30-17:3...</td>\n",
              "    </tr>\n",
              "    <tr>\n",
              "      <th>150343</th>\n",
              "      <td>_QAMST-NrQobXduilWEqSw</td>\n",
              "      <td>Claire's Boutique</td>\n",
              "      <td>6020 E 82nd St, Ste 46</td>\n",
              "      <td>Indianapolis</td>\n",
              "      <td>AB</td>\n",
              "      <td>46250</td>\n",
              "      <td>39.908707</td>\n",
              "      <td>-86.065088</td>\n",
              "      <td>3.5</td>\n",
              "      <td>8</td>\n",
              "      <td>1</td>\n",
              "      <td>{'RestaurantsPriceRange2': '1', 'BusinessAccep...</td>\n",
              "      <td>Shopping, Jewelry, Piercing, Toy Stores, Beaut...</td>\n",
              "      <td>None</td>\n",
              "    </tr>\n",
              "    <tr>\n",
              "      <th>150344</th>\n",
              "      <td>mtGm22y5c2UHNXDFAjaPNw</td>\n",
              "      <td>Cyclery &amp; Fitness Center</td>\n",
              "      <td>2472 Troy Rd</td>\n",
              "      <td>Edwardsville</td>\n",
              "      <td>AB</td>\n",
              "      <td>62025</td>\n",
              "      <td>38.782351</td>\n",
              "      <td>-89.950558</td>\n",
              "      <td>4.0</td>\n",
              "      <td>24</td>\n",
              "      <td>1</td>\n",
              "      <td>{'BusinessParking': '{'garage': False, 'street...</td>\n",
              "      <td>Fitness/Exercise Equipment, Eyewear &amp; Optician...</td>\n",
              "      <td>{'Monday': '9:0-20:0', 'Tuesday': '9:0-20:0', ...</td>\n",
              "    </tr>\n",
              "    <tr>\n",
              "      <th>150345</th>\n",
              "      <td>jV_XOycEzSlTx-65W906pg</td>\n",
              "      <td>Sic Ink</td>\n",
              "      <td>238 Apollo Beach Blvd</td>\n",
              "      <td>Apollo beach</td>\n",
              "      <td>TN</td>\n",
              "      <td>33572</td>\n",
              "      <td>27.771002</td>\n",
              "      <td>-82.39491</td>\n",
              "      <td>4.5</td>\n",
              "      <td>9</td>\n",
              "      <td>1</td>\n",
              "      <td>{'WheelchairAccessible': 'True', 'BusinessAcce...</td>\n",
              "      <td>Beauty &amp; Spas, Permanent Makeup, Piercing, Tattoo</td>\n",
              "      <td>{'Tuesday': '12:0-19:0', 'Wednesday': '12:0-19...</td>\n",
              "    </tr>\n",
              "  </tbody>\n",
              "</table>\n",
              "<p>150346 rows × 14 columns</p>\n",
              "</div>"
            ],
            "text/plain": [
              "                   Business_Id                      Name  \\\n",
              "0       Pns2l4eNsfO8kk83dixA6A  Abby Rappoport, LAC, CMQ   \n",
              "1       mpf3x-BjTdTEA3yCZrAYPw             The UPS Store   \n",
              "2       tUFrWirKiKi_TAnsVWINQQ                    Target   \n",
              "3       MTSW4McQd7CbVtyjqoe9mw        St Honore Pastries   \n",
              "4       mWMc6_wTdE0EUBKIGXDVfA  Perkiomen Valley Brewery   \n",
              "...                        ...                       ...   \n",
              "150341  IUQopTMmYQG-qRtBk-8QnA              Binh's Nails   \n",
              "150342  c8GjPIOTGVmIemT7j5_SyQ      Wild Birds Unlimited   \n",
              "150343  _QAMST-NrQobXduilWEqSw         Claire's Boutique   \n",
              "150344  mtGm22y5c2UHNXDFAjaPNw  Cyclery & Fitness Center   \n",
              "150345  jV_XOycEzSlTx-65W906pg                   Sic Ink   \n",
              "\n",
              "                                Address           City State Postal_Code  \\\n",
              "0                1616 Chapala St, Ste 2  Santa Barbara   NaN       93101   \n",
              "1       87 Grasso Plaza Shopping Center         Affton   NaN       63123   \n",
              "2                  5255 E Broadway Blvd         Tucson   NaN       85711   \n",
              "3                           935 Race St   Philadelphia    CA       19107   \n",
              "4                         101 Walnut St     Green Lane    MO       18054   \n",
              "...                                 ...            ...   ...         ...   \n",
              "150341                3388 Gateway Blvd       Edmonton    IN     T6J 5H2   \n",
              "150342               2813 Bransford Ave      Nashville    DE       37204   \n",
              "150343           6020 E 82nd St, Ste 46   Indianapolis    AB       46250   \n",
              "150344                     2472 Troy Rd   Edwardsville    AB       62025   \n",
              "150345            238 Apollo Beach Blvd   Apollo beach    TN       33572   \n",
              "\n",
              "         Latitude   Longitude Stars Review_Count Is_Open  \\\n",
              "0       34.426679 -119.711197   5.0            7       0   \n",
              "1       38.551126  -90.335695   3.0           15       1   \n",
              "2       32.223236 -110.880452   3.5           22       0   \n",
              "3       39.955505  -75.155564   4.0           80       1   \n",
              "4       40.338183  -75.471659   4.5           13       1   \n",
              "...           ...         ...   ...          ...     ...   \n",
              "150341  53.468419 -113.492054   3.0           13       1   \n",
              "150342  36.115118  -86.766925   4.0            5       1   \n",
              "150343  39.908707  -86.065088   3.5            8       1   \n",
              "150344  38.782351  -89.950558   4.0           24       1   \n",
              "150345  27.771002   -82.39491   4.5            9       1   \n",
              "\n",
              "                                               Attributes  \\\n",
              "0                           {'ByAppointmentOnly': 'True'}   \n",
              "1                  {'BusinessAcceptsCreditCards': 'True'}   \n",
              "2       {'BikeParking': 'True', 'BusinessAcceptsCredit...   \n",
              "3       {'RestaurantsDelivery': 'False', 'OutdoorSeati...   \n",
              "4       {'BusinessAcceptsCreditCards': 'True', 'Wheelc...   \n",
              "...                                                   ...   \n",
              "150341  {'ByAppointmentOnly': 'False', 'RestaurantsPri...   \n",
              "150342  {'BusinessAcceptsCreditCards': 'True', 'Restau...   \n",
              "150343  {'RestaurantsPriceRange2': '1', 'BusinessAccep...   \n",
              "150344  {'BusinessParking': '{'garage': False, 'street...   \n",
              "150345  {'WheelchairAccessible': 'True', 'BusinessAcce...   \n",
              "\n",
              "                                               Categories  \\\n",
              "0       Doctors, Traditional Chinese Medicine, Naturop...   \n",
              "1       Shipping Centers, Local Services, Notaries, Ma...   \n",
              "2       Department Stores, Shopping, Fashion, Home & G...   \n",
              "3       Restaurants, Food, Bubble Tea, Coffee & Tea, B...   \n",
              "4                               Brewpubs, Breweries, Food   \n",
              "...                                                   ...   \n",
              "150341                         Nail Salons, Beauty & Spas   \n",
              "150342  Pets, Nurseries & Gardening, Pet Stores, Hobby...   \n",
              "150343  Shopping, Jewelry, Piercing, Toy Stores, Beaut...   \n",
              "150344  Fitness/Exercise Equipment, Eyewear & Optician...   \n",
              "150345  Beauty & Spas, Permanent Makeup, Piercing, Tattoo   \n",
              "\n",
              "                                                    Hours  \n",
              "0                                                    None  \n",
              "1       {'Monday': '0:0-0:0', 'Tuesday': '8:0-18:30', ...  \n",
              "2       {'Monday': '8:0-22:0', 'Tuesday': '8:0-22:0', ...  \n",
              "3       {'Monday': '7:0-20:0', 'Tuesday': '7:0-20:0', ...  \n",
              "4       {'Wednesday': '14:0-22:0', 'Thursday': '16:0-2...  \n",
              "...                                                   ...  \n",
              "150341  {'Monday': '10:0-19:30', 'Tuesday': '10:0-19:3...  \n",
              "150342  {'Monday': '9:30-17:30', 'Tuesday': '9:30-17:3...  \n",
              "150343                                               None  \n",
              "150344  {'Monday': '9:0-20:0', 'Tuesday': '9:0-20:0', ...  \n",
              "150345  {'Tuesday': '12:0-19:0', 'Wednesday': '12:0-19...  \n",
              "\n",
              "[150346 rows x 14 columns]"
            ]
          },
          "execution_count": 10,
          "metadata": {},
          "output_type": "execute_result"
        }
      ],
      "source": [
        "ut.normalizacion_columnas(df_business)"
      ]
    },
    {
      "cell_type": "markdown",
      "metadata": {},
      "source": [
        "*Filtraremos el DataFrame, y nos quedaremos con uno de menor tamaño, solo con los registros cuyo nombre (columna **Name**) contenga **McDonald**:*"
      ]
    },
    {
      "cell_type": "code",
      "execution_count": 22,
      "metadata": {},
      "outputs": [],
      "source": [
        "df_mcdonalds = df_business[df_business['Name'].str.contains('McDonald|Mc Donald|Mcdonald|McDonalds|Mc Donalds|Mcdonalds', case=False, na=False)]"
      ]
    },
    {
      "cell_type": "markdown",
      "metadata": {},
      "source": [
        "*Analizamos los estados donde se encuentran las sucursales de Mc Donald's:*"
      ]
    },
    {
      "cell_type": "code",
      "execution_count": 24,
      "metadata": {},
      "outputs": [
        {
          "data": {
            "text/plain": [
              "array(['PA', 'NJ', 'AZ', 'MO', 'FL', 'CA', 'ID', 'IN', 'LA', 'TN', 'DE',\n",
              "       'NV', 'AB', 'IL'], dtype=object)"
            ]
          },
          "execution_count": 24,
          "metadata": {},
          "output_type": "execute_result"
        }
      ],
      "source": [
        "df_mcdonalds['State'].unique()"
      ]
    },
    {
      "cell_type": "code",
      "execution_count": 25,
      "metadata": {},
      "outputs": [
        {
          "data": {
            "text/html": [
              "<div>\n",
              "<style scoped>\n",
              "    .dataframe tbody tr th:only-of-type {\n",
              "        vertical-align: middle;\n",
              "    }\n",
              "\n",
              "    .dataframe tbody tr th {\n",
              "        vertical-align: top;\n",
              "    }\n",
              "\n",
              "    .dataframe thead th {\n",
              "        text-align: right;\n",
              "    }\n",
              "</style>\n",
              "<table border=\"1\" class=\"dataframe\">\n",
              "  <thead>\n",
              "    <tr style=\"text-align: right;\">\n",
              "      <th></th>\n",
              "      <th>Business_Id</th>\n",
              "      <th>Name</th>\n",
              "      <th>Address</th>\n",
              "      <th>City</th>\n",
              "      <th>State</th>\n",
              "      <th>Postal_Code</th>\n",
              "      <th>Latitude</th>\n",
              "      <th>Longitude</th>\n",
              "      <th>Stars</th>\n",
              "      <th>Review_Count</th>\n",
              "      <th>Is_Open</th>\n",
              "      <th>Attributes</th>\n",
              "      <th>Categories</th>\n",
              "      <th>Hours</th>\n",
              "    </tr>\n",
              "  </thead>\n",
              "  <tbody>\n",
              "    <tr>\n",
              "      <th>193</th>\n",
              "      <td>yM8LlTInbQH4FwWC97lz6w</td>\n",
              "      <td>McDonald's</td>\n",
              "      <td>1919 S Jefferson</td>\n",
              "      <td>St. Louis</td>\n",
              "      <td>PA</td>\n",
              "      <td>63104</td>\n",
              "      <td>38.612495</td>\n",
              "      <td>-90.221942</td>\n",
              "      <td>1.5</td>\n",
              "      <td>100</td>\n",
              "      <td>1</td>\n",
              "      <td>{'Alcohol': 'u'none'', 'BikeParking': 'True', ...</td>\n",
              "      <td>Fast Food, Restaurants, Food, Burgers, Coffee ...</td>\n",
              "      <td>{'Monday': '0:0-0:0', 'Tuesday': '0:0-0:0', 'W...</td>\n",
              "    </tr>\n",
              "    <tr>\n",
              "      <th>361</th>\n",
              "      <td>aNXw3PkXVt8ANwLyCfcmpg</td>\n",
              "      <td>McDonald's</td>\n",
              "      <td>2333 Welsh Rd</td>\n",
              "      <td>Lansdale</td>\n",
              "      <td>NJ</td>\n",
              "      <td>19446</td>\n",
              "      <td>40.263706</td>\n",
              "      <td>-75.317916</td>\n",
              "      <td>1.5</td>\n",
              "      <td>17</td>\n",
              "      <td>1</td>\n",
              "      <td>{'WiFi': 'u'free'', 'GoodForKids': 'True', 'Bu...</td>\n",
              "      <td>Restaurants, Fast Food, Burgers, Food, Coffee ...</td>\n",
              "      <td>{'Monday': '6:0-23:0', 'Tuesday': '6:0-23:0', ...</td>\n",
              "    </tr>\n",
              "  </tbody>\n",
              "</table>\n",
              "</div>"
            ],
            "text/plain": [
              "                Business_Id        Name           Address       City State  \\\n",
              "193  yM8LlTInbQH4FwWC97lz6w  McDonald's  1919 S Jefferson  St. Louis    PA   \n",
              "361  aNXw3PkXVt8ANwLyCfcmpg  McDonald's     2333 Welsh Rd   Lansdale    NJ   \n",
              "\n",
              "    Postal_Code   Latitude  Longitude Stars Review_Count Is_Open  \\\n",
              "193       63104  38.612495 -90.221942   1.5          100       1   \n",
              "361       19446  40.263706 -75.317916   1.5           17       1   \n",
              "\n",
              "                                            Attributes  \\\n",
              "193  {'Alcohol': 'u'none'', 'BikeParking': 'True', ...   \n",
              "361  {'WiFi': 'u'free'', 'GoodForKids': 'True', 'Bu...   \n",
              "\n",
              "                                            Categories  \\\n",
              "193  Fast Food, Restaurants, Food, Burgers, Coffee ...   \n",
              "361  Restaurants, Fast Food, Burgers, Food, Coffee ...   \n",
              "\n",
              "                                                 Hours  \n",
              "193  {'Monday': '0:0-0:0', 'Tuesday': '0:0-0:0', 'W...  \n",
              "361  {'Monday': '6:0-23:0', 'Tuesday': '6:0-23:0', ...  "
            ]
          },
          "execution_count": 25,
          "metadata": {},
          "output_type": "execute_result"
        }
      ],
      "source": [
        "df_mcdonalds.head(2)"
      ]
    },
    {
      "cell_type": "code",
      "execution_count": 148,
      "metadata": {},
      "outputs": [],
      "source": [
        "df_mcdonalds.to_parquet('./Datos/Archivos Filtrados/business_mcdonalds.parquet')"
      ]
    },
    {
      "cell_type": "markdown",
      "metadata": {
        "id": "4Yl4d144Cn_7"
      },
      "source": [
        "### Checkin 📊"
      ]
    },
    {
      "cell_type": "markdown",
      "metadata": {},
      "source": [
        "*Definimos la ruta del archivo :*"
      ]
    },
    {
      "cell_type": "code",
      "execution_count": 26,
      "metadata": {
        "id": "XpAv2_7sDdsE"
      },
      "outputs": [],
      "source": [
        "ruta = './Datos/Yelp/checkin.json'"
      ]
    },
    {
      "cell_type": "markdown",
      "metadata": {},
      "source": [
        "*Almacenamos el contenido del archivo en un DataFrame:*"
      ]
    },
    {
      "cell_type": "code",
      "execution_count": 27,
      "metadata": {
        "colab": {
          "base_uri": "https://localhost:8080/",
          "height": 112
        },
        "id": "iW6mukTkEDK0",
        "outputId": "ebfd9661-46bf-43f9-e8ff-dcb94f0d061e"
      },
      "outputs": [],
      "source": [
        "df_checkin = pd.read_json(ruta, lines=True)"
      ]
    },
    {
      "cell_type": "markdown",
      "metadata": {},
      "source": [
        "*Visualizamos la estructura del DataFrame:*"
      ]
    },
    {
      "cell_type": "code",
      "execution_count": 28,
      "metadata": {},
      "outputs": [
        {
          "data": {
            "text/html": [
              "<div>\n",
              "<style scoped>\n",
              "    .dataframe tbody tr th:only-of-type {\n",
              "        vertical-align: middle;\n",
              "    }\n",
              "\n",
              "    .dataframe tbody tr th {\n",
              "        vertical-align: top;\n",
              "    }\n",
              "\n",
              "    .dataframe thead th {\n",
              "        text-align: right;\n",
              "    }\n",
              "</style>\n",
              "<table border=\"1\" class=\"dataframe\">\n",
              "  <thead>\n",
              "    <tr style=\"text-align: right;\">\n",
              "      <th></th>\n",
              "      <th>business_id</th>\n",
              "      <th>date</th>\n",
              "    </tr>\n",
              "  </thead>\n",
              "  <tbody>\n",
              "    <tr>\n",
              "      <th>0</th>\n",
              "      <td>---kPU91CF4Lq2-WlRu9Lw</td>\n",
              "      <td>2020-03-13 21:10:56, 2020-06-02 22:18:06, 2020...</td>\n",
              "    </tr>\n",
              "    <tr>\n",
              "      <th>1</th>\n",
              "      <td>--0iUa4sNDFiZFrAdIWhZQ</td>\n",
              "      <td>2010-09-13 21:43:09, 2011-05-04 23:08:15, 2011...</td>\n",
              "    </tr>\n",
              "  </tbody>\n",
              "</table>\n",
              "</div>"
            ],
            "text/plain": [
              "              business_id                                               date\n",
              "0  ---kPU91CF4Lq2-WlRu9Lw  2020-03-13 21:10:56, 2020-06-02 22:18:06, 2020...\n",
              "1  --0iUa4sNDFiZFrAdIWhZQ  2010-09-13 21:43:09, 2011-05-04 23:08:15, 2011..."
            ]
          },
          "execution_count": 28,
          "metadata": {},
          "output_type": "execute_result"
        }
      ],
      "source": [
        "df_checkin.head(2)"
      ]
    },
    {
      "cell_type": "markdown",
      "metadata": {},
      "source": [
        "*Normalizamos los nombres de las columnas del DataFrame:*"
      ]
    },
    {
      "cell_type": "code",
      "execution_count": 29,
      "metadata": {},
      "outputs": [
        {
          "data": {
            "text/html": [
              "<div>\n",
              "<style scoped>\n",
              "    .dataframe tbody tr th:only-of-type {\n",
              "        vertical-align: middle;\n",
              "    }\n",
              "\n",
              "    .dataframe tbody tr th {\n",
              "        vertical-align: top;\n",
              "    }\n",
              "\n",
              "    .dataframe thead th {\n",
              "        text-align: right;\n",
              "    }\n",
              "</style>\n",
              "<table border=\"1\" class=\"dataframe\">\n",
              "  <thead>\n",
              "    <tr style=\"text-align: right;\">\n",
              "      <th></th>\n",
              "      <th>Business_Id</th>\n",
              "      <th>Date</th>\n",
              "    </tr>\n",
              "  </thead>\n",
              "  <tbody>\n",
              "    <tr>\n",
              "      <th>0</th>\n",
              "      <td>---kPU91CF4Lq2-WlRu9Lw</td>\n",
              "      <td>2020-03-13 21:10:56, 2020-06-02 22:18:06, 2020...</td>\n",
              "    </tr>\n",
              "    <tr>\n",
              "      <th>1</th>\n",
              "      <td>--0iUa4sNDFiZFrAdIWhZQ</td>\n",
              "      <td>2010-09-13 21:43:09, 2011-05-04 23:08:15, 2011...</td>\n",
              "    </tr>\n",
              "    <tr>\n",
              "      <th>2</th>\n",
              "      <td>--30_8IhuyMHbSOcNWd6DQ</td>\n",
              "      <td>2013-06-14 23:29:17, 2014-08-13 23:20:22</td>\n",
              "    </tr>\n",
              "    <tr>\n",
              "      <th>3</th>\n",
              "      <td>--7PUidqRWpRSpXebiyxTg</td>\n",
              "      <td>2011-02-15 17:12:00, 2011-07-28 02:46:10, 2012...</td>\n",
              "    </tr>\n",
              "    <tr>\n",
              "      <th>4</th>\n",
              "      <td>--7jw19RH9JKXgFohspgQw</td>\n",
              "      <td>2014-04-21 20:42:11, 2014-04-28 21:04:46, 2014...</td>\n",
              "    </tr>\n",
              "    <tr>\n",
              "      <th>...</th>\n",
              "      <td>...</td>\n",
              "      <td>...</td>\n",
              "    </tr>\n",
              "    <tr>\n",
              "      <th>131925</th>\n",
              "      <td>zznJox6-nmXlGYNWgTDwQQ</td>\n",
              "      <td>2013-03-23 16:22:47, 2013-04-07 02:03:12, 2013...</td>\n",
              "    </tr>\n",
              "    <tr>\n",
              "      <th>131926</th>\n",
              "      <td>zznZqH9CiAznbkV6fXyHWA</td>\n",
              "      <td>2021-06-12 01:16:12</td>\n",
              "    </tr>\n",
              "    <tr>\n",
              "      <th>131927</th>\n",
              "      <td>zzu6_r3DxBJuXcjnOYVdTw</td>\n",
              "      <td>2011-05-24 01:35:13, 2012-01-01 23:44:33, 2012...</td>\n",
              "    </tr>\n",
              "    <tr>\n",
              "      <th>131928</th>\n",
              "      <td>zzw66H6hVjXQEt0Js3Mo4A</td>\n",
              "      <td>2016-12-03 23:33:26, 2018-12-02 19:08:45</td>\n",
              "    </tr>\n",
              "    <tr>\n",
              "      <th>131929</th>\n",
              "      <td>zzyx5x0Z7xXWWvWnZFuxlQ</td>\n",
              "      <td>2015-01-06 17:51:53</td>\n",
              "    </tr>\n",
              "  </tbody>\n",
              "</table>\n",
              "<p>131930 rows × 2 columns</p>\n",
              "</div>"
            ],
            "text/plain": [
              "                   Business_Id  \\\n",
              "0       ---kPU91CF4Lq2-WlRu9Lw   \n",
              "1       --0iUa4sNDFiZFrAdIWhZQ   \n",
              "2       --30_8IhuyMHbSOcNWd6DQ   \n",
              "3       --7PUidqRWpRSpXebiyxTg   \n",
              "4       --7jw19RH9JKXgFohspgQw   \n",
              "...                        ...   \n",
              "131925  zznJox6-nmXlGYNWgTDwQQ   \n",
              "131926  zznZqH9CiAznbkV6fXyHWA   \n",
              "131927  zzu6_r3DxBJuXcjnOYVdTw   \n",
              "131928  zzw66H6hVjXQEt0Js3Mo4A   \n",
              "131929  zzyx5x0Z7xXWWvWnZFuxlQ   \n",
              "\n",
              "                                                     Date  \n",
              "0       2020-03-13 21:10:56, 2020-06-02 22:18:06, 2020...  \n",
              "1       2010-09-13 21:43:09, 2011-05-04 23:08:15, 2011...  \n",
              "2                2013-06-14 23:29:17, 2014-08-13 23:20:22  \n",
              "3       2011-02-15 17:12:00, 2011-07-28 02:46:10, 2012...  \n",
              "4       2014-04-21 20:42:11, 2014-04-28 21:04:46, 2014...  \n",
              "...                                                   ...  \n",
              "131925  2013-03-23 16:22:47, 2013-04-07 02:03:12, 2013...  \n",
              "131926                                2021-06-12 01:16:12  \n",
              "131927  2011-05-24 01:35:13, 2012-01-01 23:44:33, 2012...  \n",
              "131928           2016-12-03 23:33:26, 2018-12-02 19:08:45  \n",
              "131929                                2015-01-06 17:51:53  \n",
              "\n",
              "[131930 rows x 2 columns]"
            ]
          },
          "execution_count": 29,
          "metadata": {},
          "output_type": "execute_result"
        }
      ],
      "source": [
        "ut.normalizacion_columnas(df_checkin)"
      ]
    },
    {
      "cell_type": "markdown",
      "metadata": {},
      "source": [
        "*Para poder filtrar los registros, nos quedaremos con las columnas **Name** y **Business_Id** del **df_mcdonalds** (DataFrame que contiene toda la información del comercio):*"
      ]
    },
    {
      "cell_type": "code",
      "execution_count": 30,
      "metadata": {},
      "outputs": [],
      "source": [
        "mcdonalds = df_mcdonalds[['Name', 'Business_Id']]"
      ]
    },
    {
      "cell_type": "markdown",
      "metadata": {},
      "source": [
        "*Luego, uniremos ambos DataFrames, **mcdonalds** y **df_checkin**, para quedarnos solo con los registros del comercio de nuestro interes:*"
      ]
    },
    {
      "cell_type": "code",
      "execution_count": 31,
      "metadata": {},
      "outputs": [],
      "source": [
        "checkin_mcdonalds = mcdonalds.merge(df_checkin, on='Business_Id', how='left')"
      ]
    },
    {
      "cell_type": "markdown",
      "metadata": {},
      "source": [
        "*Verificamos:*"
      ]
    },
    {
      "cell_type": "code",
      "execution_count": 32,
      "metadata": {},
      "outputs": [
        {
          "data": {
            "text/html": [
              "<div>\n",
              "<style scoped>\n",
              "    .dataframe tbody tr th:only-of-type {\n",
              "        vertical-align: middle;\n",
              "    }\n",
              "\n",
              "    .dataframe tbody tr th {\n",
              "        vertical-align: top;\n",
              "    }\n",
              "\n",
              "    .dataframe thead th {\n",
              "        text-align: right;\n",
              "    }\n",
              "</style>\n",
              "<table border=\"1\" class=\"dataframe\">\n",
              "  <thead>\n",
              "    <tr style=\"text-align: right;\">\n",
              "      <th></th>\n",
              "      <th>Name</th>\n",
              "      <th>Business_Id</th>\n",
              "      <th>Date</th>\n",
              "    </tr>\n",
              "  </thead>\n",
              "  <tbody>\n",
              "    <tr>\n",
              "      <th>0</th>\n",
              "      <td>McDonald's</td>\n",
              "      <td>yM8LlTInbQH4FwWC97lz6w</td>\n",
              "      <td>2010-07-05 01:18:34, 2010-07-14 13:22:59, 2010...</td>\n",
              "    </tr>\n",
              "    <tr>\n",
              "      <th>1</th>\n",
              "      <td>McDonald's</td>\n",
              "      <td>aNXw3PkXVt8ANwLyCfcmpg</td>\n",
              "      <td>2012-03-15 13:38:23, 2012-06-17 00:03:02, 2012...</td>\n",
              "    </tr>\n",
              "  </tbody>\n",
              "</table>\n",
              "</div>"
            ],
            "text/plain": [
              "         Name             Business_Id  \\\n",
              "0  McDonald's  yM8LlTInbQH4FwWC97lz6w   \n",
              "1  McDonald's  aNXw3PkXVt8ANwLyCfcmpg   \n",
              "\n",
              "                                                Date  \n",
              "0  2010-07-05 01:18:34, 2010-07-14 13:22:59, 2010...  \n",
              "1  2012-03-15 13:38:23, 2012-06-17 00:03:02, 2012...  "
            ]
          },
          "execution_count": 32,
          "metadata": {},
          "output_type": "execute_result"
        }
      ],
      "source": [
        "checkin_mcdonalds.head(2)"
      ]
    },
    {
      "cell_type": "markdown",
      "metadata": {},
      "source": [
        "*Eliminaremos la columna **Business_Id**, por que no es relevante, ya que ahora tenemos el nombre del comercio:*"
      ]
    },
    {
      "cell_type": "code",
      "execution_count": 33,
      "metadata": {},
      "outputs": [],
      "source": [
        "checkin_mcdonalds.drop('Business_Id', axis=1, inplace=True)"
      ]
    },
    {
      "cell_type": "markdown",
      "metadata": {},
      "source": [
        "*Guardamos el DataFrame resultante para su posterior uso:*"
      ]
    },
    {
      "cell_type": "code",
      "execution_count": 34,
      "metadata": {},
      "outputs": [],
      "source": [
        "checkin_mcdonalds.to_parquet('./Datos/Archivos Filtrados/checkin_mcdonalds.parquet')"
      ]
    },
    {
      "cell_type": "markdown",
      "metadata": {
        "id": "Pi0CcgWsEWg3"
      },
      "source": [
        "### Tip 📊"
      ]
    },
    {
      "cell_type": "markdown",
      "metadata": {},
      "source": [
        "*Definimos la ruta del archivo :*"
      ]
    },
    {
      "cell_type": "code",
      "execution_count": 35,
      "metadata": {
        "id": "NQHC5AfOELo-"
      },
      "outputs": [],
      "source": [
        "ruta = './Datos/Yelp/tip.json' "
      ]
    },
    {
      "cell_type": "markdown",
      "metadata": {},
      "source": [
        "*Almacenamos el contenido del archivo en un DataFrame:*"
      ]
    },
    {
      "cell_type": "code",
      "execution_count": 36,
      "metadata": {
        "colab": {
          "base_uri": "https://localhost:8080/",
          "height": 112
        },
        "id": "2QX85NMwE4yz",
        "outputId": "1ba9fbe7-549a-4498-d3bd-96d3973aee6a"
      },
      "outputs": [],
      "source": [
        "df_tip = pd.read_json(ruta, lines=True)"
      ]
    },
    {
      "cell_type": "markdown",
      "metadata": {},
      "source": [
        "*Visualizamos la estructura del DataFrame:*"
      ]
    },
    {
      "cell_type": "code",
      "execution_count": 39,
      "metadata": {},
      "outputs": [
        {
          "data": {
            "text/html": [
              "<div>\n",
              "<style scoped>\n",
              "    .dataframe tbody tr th:only-of-type {\n",
              "        vertical-align: middle;\n",
              "    }\n",
              "\n",
              "    .dataframe tbody tr th {\n",
              "        vertical-align: top;\n",
              "    }\n",
              "\n",
              "    .dataframe thead th {\n",
              "        text-align: right;\n",
              "    }\n",
              "</style>\n",
              "<table border=\"1\" class=\"dataframe\">\n",
              "  <thead>\n",
              "    <tr style=\"text-align: right;\">\n",
              "      <th></th>\n",
              "      <th>user_id</th>\n",
              "      <th>business_id</th>\n",
              "      <th>text</th>\n",
              "      <th>date</th>\n",
              "      <th>compliment_count</th>\n",
              "    </tr>\n",
              "  </thead>\n",
              "  <tbody>\n",
              "    <tr>\n",
              "      <th>0</th>\n",
              "      <td>AGNUgVwnZUey3gcPCJ76iw</td>\n",
              "      <td>3uLgwr0qeCNMjKenHJwPGQ</td>\n",
              "      <td>Avengers time with the ladies.</td>\n",
              "      <td>2012-05-18 02:17:21</td>\n",
              "      <td>0</td>\n",
              "    </tr>\n",
              "    <tr>\n",
              "      <th>1</th>\n",
              "      <td>NBN4MgHP9D3cw--SnauTkA</td>\n",
              "      <td>QoezRbYQncpRqyrLH6Iqjg</td>\n",
              "      <td>They have lots of good deserts and tasty cuban...</td>\n",
              "      <td>2013-02-05 18:35:10</td>\n",
              "      <td>0</td>\n",
              "    </tr>\n",
              "  </tbody>\n",
              "</table>\n",
              "</div>"
            ],
            "text/plain": [
              "                  user_id             business_id  \\\n",
              "0  AGNUgVwnZUey3gcPCJ76iw  3uLgwr0qeCNMjKenHJwPGQ   \n",
              "1  NBN4MgHP9D3cw--SnauTkA  QoezRbYQncpRqyrLH6Iqjg   \n",
              "\n",
              "                                                text                date  \\\n",
              "0                     Avengers time with the ladies. 2012-05-18 02:17:21   \n",
              "1  They have lots of good deserts and tasty cuban... 2013-02-05 18:35:10   \n",
              "\n",
              "   compliment_count  \n",
              "0                 0  \n",
              "1                 0  "
            ]
          },
          "execution_count": 39,
          "metadata": {},
          "output_type": "execute_result"
        }
      ],
      "source": [
        "df_tip.head(2)"
      ]
    },
    {
      "cell_type": "markdown",
      "metadata": {},
      "source": [
        "*Normalizamos los nombres de las columnas:*"
      ]
    },
    {
      "cell_type": "code",
      "execution_count": 40,
      "metadata": {},
      "outputs": [
        {
          "data": {
            "text/html": [
              "<div>\n",
              "<style scoped>\n",
              "    .dataframe tbody tr th:only-of-type {\n",
              "        vertical-align: middle;\n",
              "    }\n",
              "\n",
              "    .dataframe tbody tr th {\n",
              "        vertical-align: top;\n",
              "    }\n",
              "\n",
              "    .dataframe thead th {\n",
              "        text-align: right;\n",
              "    }\n",
              "</style>\n",
              "<table border=\"1\" class=\"dataframe\">\n",
              "  <thead>\n",
              "    <tr style=\"text-align: right;\">\n",
              "      <th></th>\n",
              "      <th>User_Id</th>\n",
              "      <th>Business_Id</th>\n",
              "      <th>Text</th>\n",
              "      <th>Date</th>\n",
              "      <th>Compliment_Count</th>\n",
              "    </tr>\n",
              "  </thead>\n",
              "  <tbody>\n",
              "    <tr>\n",
              "      <th>0</th>\n",
              "      <td>AGNUgVwnZUey3gcPCJ76iw</td>\n",
              "      <td>3uLgwr0qeCNMjKenHJwPGQ</td>\n",
              "      <td>Avengers time with the ladies.</td>\n",
              "      <td>2012-05-18 02:17:21</td>\n",
              "      <td>0</td>\n",
              "    </tr>\n",
              "    <tr>\n",
              "      <th>1</th>\n",
              "      <td>NBN4MgHP9D3cw--SnauTkA</td>\n",
              "      <td>QoezRbYQncpRqyrLH6Iqjg</td>\n",
              "      <td>They have lots of good deserts and tasty cuban...</td>\n",
              "      <td>2013-02-05 18:35:10</td>\n",
              "      <td>0</td>\n",
              "    </tr>\n",
              "    <tr>\n",
              "      <th>2</th>\n",
              "      <td>-copOvldyKh1qr-vzkDEvw</td>\n",
              "      <td>MYoRNLb5chwjQe3c_k37Gg</td>\n",
              "      <td>It's open even when you think it isn't</td>\n",
              "      <td>2013-08-18 00:56:08</td>\n",
              "      <td>0</td>\n",
              "    </tr>\n",
              "    <tr>\n",
              "      <th>3</th>\n",
              "      <td>FjMQVZjSqY8syIO-53KFKw</td>\n",
              "      <td>hV-bABTK-glh5wj31ps_Jw</td>\n",
              "      <td>Very decent fried chicken</td>\n",
              "      <td>2017-06-27 23:05:38</td>\n",
              "      <td>0</td>\n",
              "    </tr>\n",
              "    <tr>\n",
              "      <th>4</th>\n",
              "      <td>ld0AperBXk1h6UbqmM80zw</td>\n",
              "      <td>_uN0OudeJ3Zl_tf6nxg5ww</td>\n",
              "      <td>Appetizers.. platter special for lunch</td>\n",
              "      <td>2012-10-06 19:43:09</td>\n",
              "      <td>0</td>\n",
              "    </tr>\n",
              "    <tr>\n",
              "      <th>...</th>\n",
              "      <td>...</td>\n",
              "      <td>...</td>\n",
              "      <td>...</td>\n",
              "      <td>...</td>\n",
              "      <td>...</td>\n",
              "    </tr>\n",
              "    <tr>\n",
              "      <th>908910</th>\n",
              "      <td>eYodOTF8pkqKPzHkcxZs-Q</td>\n",
              "      <td>3lHTewuKFt5IImbXJoFeDQ</td>\n",
              "      <td>Disappointed in one of your managers.</td>\n",
              "      <td>2021-09-11 19:18:57</td>\n",
              "      <td>0</td>\n",
              "    </tr>\n",
              "    <tr>\n",
              "      <th>908911</th>\n",
              "      <td>1uxtQAuJ2T5Xwa_wp7kUnA</td>\n",
              "      <td>OaGf0Dp56ARhQwIDT90w_g</td>\n",
              "      <td>Great food and service.</td>\n",
              "      <td>2021-10-30 11:54:36</td>\n",
              "      <td>0</td>\n",
              "    </tr>\n",
              "    <tr>\n",
              "      <th>908912</th>\n",
              "      <td>v48Spe6WEpqehsF2xQADpg</td>\n",
              "      <td>hYnMeAO77RGyTtIzUSKYzQ</td>\n",
              "      <td>Love their Cubans!!</td>\n",
              "      <td>2021-11-05 13:18:56</td>\n",
              "      <td>0</td>\n",
              "    </tr>\n",
              "    <tr>\n",
              "      <th>908913</th>\n",
              "      <td>ckqKGM2hl7I9Chp5IpAhkw</td>\n",
              "      <td>s2eyoTuJrcP7I_XyjdhUHQ</td>\n",
              "      <td>Great pizza great price</td>\n",
              "      <td>2021-11-20 16:11:44</td>\n",
              "      <td>0</td>\n",
              "    </tr>\n",
              "    <tr>\n",
              "      <th>908914</th>\n",
              "      <td>4tF1CWdMxvvwpUIgGsDygA</td>\n",
              "      <td>_cb1Vg1NIWry8UA0jyuXnQ</td>\n",
              "      <td>Food is good value but a bit hot!</td>\n",
              "      <td>2021-12-07 22:30:00</td>\n",
              "      <td>0</td>\n",
              "    </tr>\n",
              "  </tbody>\n",
              "</table>\n",
              "<p>908915 rows × 5 columns</p>\n",
              "</div>"
            ],
            "text/plain": [
              "                       User_Id             Business_Id  \\\n",
              "0       AGNUgVwnZUey3gcPCJ76iw  3uLgwr0qeCNMjKenHJwPGQ   \n",
              "1       NBN4MgHP9D3cw--SnauTkA  QoezRbYQncpRqyrLH6Iqjg   \n",
              "2       -copOvldyKh1qr-vzkDEvw  MYoRNLb5chwjQe3c_k37Gg   \n",
              "3       FjMQVZjSqY8syIO-53KFKw  hV-bABTK-glh5wj31ps_Jw   \n",
              "4       ld0AperBXk1h6UbqmM80zw  _uN0OudeJ3Zl_tf6nxg5ww   \n",
              "...                        ...                     ...   \n",
              "908910  eYodOTF8pkqKPzHkcxZs-Q  3lHTewuKFt5IImbXJoFeDQ   \n",
              "908911  1uxtQAuJ2T5Xwa_wp7kUnA  OaGf0Dp56ARhQwIDT90w_g   \n",
              "908912  v48Spe6WEpqehsF2xQADpg  hYnMeAO77RGyTtIzUSKYzQ   \n",
              "908913  ckqKGM2hl7I9Chp5IpAhkw  s2eyoTuJrcP7I_XyjdhUHQ   \n",
              "908914  4tF1CWdMxvvwpUIgGsDygA  _cb1Vg1NIWry8UA0jyuXnQ   \n",
              "\n",
              "                                                     Text                Date  \\\n",
              "0                          Avengers time with the ladies. 2012-05-18 02:17:21   \n",
              "1       They have lots of good deserts and tasty cuban... 2013-02-05 18:35:10   \n",
              "2                  It's open even when you think it isn't 2013-08-18 00:56:08   \n",
              "3                               Very decent fried chicken 2017-06-27 23:05:38   \n",
              "4                  Appetizers.. platter special for lunch 2012-10-06 19:43:09   \n",
              "...                                                   ...                 ...   \n",
              "908910              Disappointed in one of your managers. 2021-09-11 19:18:57   \n",
              "908911                            Great food and service. 2021-10-30 11:54:36   \n",
              "908912                                Love their Cubans!! 2021-11-05 13:18:56   \n",
              "908913                            Great pizza great price 2021-11-20 16:11:44   \n",
              "908914                  Food is good value but a bit hot! 2021-12-07 22:30:00   \n",
              "\n",
              "        Compliment_Count  \n",
              "0                      0  \n",
              "1                      0  \n",
              "2                      0  \n",
              "3                      0  \n",
              "4                      0  \n",
              "...                  ...  \n",
              "908910                 0  \n",
              "908911                 0  \n",
              "908912                 0  \n",
              "908913                 0  \n",
              "908914                 0  \n",
              "\n",
              "[908915 rows x 5 columns]"
            ]
          },
          "execution_count": 40,
          "metadata": {},
          "output_type": "execute_result"
        }
      ],
      "source": [
        "ut.normalizacion_columnas(df_tip)"
      ]
    },
    {
      "cell_type": "markdown",
      "metadata": {},
      "source": [
        "*El DataFrame generado anteriormente, **mcdonalds**, lo uniremos al DataFrame **df_tip** para quedarnos con los tips del comercio de nuestro interes:*"
      ]
    },
    {
      "cell_type": "code",
      "execution_count": 42,
      "metadata": {},
      "outputs": [],
      "source": [
        "tip_mcdonalds = mcdonalds.merge(df_tip, on='Business_Id', how='left')"
      ]
    },
    {
      "cell_type": "markdown",
      "metadata": {},
      "source": [
        "*Verificamos:*"
      ]
    },
    {
      "cell_type": "code",
      "execution_count": 45,
      "metadata": {},
      "outputs": [
        {
          "data": {
            "text/html": [
              "<div>\n",
              "<style scoped>\n",
              "    .dataframe tbody tr th:only-of-type {\n",
              "        vertical-align: middle;\n",
              "    }\n",
              "\n",
              "    .dataframe tbody tr th {\n",
              "        vertical-align: top;\n",
              "    }\n",
              "\n",
              "    .dataframe thead th {\n",
              "        text-align: right;\n",
              "    }\n",
              "</style>\n",
              "<table border=\"1\" class=\"dataframe\">\n",
              "  <thead>\n",
              "    <tr style=\"text-align: right;\">\n",
              "      <th></th>\n",
              "      <th>Name</th>\n",
              "      <th>Business_Id</th>\n",
              "      <th>User_Id</th>\n",
              "      <th>Text</th>\n",
              "      <th>Date</th>\n",
              "      <th>Compliment_Count</th>\n",
              "    </tr>\n",
              "  </thead>\n",
              "  <tbody>\n",
              "    <tr>\n",
              "      <th>0</th>\n",
              "      <td>McDonald's</td>\n",
              "      <td>yM8LlTInbQH4FwWC97lz6w</td>\n",
              "      <td>jCLjVfSMbvLkSH2ZMkryZQ</td>\n",
              "      <td>Oatmeal on the go</td>\n",
              "      <td>2011-12-16 13:54:39</td>\n",
              "      <td>0.0</td>\n",
              "    </tr>\n",
              "    <tr>\n",
              "      <th>1</th>\n",
              "      <td>McDonald's</td>\n",
              "      <td>yM8LlTInbQH4FwWC97lz6w</td>\n",
              "      <td>6-7HgY0b84ocY9ACESLApA</td>\n",
              "      <td>Awful service.</td>\n",
              "      <td>2015-05-23 17:02:08</td>\n",
              "      <td>0.0</td>\n",
              "    </tr>\n",
              "  </tbody>\n",
              "</table>\n",
              "</div>"
            ],
            "text/plain": [
              "         Name             Business_Id                 User_Id  \\\n",
              "0  McDonald's  yM8LlTInbQH4FwWC97lz6w  jCLjVfSMbvLkSH2ZMkryZQ   \n",
              "1  McDonald's  yM8LlTInbQH4FwWC97lz6w  6-7HgY0b84ocY9ACESLApA   \n",
              "\n",
              "                Text                Date  Compliment_Count  \n",
              "0  Oatmeal on the go 2011-12-16 13:54:39               0.0  \n",
              "1     Awful service. 2015-05-23 17:02:08               0.0  "
            ]
          },
          "execution_count": 45,
          "metadata": {},
          "output_type": "execute_result"
        }
      ],
      "source": [
        "tip_mcdonalds.head(2)"
      ]
    },
    {
      "cell_type": "markdown",
      "metadata": {},
      "source": [
        "*Eliminaremos la columna **Business_Id**, por que no es relevante, ya que ahora tenemos el nombre del comercio:*"
      ]
    },
    {
      "cell_type": "code",
      "execution_count": 46,
      "metadata": {},
      "outputs": [],
      "source": [
        "tip_mcdonalds.drop(columns= 'Business_Id', inplace=True)"
      ]
    },
    {
      "cell_type": "markdown",
      "metadata": {},
      "source": [
        "*Guardamos el DataFrame resultante para su posterior uso:*"
      ]
    },
    {
      "cell_type": "code",
      "execution_count": 47,
      "metadata": {},
      "outputs": [],
      "source": [
        "tip_mcdonalds.to_parquet('./Datos/Archivos Filtrados/tip_mcdonalds.parquet')"
      ]
    },
    {
      "cell_type": "markdown",
      "metadata": {
        "id": "BphPucwXFTqe"
      },
      "source": [
        "### Review 📊"
      ]
    },
    {
      "cell_type": "markdown",
      "metadata": {},
      "source": [
        "*Definimos la ruta del archivo :*"
      ]
    },
    {
      "cell_type": "code",
      "execution_count": 49,
      "metadata": {
        "id": "ehnkw0gpFVY0"
      },
      "outputs": [],
      "source": [
        "ruta = './Datos/Yelp/review.json' "
      ]
    },
    {
      "cell_type": "markdown",
      "metadata": {},
      "source": [
        "*Creamos un función que lea el archivo en formato **.json** en fragmentos de 10000 y lo almacene en una lista vacia. Concatenamos los frangmentos de DataFrame en uno solo y guardamos el archivo en formato **.parquet** para que su peso sea menor:*"
      ]
    },
    {
      "cell_type": "code",
      "execution_count": 50,
      "metadata": {},
      "outputs": [],
      "source": [
        "# Lista vacia para almacenar los fragmentos del DataFrame\n",
        "dataframes = []\n",
        "\n",
        "# Tamaño de los fragmentos\n",
        "tamano_fragmento = 10000\n",
        "\n",
        "# Leemos el archivo en fragmentos y creamos DataFrames\n",
        "with open(ruta, 'r') as file:\n",
        "    for chunk in pd.read_json(file, lines=True, chunksize=tamano_fragmento):\n",
        "        dataframes.append(chunk)\n",
        "\n",
        "# Concatenamos los DataFrames en uno solo\n",
        "df_final = pd.concat(dataframes, ignore_index=True)\n",
        "\n",
        "# Guardamos el DataFrame en formato Parquet para que su peso sea menor\n",
        "df_final.to_parquet('review_temporal.parquet')\n"
      ]
    },
    {
      "cell_type": "markdown",
      "metadata": {},
      "source": [
        "*Almacenamos el contenido del archivo en un DataFrame, para su posterior transformación:*"
      ]
    },
    {
      "cell_type": "code",
      "execution_count": 51,
      "metadata": {},
      "outputs": [],
      "source": [
        "df_reviews = pd.read_parquet('review_temporal.parquet')"
      ]
    },
    {
      "cell_type": "markdown",
      "metadata": {},
      "source": [
        "*Visualizamos la estructura del DataFrame:*"
      ]
    },
    {
      "cell_type": "code",
      "execution_count": 52,
      "metadata": {},
      "outputs": [
        {
          "data": {
            "text/html": [
              "<div>\n",
              "<style scoped>\n",
              "    .dataframe tbody tr th:only-of-type {\n",
              "        vertical-align: middle;\n",
              "    }\n",
              "\n",
              "    .dataframe tbody tr th {\n",
              "        vertical-align: top;\n",
              "    }\n",
              "\n",
              "    .dataframe thead th {\n",
              "        text-align: right;\n",
              "    }\n",
              "</style>\n",
              "<table border=\"1\" class=\"dataframe\">\n",
              "  <thead>\n",
              "    <tr style=\"text-align: right;\">\n",
              "      <th></th>\n",
              "      <th>review_id</th>\n",
              "      <th>user_id</th>\n",
              "      <th>business_id</th>\n",
              "      <th>stars</th>\n",
              "      <th>useful</th>\n",
              "      <th>funny</th>\n",
              "      <th>cool</th>\n",
              "      <th>text</th>\n",
              "      <th>date</th>\n",
              "    </tr>\n",
              "  </thead>\n",
              "  <tbody>\n",
              "    <tr>\n",
              "      <th>0</th>\n",
              "      <td>KU_O5udG6zpxOg-VcAEodg</td>\n",
              "      <td>mh_-eMZ6K5RLWhZyISBhwA</td>\n",
              "      <td>XQfwVwDr-v0ZS3_CbbE5Xw</td>\n",
              "      <td>3</td>\n",
              "      <td>0</td>\n",
              "      <td>0</td>\n",
              "      <td>0</td>\n",
              "      <td>If you decide to eat here, just be aware it is...</td>\n",
              "      <td>2018-07-07 22:09:11</td>\n",
              "    </tr>\n",
              "    <tr>\n",
              "      <th>1</th>\n",
              "      <td>BiTunyQ73aT9WBnpR9DZGw</td>\n",
              "      <td>OyoGAe7OKpv6SyGZT5g77Q</td>\n",
              "      <td>7ATYjTIgM3jUlt4UM3IypQ</td>\n",
              "      <td>5</td>\n",
              "      <td>1</td>\n",
              "      <td>0</td>\n",
              "      <td>1</td>\n",
              "      <td>I've taken a lot of spin classes over the year...</td>\n",
              "      <td>2012-01-03 15:28:18</td>\n",
              "    </tr>\n",
              "  </tbody>\n",
              "</table>\n",
              "</div>"
            ],
            "text/plain": [
              "                review_id                 user_id             business_id  \\\n",
              "0  KU_O5udG6zpxOg-VcAEodg  mh_-eMZ6K5RLWhZyISBhwA  XQfwVwDr-v0ZS3_CbbE5Xw   \n",
              "1  BiTunyQ73aT9WBnpR9DZGw  OyoGAe7OKpv6SyGZT5g77Q  7ATYjTIgM3jUlt4UM3IypQ   \n",
              "\n",
              "   stars  useful  funny  cool  \\\n",
              "0      3       0      0     0   \n",
              "1      5       1      0     1   \n",
              "\n",
              "                                                text                date  \n",
              "0  If you decide to eat here, just be aware it is... 2018-07-07 22:09:11  \n",
              "1  I've taken a lot of spin classes over the year... 2012-01-03 15:28:18  "
            ]
          },
          "execution_count": 52,
          "metadata": {},
          "output_type": "execute_result"
        }
      ],
      "source": [
        "df_reviews.head(2)"
      ]
    },
    {
      "cell_type": "markdown",
      "metadata": {},
      "source": [
        "*Normalizamos los nombres de las columnas del DataFrame:*"
      ]
    },
    {
      "cell_type": "code",
      "execution_count": 53,
      "metadata": {},
      "outputs": [
        {
          "data": {
            "text/html": [
              "<div>\n",
              "<style scoped>\n",
              "    .dataframe tbody tr th:only-of-type {\n",
              "        vertical-align: middle;\n",
              "    }\n",
              "\n",
              "    .dataframe tbody tr th {\n",
              "        vertical-align: top;\n",
              "    }\n",
              "\n",
              "    .dataframe thead th {\n",
              "        text-align: right;\n",
              "    }\n",
              "</style>\n",
              "<table border=\"1\" class=\"dataframe\">\n",
              "  <thead>\n",
              "    <tr style=\"text-align: right;\">\n",
              "      <th></th>\n",
              "      <th>Review_Id</th>\n",
              "      <th>User_Id</th>\n",
              "      <th>Business_Id</th>\n",
              "      <th>Stars</th>\n",
              "      <th>Useful</th>\n",
              "      <th>Funny</th>\n",
              "      <th>Cool</th>\n",
              "      <th>Text</th>\n",
              "      <th>Date</th>\n",
              "    </tr>\n",
              "  </thead>\n",
              "  <tbody>\n",
              "    <tr>\n",
              "      <th>0</th>\n",
              "      <td>KU_O5udG6zpxOg-VcAEodg</td>\n",
              "      <td>mh_-eMZ6K5RLWhZyISBhwA</td>\n",
              "      <td>XQfwVwDr-v0ZS3_CbbE5Xw</td>\n",
              "      <td>3</td>\n",
              "      <td>0</td>\n",
              "      <td>0</td>\n",
              "      <td>0</td>\n",
              "      <td>If you decide to eat here, just be aware it is...</td>\n",
              "      <td>2018-07-07 22:09:11</td>\n",
              "    </tr>\n",
              "    <tr>\n",
              "      <th>1</th>\n",
              "      <td>BiTunyQ73aT9WBnpR9DZGw</td>\n",
              "      <td>OyoGAe7OKpv6SyGZT5g77Q</td>\n",
              "      <td>7ATYjTIgM3jUlt4UM3IypQ</td>\n",
              "      <td>5</td>\n",
              "      <td>1</td>\n",
              "      <td>0</td>\n",
              "      <td>1</td>\n",
              "      <td>I've taken a lot of spin classes over the year...</td>\n",
              "      <td>2012-01-03 15:28:18</td>\n",
              "    </tr>\n",
              "    <tr>\n",
              "      <th>2</th>\n",
              "      <td>saUsX_uimxRlCVr67Z4Jig</td>\n",
              "      <td>8g_iMtfSiwikVnbP2etR0A</td>\n",
              "      <td>YjUWPpI6HXG530lwP-fb2A</td>\n",
              "      <td>3</td>\n",
              "      <td>0</td>\n",
              "      <td>0</td>\n",
              "      <td>0</td>\n",
              "      <td>Family diner. Had the buffet. Eclectic assortm...</td>\n",
              "      <td>2014-02-05 20:30:30</td>\n",
              "    </tr>\n",
              "    <tr>\n",
              "      <th>3</th>\n",
              "      <td>AqPFMleE6RsU23_auESxiA</td>\n",
              "      <td>_7bHUi9Uuf5__HHc_Q8guQ</td>\n",
              "      <td>kxX2SOes4o-D3ZQBkiMRfA</td>\n",
              "      <td>5</td>\n",
              "      <td>1</td>\n",
              "      <td>0</td>\n",
              "      <td>1</td>\n",
              "      <td>Wow!  Yummy, different,  delicious.   Our favo...</td>\n",
              "      <td>2015-01-04 00:01:03</td>\n",
              "    </tr>\n",
              "    <tr>\n",
              "      <th>4</th>\n",
              "      <td>Sx8TMOWLNuJBWer-0pcmoA</td>\n",
              "      <td>bcjbaE6dDog4jkNY91ncLQ</td>\n",
              "      <td>e4Vwtrqf-wpJfwesgvdgxQ</td>\n",
              "      <td>4</td>\n",
              "      <td>1</td>\n",
              "      <td>0</td>\n",
              "      <td>1</td>\n",
              "      <td>Cute interior and owner (?) gave us tour of up...</td>\n",
              "      <td>2017-01-14 20:54:15</td>\n",
              "    </tr>\n",
              "    <tr>\n",
              "      <th>...</th>\n",
              "      <td>...</td>\n",
              "      <td>...</td>\n",
              "      <td>...</td>\n",
              "      <td>...</td>\n",
              "      <td>...</td>\n",
              "      <td>...</td>\n",
              "      <td>...</td>\n",
              "      <td>...</td>\n",
              "      <td>...</td>\n",
              "    </tr>\n",
              "    <tr>\n",
              "      <th>6990275</th>\n",
              "      <td>H0RIamZu0B0Ei0P4aeh3sQ</td>\n",
              "      <td>qskILQ3k0I_qcCMI-k6_QQ</td>\n",
              "      <td>jals67o91gcrD4DC81Vk6w</td>\n",
              "      <td>5</td>\n",
              "      <td>1</td>\n",
              "      <td>2</td>\n",
              "      <td>1</td>\n",
              "      <td>Latest addition to services from ICCU is Apple...</td>\n",
              "      <td>2014-12-17 21:45:20</td>\n",
              "    </tr>\n",
              "    <tr>\n",
              "      <th>6990276</th>\n",
              "      <td>shTPgbgdwTHSuU67mGCmZQ</td>\n",
              "      <td>Zo0th2m8Ez4gLSbHftiQvg</td>\n",
              "      <td>2vLksaMmSEcGbjI5gywpZA</td>\n",
              "      <td>5</td>\n",
              "      <td>2</td>\n",
              "      <td>1</td>\n",
              "      <td>2</td>\n",
              "      <td>This spot offers a great, affordable east week...</td>\n",
              "      <td>2021-03-31 16:55:10</td>\n",
              "    </tr>\n",
              "    <tr>\n",
              "      <th>6990277</th>\n",
              "      <td>YNfNhgZlaaCO5Q_YJR4rEw</td>\n",
              "      <td>mm6E4FbCMwJmb7kPDZ5v2Q</td>\n",
              "      <td>R1khUUxidqfaJmcpmGd4aw</td>\n",
              "      <td>4</td>\n",
              "      <td>1</td>\n",
              "      <td>0</td>\n",
              "      <td>0</td>\n",
              "      <td>This Home Depot won me over when I needed to g...</td>\n",
              "      <td>2019-12-30 03:56:30</td>\n",
              "    </tr>\n",
              "    <tr>\n",
              "      <th>6990278</th>\n",
              "      <td>i-I4ZOhoX70Nw5H0FwrQUA</td>\n",
              "      <td>YwAMC-jvZ1fvEUum6QkEkw</td>\n",
              "      <td>Rr9kKArrMhSLVE9a53q-aA</td>\n",
              "      <td>5</td>\n",
              "      <td>1</td>\n",
              "      <td>0</td>\n",
              "      <td>0</td>\n",
              "      <td>For when I'm feeling like ignoring my calorie-...</td>\n",
              "      <td>2022-01-19 18:59:27</td>\n",
              "    </tr>\n",
              "    <tr>\n",
              "      <th>6990279</th>\n",
              "      <td>RwcKOdEuLRHNJe4M9-qpqg</td>\n",
              "      <td>6JehEvdoCvZPJ_XIxnzIIw</td>\n",
              "      <td>VAeEXLbEcI9Emt9KGYq9aA</td>\n",
              "      <td>3</td>\n",
              "      <td>10</td>\n",
              "      <td>3</td>\n",
              "      <td>7</td>\n",
              "      <td>Located in the 'Walking District' in Nashville...</td>\n",
              "      <td>2018-01-02 22:50:47</td>\n",
              "    </tr>\n",
              "  </tbody>\n",
              "</table>\n",
              "<p>6990280 rows × 9 columns</p>\n",
              "</div>"
            ],
            "text/plain": [
              "                      Review_Id                 User_Id  \\\n",
              "0        KU_O5udG6zpxOg-VcAEodg  mh_-eMZ6K5RLWhZyISBhwA   \n",
              "1        BiTunyQ73aT9WBnpR9DZGw  OyoGAe7OKpv6SyGZT5g77Q   \n",
              "2        saUsX_uimxRlCVr67Z4Jig  8g_iMtfSiwikVnbP2etR0A   \n",
              "3        AqPFMleE6RsU23_auESxiA  _7bHUi9Uuf5__HHc_Q8guQ   \n",
              "4        Sx8TMOWLNuJBWer-0pcmoA  bcjbaE6dDog4jkNY91ncLQ   \n",
              "...                         ...                     ...   \n",
              "6990275  H0RIamZu0B0Ei0P4aeh3sQ  qskILQ3k0I_qcCMI-k6_QQ   \n",
              "6990276  shTPgbgdwTHSuU67mGCmZQ  Zo0th2m8Ez4gLSbHftiQvg   \n",
              "6990277  YNfNhgZlaaCO5Q_YJR4rEw  mm6E4FbCMwJmb7kPDZ5v2Q   \n",
              "6990278  i-I4ZOhoX70Nw5H0FwrQUA  YwAMC-jvZ1fvEUum6QkEkw   \n",
              "6990279  RwcKOdEuLRHNJe4M9-qpqg  6JehEvdoCvZPJ_XIxnzIIw   \n",
              "\n",
              "                    Business_Id  Stars  Useful  Funny  Cool  \\\n",
              "0        XQfwVwDr-v0ZS3_CbbE5Xw      3       0      0     0   \n",
              "1        7ATYjTIgM3jUlt4UM3IypQ      5       1      0     1   \n",
              "2        YjUWPpI6HXG530lwP-fb2A      3       0      0     0   \n",
              "3        kxX2SOes4o-D3ZQBkiMRfA      5       1      0     1   \n",
              "4        e4Vwtrqf-wpJfwesgvdgxQ      4       1      0     1   \n",
              "...                         ...    ...     ...    ...   ...   \n",
              "6990275  jals67o91gcrD4DC81Vk6w      5       1      2     1   \n",
              "6990276  2vLksaMmSEcGbjI5gywpZA      5       2      1     2   \n",
              "6990277  R1khUUxidqfaJmcpmGd4aw      4       1      0     0   \n",
              "6990278  Rr9kKArrMhSLVE9a53q-aA      5       1      0     0   \n",
              "6990279  VAeEXLbEcI9Emt9KGYq9aA      3      10      3     7   \n",
              "\n",
              "                                                      Text                Date  \n",
              "0        If you decide to eat here, just be aware it is... 2018-07-07 22:09:11  \n",
              "1        I've taken a lot of spin classes over the year... 2012-01-03 15:28:18  \n",
              "2        Family diner. Had the buffet. Eclectic assortm... 2014-02-05 20:30:30  \n",
              "3        Wow!  Yummy, different,  delicious.   Our favo... 2015-01-04 00:01:03  \n",
              "4        Cute interior and owner (?) gave us tour of up... 2017-01-14 20:54:15  \n",
              "...                                                    ...                 ...  \n",
              "6990275  Latest addition to services from ICCU is Apple... 2014-12-17 21:45:20  \n",
              "6990276  This spot offers a great, affordable east week... 2021-03-31 16:55:10  \n",
              "6990277  This Home Depot won me over when I needed to g... 2019-12-30 03:56:30  \n",
              "6990278  For when I'm feeling like ignoring my calorie-... 2022-01-19 18:59:27  \n",
              "6990279  Located in the 'Walking District' in Nashville... 2018-01-02 22:50:47  \n",
              "\n",
              "[6990280 rows x 9 columns]"
            ]
          },
          "execution_count": 53,
          "metadata": {},
          "output_type": "execute_result"
        }
      ],
      "source": [
        "ut.normalizacion_columnas(df_reviews)"
      ]
    },
    {
      "cell_type": "markdown",
      "metadata": {},
      "source": [
        "*Uniremos los DataFrames, **mcdonalds** y **df_reviews**, para quedarnos solo con las reseñas del comercio de nuestro interes:*"
      ]
    },
    {
      "cell_type": "code",
      "execution_count": 54,
      "metadata": {},
      "outputs": [],
      "source": [
        "reviews_mcdonalds = mcdonalds.merge(df_reviews, on= 'Business_Id', how= 'left')"
      ]
    },
    {
      "cell_type": "markdown",
      "metadata": {},
      "source": [
        "*Verificamos:*"
      ]
    },
    {
      "cell_type": "code",
      "execution_count": 55,
      "metadata": {},
      "outputs": [
        {
          "data": {
            "text/html": [
              "<div>\n",
              "<style scoped>\n",
              "    .dataframe tbody tr th:only-of-type {\n",
              "        vertical-align: middle;\n",
              "    }\n",
              "\n",
              "    .dataframe tbody tr th {\n",
              "        vertical-align: top;\n",
              "    }\n",
              "\n",
              "    .dataframe thead th {\n",
              "        text-align: right;\n",
              "    }\n",
              "</style>\n",
              "<table border=\"1\" class=\"dataframe\">\n",
              "  <thead>\n",
              "    <tr style=\"text-align: right;\">\n",
              "      <th></th>\n",
              "      <th>Name</th>\n",
              "      <th>Business_Id</th>\n",
              "      <th>Review_Id</th>\n",
              "      <th>User_Id</th>\n",
              "      <th>Stars</th>\n",
              "      <th>Useful</th>\n",
              "      <th>Funny</th>\n",
              "      <th>Cool</th>\n",
              "      <th>Text</th>\n",
              "      <th>Date</th>\n",
              "    </tr>\n",
              "  </thead>\n",
              "  <tbody>\n",
              "    <tr>\n",
              "      <th>0</th>\n",
              "      <td>McDonald's</td>\n",
              "      <td>yM8LlTInbQH4FwWC97lz6w</td>\n",
              "      <td>SB8GmxCcWLkz5hnArAWDyg</td>\n",
              "      <td>6z3PRqgD0ZRzo3JWA2XGiQ</td>\n",
              "      <td>1</td>\n",
              "      <td>0</td>\n",
              "      <td>0</td>\n",
              "      <td>0</td>\n",
              "      <td>If you can't come to work with pride and energ...</td>\n",
              "      <td>2018-01-09 21:23:02</td>\n",
              "    </tr>\n",
              "    <tr>\n",
              "      <th>1</th>\n",
              "      <td>McDonald's</td>\n",
              "      <td>yM8LlTInbQH4FwWC97lz6w</td>\n",
              "      <td>F99EHFlmHnt3U6wSdM2KoA</td>\n",
              "      <td>bQ_qlqlZRFgfRlqveB-ILg</td>\n",
              "      <td>2</td>\n",
              "      <td>2</td>\n",
              "      <td>2</td>\n",
              "      <td>0</td>\n",
              "      <td>Not the greatest fast food place to hit at nig...</td>\n",
              "      <td>2010-11-24 21:44:42</td>\n",
              "    </tr>\n",
              "  </tbody>\n",
              "</table>\n",
              "</div>"
            ],
            "text/plain": [
              "         Name             Business_Id               Review_Id  \\\n",
              "0  McDonald's  yM8LlTInbQH4FwWC97lz6w  SB8GmxCcWLkz5hnArAWDyg   \n",
              "1  McDonald's  yM8LlTInbQH4FwWC97lz6w  F99EHFlmHnt3U6wSdM2KoA   \n",
              "\n",
              "                  User_Id  Stars  Useful  Funny  Cool  \\\n",
              "0  6z3PRqgD0ZRzo3JWA2XGiQ      1       0      0     0   \n",
              "1  bQ_qlqlZRFgfRlqveB-ILg      2       2      2     0   \n",
              "\n",
              "                                                Text                Date  \n",
              "0  If you can't come to work with pride and energ... 2018-01-09 21:23:02  \n",
              "1  Not the greatest fast food place to hit at nig... 2010-11-24 21:44:42  "
            ]
          },
          "execution_count": 55,
          "metadata": {},
          "output_type": "execute_result"
        }
      ],
      "source": [
        "reviews_mcdonalds.head(2)"
      ]
    },
    {
      "cell_type": "markdown",
      "metadata": {},
      "source": [
        "*Eliminaremos la columna **Business_Id**, por que no es relevante, ya que ahora tenemos el nombre del comercio:*"
      ]
    },
    {
      "cell_type": "code",
      "execution_count": 56,
      "metadata": {},
      "outputs": [],
      "source": [
        "reviews_mcdonalds.drop(columns=['Business_Id'], inplace=True)"
      ]
    },
    {
      "cell_type": "markdown",
      "metadata": {},
      "source": [
        "*Guardamos el DataFrame resultante para su posterior uso:*"
      ]
    },
    {
      "cell_type": "code",
      "execution_count": 151,
      "metadata": {},
      "outputs": [],
      "source": [
        "reviews_mcdonalds.to_parquet('./Datos/Archivos Filtrados/reviews_mcdonalds.parquet')"
      ]
    },
    {
      "cell_type": "markdown",
      "metadata": {},
      "source": [
        "### User 📊"
      ]
    },
    {
      "cell_type": "markdown",
      "metadata": {},
      "source": [
        "*Definimos la ruta del archivo :*"
      ]
    },
    {
      "cell_type": "code",
      "execution_count": 59,
      "metadata": {},
      "outputs": [],
      "source": [
        "ruta = './Datos/Yelp/user.parquet'"
      ]
    },
    {
      "cell_type": "markdown",
      "metadata": {},
      "source": [
        "*Almacenamos el contenido del archivo en una variable, **df_user**:*"
      ]
    },
    {
      "cell_type": "code",
      "execution_count": 60,
      "metadata": {},
      "outputs": [],
      "source": [
        "df_user = pq.read_table(ruta, use_threads=True)"
      ]
    },
    {
      "cell_type": "markdown",
      "metadata": {},
      "source": [
        "*Lo convertimos a un DataFrame de pandas:*"
      ]
    },
    {
      "cell_type": "code",
      "execution_count": 61,
      "metadata": {},
      "outputs": [],
      "source": [
        "df_user = df_user.to_pandas()"
      ]
    },
    {
      "cell_type": "markdown",
      "metadata": {},
      "source": [
        "*Visualizamos la estructura del DataFrame:*"
      ]
    },
    {
      "cell_type": "code",
      "execution_count": 62,
      "metadata": {},
      "outputs": [
        {
          "data": {
            "text/html": [
              "<div>\n",
              "<style scoped>\n",
              "    .dataframe tbody tr th:only-of-type {\n",
              "        vertical-align: middle;\n",
              "    }\n",
              "\n",
              "    .dataframe tbody tr th {\n",
              "        vertical-align: top;\n",
              "    }\n",
              "\n",
              "    .dataframe thead th {\n",
              "        text-align: right;\n",
              "    }\n",
              "</style>\n",
              "<table border=\"1\" class=\"dataframe\">\n",
              "  <thead>\n",
              "    <tr style=\"text-align: right;\">\n",
              "      <th></th>\n",
              "      <th>user_id</th>\n",
              "      <th>name</th>\n",
              "      <th>review_count</th>\n",
              "      <th>yelping_since</th>\n",
              "      <th>useful</th>\n",
              "      <th>funny</th>\n",
              "      <th>cool</th>\n",
              "      <th>elite</th>\n",
              "      <th>friends</th>\n",
              "      <th>fans</th>\n",
              "      <th>...</th>\n",
              "      <th>compliment_more</th>\n",
              "      <th>compliment_profile</th>\n",
              "      <th>compliment_cute</th>\n",
              "      <th>compliment_list</th>\n",
              "      <th>compliment_note</th>\n",
              "      <th>compliment_plain</th>\n",
              "      <th>compliment_cool</th>\n",
              "      <th>compliment_funny</th>\n",
              "      <th>compliment_writer</th>\n",
              "      <th>compliment_photos</th>\n",
              "    </tr>\n",
              "  </thead>\n",
              "  <tbody>\n",
              "    <tr>\n",
              "      <th>0</th>\n",
              "      <td>qVc8ODYU5SZjKXVBgXdI7w</td>\n",
              "      <td>Walker</td>\n",
              "      <td>585</td>\n",
              "      <td>2007-01-25 16:47:26</td>\n",
              "      <td>7217</td>\n",
              "      <td>1259</td>\n",
              "      <td>5994</td>\n",
              "      <td>2007</td>\n",
              "      <td>NSCy54eWehBJyZdG2iE84w, pe42u7DcCH2QmI81NX-8qA...</td>\n",
              "      <td>267</td>\n",
              "      <td>...</td>\n",
              "      <td>65</td>\n",
              "      <td>55</td>\n",
              "      <td>56</td>\n",
              "      <td>18</td>\n",
              "      <td>232</td>\n",
              "      <td>844</td>\n",
              "      <td>467</td>\n",
              "      <td>467</td>\n",
              "      <td>239</td>\n",
              "      <td>180</td>\n",
              "    </tr>\n",
              "    <tr>\n",
              "      <th>1</th>\n",
              "      <td>j14WgRoU_-2ZE1aw1dXrJg</td>\n",
              "      <td>Daniel</td>\n",
              "      <td>4333</td>\n",
              "      <td>2009-01-25 04:35:42</td>\n",
              "      <td>43091</td>\n",
              "      <td>13066</td>\n",
              "      <td>27281</td>\n",
              "      <td>2009,2010,2011,2012,2013,2014,2015,2016,2017,2...</td>\n",
              "      <td>ueRPE0CX75ePGMqOFVj6IQ, 52oH4DrRvzzl8wh5UXyU0A...</td>\n",
              "      <td>3138</td>\n",
              "      <td>...</td>\n",
              "      <td>264</td>\n",
              "      <td>184</td>\n",
              "      <td>157</td>\n",
              "      <td>251</td>\n",
              "      <td>1847</td>\n",
              "      <td>7054</td>\n",
              "      <td>3131</td>\n",
              "      <td>3131</td>\n",
              "      <td>1521</td>\n",
              "      <td>1946</td>\n",
              "    </tr>\n",
              "  </tbody>\n",
              "</table>\n",
              "<p>2 rows × 22 columns</p>\n",
              "</div>"
            ],
            "text/plain": [
              "                  user_id    name  review_count        yelping_since  useful  \\\n",
              "0  qVc8ODYU5SZjKXVBgXdI7w  Walker           585  2007-01-25 16:47:26    7217   \n",
              "1  j14WgRoU_-2ZE1aw1dXrJg  Daniel          4333  2009-01-25 04:35:42   43091   \n",
              "\n",
              "   funny   cool                                              elite  \\\n",
              "0   1259   5994                                               2007   \n",
              "1  13066  27281  2009,2010,2011,2012,2013,2014,2015,2016,2017,2...   \n",
              "\n",
              "                                             friends  fans  ...  \\\n",
              "0  NSCy54eWehBJyZdG2iE84w, pe42u7DcCH2QmI81NX-8qA...   267  ...   \n",
              "1  ueRPE0CX75ePGMqOFVj6IQ, 52oH4DrRvzzl8wh5UXyU0A...  3138  ...   \n",
              "\n",
              "   compliment_more  compliment_profile  compliment_cute  compliment_list  \\\n",
              "0               65                  55               56               18   \n",
              "1              264                 184              157              251   \n",
              "\n",
              "   compliment_note  compliment_plain  compliment_cool  compliment_funny  \\\n",
              "0              232               844              467               467   \n",
              "1             1847              7054             3131              3131   \n",
              "\n",
              "   compliment_writer  compliment_photos  \n",
              "0                239                180  \n",
              "1               1521               1946  \n",
              "\n",
              "[2 rows x 22 columns]"
            ]
          },
          "execution_count": 62,
          "metadata": {},
          "output_type": "execute_result"
        }
      ],
      "source": [
        "df_user.head(2)"
      ]
    },
    {
      "cell_type": "code",
      "execution_count": 93,
      "metadata": {},
      "outputs": [
        {
          "data": {
            "text/plain": [
              "Index(['User_Id', 'Name', 'Review_Count', 'Yelping_Since', 'Useful', 'Funny',\n",
              "       'Cool', 'Elite', 'Friends', 'Fans', 'Average_Stars', 'Compliment_Hot',\n",
              "       'Compliment_More', 'Compliment_Profile', 'Compliment_Cute',\n",
              "       'Compliment_List', 'Compliment_Note', 'Compliment_Plain',\n",
              "       'Compliment_Cool', 'Compliment_Funny', 'Compliment_Writer',\n",
              "       'Compliment_Photos'],\n",
              "      dtype='object')"
            ]
          },
          "execution_count": 93,
          "metadata": {},
          "output_type": "execute_result"
        }
      ],
      "source": [
        "df_user.columns"
      ]
    },
    {
      "cell_type": "markdown",
      "metadata": {},
      "source": [
        "*Normalizamos los nombres de las columnas del DataFrame:*"
      ]
    },
    {
      "cell_type": "code",
      "execution_count": 149,
      "metadata": {},
      "outputs": [
        {
          "data": {
            "text/html": [
              "<div>\n",
              "<style scoped>\n",
              "    .dataframe tbody tr th:only-of-type {\n",
              "        vertical-align: middle;\n",
              "    }\n",
              "\n",
              "    .dataframe tbody tr th {\n",
              "        vertical-align: top;\n",
              "    }\n",
              "\n",
              "    .dataframe thead th {\n",
              "        text-align: right;\n",
              "    }\n",
              "</style>\n",
              "<table border=\"1\" class=\"dataframe\">\n",
              "  <thead>\n",
              "    <tr style=\"text-align: right;\">\n",
              "      <th></th>\n",
              "      <th>User_Id</th>\n",
              "      <th>Name</th>\n",
              "      <th>Review_Count</th>\n",
              "      <th>Yelping_Since</th>\n",
              "      <th>Useful</th>\n",
              "      <th>Funny</th>\n",
              "      <th>Cool</th>\n",
              "      <th>Elite</th>\n",
              "      <th>Friends</th>\n",
              "      <th>Fans</th>\n",
              "      <th>...</th>\n",
              "      <th>Compliment_More</th>\n",
              "      <th>Compliment_Profile</th>\n",
              "      <th>Compliment_Cute</th>\n",
              "      <th>Compliment_List</th>\n",
              "      <th>Compliment_Note</th>\n",
              "      <th>Compliment_Plain</th>\n",
              "      <th>Compliment_Cool</th>\n",
              "      <th>Compliment_Funny</th>\n",
              "      <th>Compliment_Writer</th>\n",
              "      <th>Compliment_Photos</th>\n",
              "    </tr>\n",
              "  </thead>\n",
              "  <tbody>\n",
              "    <tr>\n",
              "      <th>0</th>\n",
              "      <td>qVc8ODYU5SZjKXVBgXdI7w</td>\n",
              "      <td>Walker</td>\n",
              "      <td>585</td>\n",
              "      <td>2007-01-25 16:47:26</td>\n",
              "      <td>7217</td>\n",
              "      <td>1259</td>\n",
              "      <td>5994</td>\n",
              "      <td>2007</td>\n",
              "      <td>NSCy54eWehBJyZdG2iE84w, pe42u7DcCH2QmI81NX-8qA...</td>\n",
              "      <td>267</td>\n",
              "      <td>...</td>\n",
              "      <td>65</td>\n",
              "      <td>55</td>\n",
              "      <td>56</td>\n",
              "      <td>18</td>\n",
              "      <td>232</td>\n",
              "      <td>844</td>\n",
              "      <td>467</td>\n",
              "      <td>467</td>\n",
              "      <td>239</td>\n",
              "      <td>180</td>\n",
              "    </tr>\n",
              "    <tr>\n",
              "      <th>1</th>\n",
              "      <td>j14WgRoU_-2ZE1aw1dXrJg</td>\n",
              "      <td>Daniel</td>\n",
              "      <td>4333</td>\n",
              "      <td>2009-01-25 04:35:42</td>\n",
              "      <td>43091</td>\n",
              "      <td>13066</td>\n",
              "      <td>27281</td>\n",
              "      <td>2009,2010,2011,2012,2013,2014,2015,2016,2017,2...</td>\n",
              "      <td>ueRPE0CX75ePGMqOFVj6IQ, 52oH4DrRvzzl8wh5UXyU0A...</td>\n",
              "      <td>3138</td>\n",
              "      <td>...</td>\n",
              "      <td>264</td>\n",
              "      <td>184</td>\n",
              "      <td>157</td>\n",
              "      <td>251</td>\n",
              "      <td>1847</td>\n",
              "      <td>7054</td>\n",
              "      <td>3131</td>\n",
              "      <td>3131</td>\n",
              "      <td>1521</td>\n",
              "      <td>1946</td>\n",
              "    </tr>\n",
              "  </tbody>\n",
              "</table>\n",
              "<p>2 rows × 22 columns</p>\n",
              "</div>"
            ],
            "text/plain": [
              "                  User_Id    Name  Review_Count        Yelping_Since  Useful  \\\n",
              "0  qVc8ODYU5SZjKXVBgXdI7w  Walker           585  2007-01-25 16:47:26    7217   \n",
              "1  j14WgRoU_-2ZE1aw1dXrJg  Daniel          4333  2009-01-25 04:35:42   43091   \n",
              "\n",
              "   Funny   Cool                                              Elite  \\\n",
              "0   1259   5994                                               2007   \n",
              "1  13066  27281  2009,2010,2011,2012,2013,2014,2015,2016,2017,2...   \n",
              "\n",
              "                                             Friends  Fans  ...  \\\n",
              "0  NSCy54eWehBJyZdG2iE84w, pe42u7DcCH2QmI81NX-8qA...   267  ...   \n",
              "1  ueRPE0CX75ePGMqOFVj6IQ, 52oH4DrRvzzl8wh5UXyU0A...  3138  ...   \n",
              "\n",
              "   Compliment_More  Compliment_Profile  Compliment_Cute  Compliment_List  \\\n",
              "0               65                  55               56               18   \n",
              "1              264                 184              157              251   \n",
              "\n",
              "   Compliment_Note  Compliment_Plain  Compliment_Cool  Compliment_Funny  \\\n",
              "0              232               844              467               467   \n",
              "1             1847              7054             3131              3131   \n",
              "\n",
              "   Compliment_Writer  Compliment_Photos  \n",
              "0                239                180  \n",
              "1               1521               1946  \n",
              "\n",
              "[2 rows x 22 columns]"
            ]
          },
          "execution_count": 149,
          "metadata": {},
          "output_type": "execute_result"
        }
      ],
      "source": [
        "ut.normalizacion_columnas(df_user).head(2)"
      ]
    },
    {
      "cell_type": "markdown",
      "metadata": {},
      "source": [
        "*Guardamos el DataFrame resultante para su posterior uso:*"
      ]
    },
    {
      "cell_type": "code",
      "execution_count": 152,
      "metadata": {},
      "outputs": [],
      "source": [
        "reviews_mcdonalds.to_parquet('./Datos/Archivos Filtrados/df_user.parquet')"
      ]
    },
    {
      "cell_type": "markdown",
      "metadata": {},
      "source": [
        "### Metadatos Sitios 📊"
      ]
    },
    {
      "cell_type": "markdown",
      "metadata": {},
      "source": [
        "*Definimos la ruta del archivo :*"
      ]
    },
    {
      "cell_type": "code",
      "execution_count": 64,
      "metadata": {},
      "outputs": [],
      "source": [
        "ruta = './Datos/Google Maps/metadata-sitios'"
      ]
    },
    {
      "cell_type": "markdown",
      "metadata": {},
      "source": [
        "*Leemos los archivos **.json** de la carpeta **metadatos-sitios** , los filtramos quedandonos con aquellos registros cuyo **name** contenga **McDonald** en el nombre del comercio y los unimos, conteniendolos en un DataFrame. Convertimos el DataFrame en un archivo compatible con parquet, y lo guardamos de manera local para su posterior uso:*"
      ]
    },
    {
      "cell_type": "code",
      "execution_count": 65,
      "metadata": {},
      "outputs": [],
      "source": [
        "#Generamos una lista vacia donde almacenaremos los DataFrames\n",
        "dfs = []\n",
        "\n",
        "#Iteramos sobre los archivos del directorio\n",
        "for filename in os.listdir(ruta):\n",
        "\n",
        "    #Si el archivo es un JSON, lo leemos y filtramos los registros que contengan la palabra McDonald's\n",
        "    if filename.endswith('.json'):\n",
        "        filepath = os.path.join(ruta, filename)\n",
        "        df = pd.read_json(filepath, lines=True)\n",
        "        df_filtered = df[df['name'].str.contains(r\"\\bMcDonald's\\b|\\bMc Donald's\\b\", case=False, na=False, regex=True)]\n",
        "        dfs.append(df_filtered)\n",
        "\n",
        "#Si se encontraron DataFrames, los concatenamos y guardamos el resultado en formato Parquet\n",
        "if len(dfs) > 0:\n",
        "    merged_df = pd.concat(dfs)\n",
        "    merged_df.reset_index(drop=True, inplace=True)\n",
        "\n",
        "    # Guardamos el DataFrame en formato Parquet\n",
        "    merged_df.to_parquet('/Datos/metadatos-sitios-temporal.parquet')\n",
        "    \n",
        "else:\n",
        "    print(\"No se encontraron archivos JSON en el directorio que cumplieran con la condición.\")\n",
        "\n"
      ]
    },
    {
      "cell_type": "markdown",
      "metadata": {},
      "source": [
        "*Leemos el archivo generado anteriormente y lo almacenamos en un DataFrame para proceder con las transformaciones del mismo:*"
      ]
    },
    {
      "cell_type": "code",
      "execution_count": 70,
      "metadata": {},
      "outputs": [],
      "source": [
        "df_sitios = pd.read_parquet('./Datos/metadatos-sitios-temporal.parquet')"
      ]
    },
    {
      "cell_type": "markdown",
      "metadata": {},
      "source": [
        "*Normalizamos los nombres de las columnas del mismo:*"
      ]
    },
    {
      "cell_type": "code",
      "execution_count": 114,
      "metadata": {},
      "outputs": [
        {
          "data": {
            "text/html": [
              "<div>\n",
              "<style scoped>\n",
              "    .dataframe tbody tr th:only-of-type {\n",
              "        vertical-align: middle;\n",
              "    }\n",
              "\n",
              "    .dataframe tbody tr th {\n",
              "        vertical-align: top;\n",
              "    }\n",
              "\n",
              "    .dataframe thead th {\n",
              "        text-align: right;\n",
              "    }\n",
              "</style>\n",
              "<table border=\"1\" class=\"dataframe\">\n",
              "  <thead>\n",
              "    <tr style=\"text-align: right;\">\n",
              "      <th></th>\n",
              "      <th>Name</th>\n",
              "      <th>Address</th>\n",
              "      <th>Gmap_Id</th>\n",
              "      <th>Description</th>\n",
              "      <th>Latitude</th>\n",
              "      <th>Longitude</th>\n",
              "      <th>Category</th>\n",
              "      <th>Avg_Rating</th>\n",
              "      <th>Num_Of_Reviews</th>\n",
              "      <th>Price</th>\n",
              "      <th>Hours</th>\n",
              "      <th>Misc</th>\n",
              "      <th>State</th>\n",
              "      <th>Relative_Results</th>\n",
              "      <th>Url</th>\n",
              "    </tr>\n",
              "  </thead>\n",
              "  <tbody>\n",
              "    <tr>\n",
              "      <th>0</th>\n",
              "      <td>McDonald's</td>\n",
              "      <td>McDonald's, 1205 S Main St, Manteca, CA 95336</td>\n",
              "      <td>0x80904101ce001281:0x76db23c5d22346ae</td>\n",
              "      <td>Classic, long-running fast-food chain known fo...</td>\n",
              "      <td>37.785995</td>\n",
              "      <td>-121.218062</td>\n",
              "      <td>Fast food restaurant Breakfast restaurant Coff...</td>\n",
              "      <td>2.4</td>\n",
              "      <td>48</td>\n",
              "      <td>$</td>\n",
              "      <td>None</td>\n",
              "      <td>{'Accessibility': ['Wheelchair accessible entr...</td>\n",
              "      <td>None</td>\n",
              "      <td>[0x8090410018dc2657:0xed7a807ae3eeee6d, 0x8090...</td>\n",
              "      <td>https://www.google.com/maps/place//data=!4m2!3...</td>\n",
              "    </tr>\n",
              "    <tr>\n",
              "      <th>1</th>\n",
              "      <td>McDonald's</td>\n",
              "      <td>McDonald's, 1000 Palisades Center Dr, West Nya...</td>\n",
              "      <td>0x89c2e9cf8e139235:0x24bfb20e9e09f260</td>\n",
              "      <td>Classic, long-running fast-food chain known fo...</td>\n",
              "      <td>41.097768</td>\n",
              "      <td>-73.955392</td>\n",
              "      <td>Fast food restaurant Breakfast restaurant Coff...</td>\n",
              "      <td>2.2</td>\n",
              "      <td>18</td>\n",
              "      <td>$</td>\n",
              "      <td>None</td>\n",
              "      <td>{'Accessibility': ['Wheelchair accessible rest...</td>\n",
              "      <td>None</td>\n",
              "      <td>[0x89c2e9e6ef010ddb:0xe923f7207b70d6f9, 0x89c2...</td>\n",
              "      <td>https://www.google.com/maps/place//data=!4m2!3...</td>\n",
              "    </tr>\n",
              "  </tbody>\n",
              "</table>\n",
              "</div>"
            ],
            "text/plain": [
              "         Name                                            Address  \\\n",
              "0  McDonald's      McDonald's, 1205 S Main St, Manteca, CA 95336   \n",
              "1  McDonald's  McDonald's, 1000 Palisades Center Dr, West Nya...   \n",
              "\n",
              "                                 Gmap_Id  \\\n",
              "0  0x80904101ce001281:0x76db23c5d22346ae   \n",
              "1  0x89c2e9cf8e139235:0x24bfb20e9e09f260   \n",
              "\n",
              "                                         Description   Latitude   Longitude  \\\n",
              "0  Classic, long-running fast-food chain known fo...  37.785995 -121.218062   \n",
              "1  Classic, long-running fast-food chain known fo...  41.097768  -73.955392   \n",
              "\n",
              "                                            Category  Avg_Rating  \\\n",
              "0  Fast food restaurant Breakfast restaurant Coff...         2.4   \n",
              "1  Fast food restaurant Breakfast restaurant Coff...         2.2   \n",
              "\n",
              "   Num_Of_Reviews Price Hours  \\\n",
              "0              48     $  None   \n",
              "1              18     $  None   \n",
              "\n",
              "                                                Misc State  \\\n",
              "0  {'Accessibility': ['Wheelchair accessible entr...  None   \n",
              "1  {'Accessibility': ['Wheelchair accessible rest...  None   \n",
              "\n",
              "                                    Relative_Results  \\\n",
              "0  [0x8090410018dc2657:0xed7a807ae3eeee6d, 0x8090...   \n",
              "1  [0x89c2e9e6ef010ddb:0xe923f7207b70d6f9, 0x89c2...   \n",
              "\n",
              "                                                 Url  \n",
              "0  https://www.google.com/maps/place//data=!4m2!3...  \n",
              "1  https://www.google.com/maps/place//data=!4m2!3...  "
            ]
          },
          "execution_count": 114,
          "metadata": {},
          "output_type": "execute_result"
        }
      ],
      "source": [
        "ut.normalizacion_columnas(df_sitios).head(2)"
      ]
    },
    {
      "cell_type": "markdown",
      "metadata": {},
      "source": [
        "*Verificamos los valores unicos en la columna **Name** y podemos ver que hay otros comercios que incluyen el nombre Mc Donald's, pero también hay comercios que son los corrrectos, los de nuestro interes, pero contienen cierta descripción o datos de la ubicación en su nombre, por lo que vamos a buscar la forma de filtrarlos:*"
      ]
    },
    {
      "cell_type": "code",
      "execution_count": 72,
      "metadata": {},
      "outputs": [
        {
          "data": {
            "text/plain": [
              "array([\"McDonald's\", \"McDonald's Studio\", \"McDonald's Lunch\",\n",
              "       \"Mc Donald's Towing of Paw Paw\", \"Mc Donald's\",\n",
              "       \"McDonald's OMG Building\", \"McDonald's Corporate Office.\",\n",
              "       \"Norman McDonald's Country Drive-In\",\n",
              "       \"McDonald's Warehouse Corporate office\", \"McDonald's Cafe & BBQ\",\n",
              "       \"Mcdonald's Self Storage\", \"McDonald's Budget Printing\",\n",
              "       \"Peninsula McDonald's Office\", \"Mc Donald's Kennels\",\n",
              "       \"Graviss McDonald's Disc Golf Course\", \"Mcdonald's Playplace\",\n",
              "       \"McDonald's Regional Office\", \"Mc Donald's RV Park & Car Wash\",\n",
              "       \"McDonald's Kennel\",\n",
              "       \"Martin Brower L.L.C/McDonald's Distribution Center\",\n",
              "       \"Mc Donald's on church ave\", \"McDonald's - Corporate Office\",\n",
              "       \"Mcdonald's Play Area\", \"Mc Donald's Service Station\",\n",
              "       \"Bluemound Rd. at McDonald's\",\n",
              "       \"Cabin in the Clouds Christmas Forest (Formerly McDonald's Tree Farm)\",\n",
              "       \"McDonald's Transmission Repair\", \"McDonald's / Ross's\",\n",
              "       \"McDonald's HVAC\", \"McDonald's Store\", \"McDonald's Playplace\",\n",
              "       \"McDonald's - NEW LOCATION (next to Walgreen's) NOW OPEN\",\n",
              "       \"Mcdonald's Terminal 3, conc k\",\n",
              "       \"Masker Family McDonald's Franchise Office\",\n",
              "       \"O'Reilly Group McDonald's - Corporate Office\",\n",
              "       \"McDonald's Family Place\", \"KEVCO McDonald's\",\n",
              "       \"Old McDonald's Farm Finds\", \"Mc Donald's Upholstery Shop\",\n",
              "       \"Mc Donald's Body Shop & Towing\", \"Jones Management Mc Donald's\",\n",
              "       \"Mcdonald's Billiard Supply Co\", \"Mcdonald's Corporate Office\",\n",
              "       \"McDonald's Book Exchange\", \"Mcdonald's\", \"McDonald's Westover\",\n",
              "       \"McDonald's Bait and Tackle\", \"Mc Donald's Motorcycle Repair\",\n",
              "       \"McDonald's Greenhouse, Ltd.\",\n",
              "       \"Martin Brower/McDonald's Distribution Center\", \"Mc Donald's Deli\",\n",
              "       \"McDonald's Office\", \"G & L Foods Inc DBA McDonald's\",\n",
              "       \"McDonald's Walmart\", \"McDonald's Farm & Garden Center\"],\n",
              "      dtype=object)"
            ]
          },
          "execution_count": 72,
          "metadata": {},
          "output_type": "execute_result"
        }
      ],
      "source": [
        "df_sitios['Name'].unique()"
      ]
    },
    {
      "cell_type": "markdown",
      "metadata": {},
      "source": [
        "*Podemos ver que los elementos contenidos en nuestra columna **Category**, se encuentran en forma de lista. Procederemos a transformarlos para poder realizar las transformaciones necesarias en esa columna:*"
      ]
    },
    {
      "cell_type": "code",
      "execution_count": 73,
      "metadata": {},
      "outputs": [
        {
          "data": {
            "text/plain": [
              "Category\n",
              "[Fast food restaurant]                                                                                                                    32\n",
              "[Corporate office]                                                                                                                        11\n",
              "[Restaurant]                                                                                                                              10\n",
              "[Dessert shop]                                                                                                                             5\n",
              "[Bus stop]                                                                                                                                 2\n",
              "                                                                                                                                          ..\n",
              "[Fast food restaurant, Breakfast restaurant, Coffee shop, Hamburger restaurant, Restaurant, Sandwich shop]                                 1\n",
              "[Fast food restaurant, Hamburger restaurant, Takeout Restaurant, Restaurant]                                                               1\n",
              "[Fast food restaurant, Breakfast restaurant, Coffee shop, Hamburger restaurant, Restaurant, Sandwich shop]                                 1\n",
              "[Fast food restaurant, Breakfast restaurant, Coffee shop, Hamburger restaurant, Restaurant, Sandwich shop]                                 1\n",
              "[Fast food restaurant, Breakfast restaurant, Coffee shop, Hamburger restaurant, Ice cream shop, Restaurant, Salad shop, Sandwich shop]     1\n",
              "Name: count, Length: 1022, dtype: int64"
            ]
          },
          "execution_count": 73,
          "metadata": {},
          "output_type": "execute_result"
        }
      ],
      "source": [
        "df_sitios['Category'].value_counts()"
      ]
    },
    {
      "cell_type": "markdown",
      "metadata": {},
      "source": [
        "*Primero, cambiamos el tipo de dato a **str**:*"
      ]
    },
    {
      "cell_type": "code",
      "execution_count": 74,
      "metadata": {},
      "outputs": [],
      "source": [
        "df_sitios['Category'] = df_sitios['Category'].astype(str)"
      ]
    },
    {
      "cell_type": "markdown",
      "metadata": {},
      "source": [
        "*Luego, recorremos cada elemento de la columna, y eliminamos los corchetes y las comillas simples:*"
      ]
    },
    {
      "cell_type": "code",
      "execution_count": 77,
      "metadata": {},
      "outputs": [],
      "source": [
        "df_sitios['Category'] = df_sitios['Category'].apply(lambda x: x.replace('[','').replace(']','').replace('\\'',''))"
      ]
    },
    {
      "cell_type": "markdown",
      "metadata": {},
      "source": [
        "*Verificamos:*"
      ]
    },
    {
      "cell_type": "code",
      "execution_count": 84,
      "metadata": {},
      "outputs": [
        {
          "data": {
            "text/html": [
              "<div>\n",
              "<style scoped>\n",
              "    .dataframe tbody tr th:only-of-type {\n",
              "        vertical-align: middle;\n",
              "    }\n",
              "\n",
              "    .dataframe tbody tr th {\n",
              "        vertical-align: top;\n",
              "    }\n",
              "\n",
              "    .dataframe thead th {\n",
              "        text-align: right;\n",
              "    }\n",
              "</style>\n",
              "<table border=\"1\" class=\"dataframe\">\n",
              "  <thead>\n",
              "    <tr style=\"text-align: right;\">\n",
              "      <th></th>\n",
              "      <th>Name</th>\n",
              "      <th>Address</th>\n",
              "      <th>Gmap_Id</th>\n",
              "      <th>Description</th>\n",
              "      <th>Latitude</th>\n",
              "      <th>Longitude</th>\n",
              "      <th>Category</th>\n",
              "      <th>Avg_Rating</th>\n",
              "      <th>Num_Of_Reviews</th>\n",
              "      <th>Price</th>\n",
              "      <th>Hours</th>\n",
              "      <th>Misc</th>\n",
              "      <th>State</th>\n",
              "      <th>Relative_Results</th>\n",
              "      <th>Url</th>\n",
              "    </tr>\n",
              "  </thead>\n",
              "  <tbody>\n",
              "    <tr>\n",
              "      <th>0</th>\n",
              "      <td>McDonald's</td>\n",
              "      <td>McDonald's, 1205 S Main St, Manteca, CA 95336</td>\n",
              "      <td>0x80904101ce001281:0x76db23c5d22346ae</td>\n",
              "      <td>Classic, long-running fast-food chain known fo...</td>\n",
              "      <td>37.785995</td>\n",
              "      <td>-121.218062</td>\n",
              "      <td>Fast food restaurant Breakfast restaurant Coff...</td>\n",
              "      <td>2.4</td>\n",
              "      <td>48</td>\n",
              "      <td>$</td>\n",
              "      <td>None</td>\n",
              "      <td>{'Accessibility': ['Wheelchair accessible entr...</td>\n",
              "      <td>None</td>\n",
              "      <td>[0x8090410018dc2657:0xed7a807ae3eeee6d, 0x8090...</td>\n",
              "      <td>https://www.google.com/maps/place//data=!4m2!3...</td>\n",
              "    </tr>\n",
              "    <tr>\n",
              "      <th>1</th>\n",
              "      <td>McDonald's</td>\n",
              "      <td>McDonald's, 1000 Palisades Center Dr, West Nya...</td>\n",
              "      <td>0x89c2e9cf8e139235:0x24bfb20e9e09f260</td>\n",
              "      <td>Classic, long-running fast-food chain known fo...</td>\n",
              "      <td>41.097768</td>\n",
              "      <td>-73.955392</td>\n",
              "      <td>Fast food restaurant Breakfast restaurant Coff...</td>\n",
              "      <td>2.2</td>\n",
              "      <td>18</td>\n",
              "      <td>$</td>\n",
              "      <td>None</td>\n",
              "      <td>{'Accessibility': ['Wheelchair accessible rest...</td>\n",
              "      <td>None</td>\n",
              "      <td>[0x89c2e9e6ef010ddb:0xe923f7207b70d6f9, 0x89c2...</td>\n",
              "      <td>https://www.google.com/maps/place//data=!4m2!3...</td>\n",
              "    </tr>\n",
              "  </tbody>\n",
              "</table>\n",
              "</div>"
            ],
            "text/plain": [
              "         Name                                            Address  \\\n",
              "0  McDonald's      McDonald's, 1205 S Main St, Manteca, CA 95336   \n",
              "1  McDonald's  McDonald's, 1000 Palisades Center Dr, West Nya...   \n",
              "\n",
              "                                 Gmap_Id  \\\n",
              "0  0x80904101ce001281:0x76db23c5d22346ae   \n",
              "1  0x89c2e9cf8e139235:0x24bfb20e9e09f260   \n",
              "\n",
              "                                         Description   Latitude   Longitude  \\\n",
              "0  Classic, long-running fast-food chain known fo...  37.785995 -121.218062   \n",
              "1  Classic, long-running fast-food chain known fo...  41.097768  -73.955392   \n",
              "\n",
              "                                            Category  Avg_Rating  \\\n",
              "0  Fast food restaurant Breakfast restaurant Coff...         2.4   \n",
              "1  Fast food restaurant Breakfast restaurant Coff...         2.2   \n",
              "\n",
              "   Num_Of_Reviews Price Hours  \\\n",
              "0              48     $  None   \n",
              "1              18     $  None   \n",
              "\n",
              "                                                Misc State  \\\n",
              "0  {'Accessibility': ['Wheelchair accessible entr...  None   \n",
              "1  {'Accessibility': ['Wheelchair accessible rest...  None   \n",
              "\n",
              "                                    Relative_Results  \\\n",
              "0  [0x8090410018dc2657:0xed7a807ae3eeee6d, 0x8090...   \n",
              "1  [0x89c2e9e6ef010ddb:0xe923f7207b70d6f9, 0x89c2...   \n",
              "\n",
              "                                                 Url  \n",
              "0  https://www.google.com/maps/place//data=!4m2!3...  \n",
              "1  https://www.google.com/maps/place//data=!4m2!3...  "
            ]
          },
          "execution_count": 84,
          "metadata": {},
          "output_type": "execute_result"
        }
      ],
      "source": [
        "df_sitios.head(2)"
      ]
    },
    {
      "cell_type": "markdown",
      "metadata": {},
      "source": [
        "*Filtramos el DataFrame, quedandonos con aquellos registros que poseen las palabras \"Restaurant\", \"restaurant\", \"Fast food\" y/o \"fast-food\" en los elementos de la columna **Category**:*"
      ]
    },
    {
      "cell_type": "code",
      "execution_count": 80,
      "metadata": {},
      "outputs": [],
      "source": [
        "df_sitios_ = df_sitios[df_sitios['Category'].str.contains('restaurant|Fast food|Restaurant|fast-food')]"
      ]
    },
    {
      "cell_type": "markdown",
      "metadata": {},
      "source": [
        "*Guardamos el DataFrame resultante para su posterior uso:*"
      ]
    },
    {
      "cell_type": "code",
      "execution_count": 153,
      "metadata": {},
      "outputs": [],
      "source": [
        "df_sitios_.to_parquet('./Datos/Archivos Filtrados/metadatos_mcdonalds.parquet')"
      ]
    },
    {
      "cell_type": "markdown",
      "metadata": {},
      "source": [
        "*Analizamos aquellos que no contienen ninguno de los juegos de palabras anteriores:*"
      ]
    },
    {
      "cell_type": "code",
      "execution_count": 111,
      "metadata": {},
      "outputs": [
        {
          "data": {
            "text/html": [
              "<div>\n",
              "<style scoped>\n",
              "    .dataframe tbody tr th:only-of-type {\n",
              "        vertical-align: middle;\n",
              "    }\n",
              "\n",
              "    .dataframe tbody tr th {\n",
              "        vertical-align: top;\n",
              "    }\n",
              "\n",
              "    .dataframe thead th {\n",
              "        text-align: right;\n",
              "    }\n",
              "</style>\n",
              "<table border=\"1\" class=\"dataframe\">\n",
              "  <thead>\n",
              "    <tr style=\"text-align: right;\">\n",
              "      <th></th>\n",
              "      <th>Name</th>\n",
              "      <th>Address</th>\n",
              "      <th>Gmap_Id</th>\n",
              "      <th>Description</th>\n",
              "      <th>Latitude</th>\n",
              "      <th>Longitude</th>\n",
              "      <th>Category</th>\n",
              "      <th>Avg_Rating</th>\n",
              "      <th>Num_Of_Reviews</th>\n",
              "      <th>Price</th>\n",
              "      <th>Hours</th>\n",
              "      <th>Misc</th>\n",
              "      <th>State</th>\n",
              "      <th>Relative_Results</th>\n",
              "      <th>Url</th>\n",
              "    </tr>\n",
              "  </thead>\n",
              "  <tbody>\n",
              "    <tr>\n",
              "      <th>24</th>\n",
              "      <td>McDonald's Studio</td>\n",
              "      <td>McDonald's Studio, 141 Bridge Ave E, Delano, M...</td>\n",
              "      <td>0x52b4a9af2ca9aa29:0x20efe9b9990af8b3</td>\n",
              "      <td>None</td>\n",
              "      <td>45.041810</td>\n",
              "      <td>-93.788087</td>\n",
              "      <td>Portrait studio</td>\n",
              "      <td>4.9</td>\n",
              "      <td>8</td>\n",
              "      <td>None</td>\n",
              "      <td>None</td>\n",
              "      <td>{'Accessibility': ['Wheelchair accessible entr...</td>\n",
              "      <td>None</td>\n",
              "      <td>[0x52b4a9105e951a1d:0x1ac4d8fb0264249d, 0x52b4...</td>\n",
              "      <td>https://www.google.com/maps/place//data=!4m2!3...</td>\n",
              "    </tr>\n",
              "    <tr>\n",
              "      <th>28</th>\n",
              "      <td>Mc Donald's Towing of Paw Paw</td>\n",
              "      <td>Mc Donald's Towing of Paw Paw, 39617 W Red Arr...</td>\n",
              "      <td>0x881741d71056f773:0xde1e96ed0a460024</td>\n",
              "      <td>None</td>\n",
              "      <td>42.211307</td>\n",
              "      <td>-85.933143</td>\n",
              "      <td>Towing service Auto wrecker</td>\n",
              "      <td>3.2</td>\n",
              "      <td>8</td>\n",
              "      <td>None</td>\n",
              "      <td>None</td>\n",
              "      <td>None</td>\n",
              "      <td>None</td>\n",
              "      <td>[0x88176a4b799092ed:0x10fc20d91d5ecfc9, 0x8817...</td>\n",
              "      <td>https://www.google.com/maps/place//data=!4m2!3...</td>\n",
              "    </tr>\n",
              "  </tbody>\n",
              "</table>\n",
              "</div>"
            ],
            "text/plain": [
              "                             Name  \\\n",
              "24              McDonald's Studio   \n",
              "28  Mc Donald's Towing of Paw Paw   \n",
              "\n",
              "                                              Address  \\\n",
              "24  McDonald's Studio, 141 Bridge Ave E, Delano, M...   \n",
              "28  Mc Donald's Towing of Paw Paw, 39617 W Red Arr...   \n",
              "\n",
              "                                  Gmap_Id Description   Latitude  Longitude  \\\n",
              "24  0x52b4a9af2ca9aa29:0x20efe9b9990af8b3        None  45.041810 -93.788087   \n",
              "28  0x881741d71056f773:0xde1e96ed0a460024        None  42.211307 -85.933143   \n",
              "\n",
              "                       Category  Avg_Rating  Num_Of_Reviews Price Hours  \\\n",
              "24              Portrait studio         4.9               8  None  None   \n",
              "28  Towing service Auto wrecker         3.2               8  None  None   \n",
              "\n",
              "                                                 Misc State  \\\n",
              "24  {'Accessibility': ['Wheelchair accessible entr...  None   \n",
              "28                                               None  None   \n",
              "\n",
              "                                     Relative_Results  \\\n",
              "24  [0x52b4a9105e951a1d:0x1ac4d8fb0264249d, 0x52b4...   \n",
              "28  [0x88176a4b799092ed:0x10fc20d91d5ecfc9, 0x8817...   \n",
              "\n",
              "                                                  Url  \n",
              "24  https://www.google.com/maps/place//data=!4m2!3...  \n",
              "28  https://www.google.com/maps/place//data=!4m2!3...  "
            ]
          },
          "execution_count": 111,
          "metadata": {},
          "output_type": "execute_result"
        }
      ],
      "source": [
        "df_sitios[~df_sitios['Category'].str.contains('restaurant|Fast food|Restaurant|fast-food')].head(2)"
      ]
    },
    {
      "cell_type": "markdown",
      "metadata": {},
      "source": [
        "*Podemos ver claramente, que corresponden a otras categorias totalmente distintas y no pertenecen a la cadena de comidas rapidas de nuestro interes.*"
      ]
    },
    {
      "cell_type": "markdown",
      "metadata": {},
      "source": [
        "### review-Florida 📊"
      ]
    },
    {
      "cell_type": "code",
      "execution_count": 85,
      "metadata": {},
      "outputs": [],
      "source": [
        "ruta = './Datos/Google Maps/reviews-estados/review-Florida'"
      ]
    },
    {
      "cell_type": "markdown",
      "metadata": {},
      "source": [
        "*Leemos los archivos **.json** de la carpeta **review-Florida**. Convertimos el DataFrame en un archivo compatible con parquet, y lo guardamos de manera local para su posterior uso:*"
      ]
    },
    {
      "cell_type": "code",
      "execution_count": 101,
      "metadata": {},
      "outputs": [],
      "source": [
        "#Generamos una lista vacia donde almacenaremos los DataFrames\n",
        "dfs = []\n",
        "\n",
        "#Iteramos sobre los archivos del directorio\n",
        "for filename in os.listdir(ruta):\n",
        "\n",
        "    #Si el archivo es un JSON, lo leemos y filtramos los registros que contengan la palabra McDonald's\n",
        "    if filename.endswith('.json'):\n",
        "        filepath = os.path.join(ruta, filename)\n",
        "        df = pd.read_json(filepath, lines=True)\n",
        "        dfs.append(df)\n",
        "\n",
        "#Si se encontraron DataFrames, los concatenamos y guardamos el resultado en formato Parquet\n",
        "if len(dfs) > 0:\n",
        "    merged_df = pd.concat(dfs)\n",
        "    merged_df.reset_index(drop=True, inplace=True)\n",
        "\n",
        "    #Guardamos el DataFrame en formato Parquet\n",
        "    merged_df.to_parquet('./Datos/review-Florida-temporal.parquet')\n",
        "    \n",
        "else:\n",
        "    print(\"No se encontraron archivos JSON en el directorio que cumplieran con la condición.\")"
      ]
    },
    {
      "cell_type": "markdown",
      "metadata": {},
      "source": [
        "*Leemos el archivo generado anteriormente y lo almacenamos en un DataFrame para proceder con las transformaciones del mismo:*"
      ]
    },
    {
      "cell_type": "code",
      "execution_count": 116,
      "metadata": {},
      "outputs": [],
      "source": [
        "df_florida = pd.read_parquet('./Datos/review-Florida-temporal.parquet')"
      ]
    },
    {
      "cell_type": "markdown",
      "metadata": {},
      "source": [
        "*Normalizamos los nombres de las columnas del mismo:*"
      ]
    },
    {
      "cell_type": "code",
      "execution_count": 117,
      "metadata": {},
      "outputs": [],
      "source": [
        "df_florida = ut.normalizacion_columnas(df_florida)"
      ]
    },
    {
      "cell_type": "code",
      "execution_count": 141,
      "metadata": {},
      "outputs": [
        {
          "data": {
            "text/html": [
              "<div>\n",
              "<style scoped>\n",
              "    .dataframe tbody tr th:only-of-type {\n",
              "        vertical-align: middle;\n",
              "    }\n",
              "\n",
              "    .dataframe tbody tr th {\n",
              "        vertical-align: top;\n",
              "    }\n",
              "\n",
              "    .dataframe thead th {\n",
              "        text-align: right;\n",
              "    }\n",
              "</style>\n",
              "<table border=\"1\" class=\"dataframe\">\n",
              "  <thead>\n",
              "    <tr style=\"text-align: right;\">\n",
              "      <th></th>\n",
              "      <th>User_Id</th>\n",
              "      <th>Name</th>\n",
              "      <th>Time</th>\n",
              "      <th>Rating</th>\n",
              "      <th>Text</th>\n",
              "      <th>Pics</th>\n",
              "      <th>Resp</th>\n",
              "      <th>Gmap_Id</th>\n",
              "    </tr>\n",
              "  </thead>\n",
              "  <tbody>\n",
              "    <tr>\n",
              "      <th>0</th>\n",
              "      <td>1.014719e+20</td>\n",
              "      <td>Julie A. Gerber</td>\n",
              "      <td>1628003250740</td>\n",
              "      <td>1</td>\n",
              "      <td>Update: Their “reply” to my review amounted to...</td>\n",
              "      <td>None</td>\n",
              "      <td>{'text': 'Thank you for the feedback. We would...</td>\n",
              "      <td>0x8893863ea87bd5dd:0x9383ebf973e74abb</td>\n",
              "    </tr>\n",
              "    <tr>\n",
              "      <th>1</th>\n",
              "      <td>1.154772e+20</td>\n",
              "      <td>Martin Sheffield</td>\n",
              "      <td>1595031217005</td>\n",
              "      <td>5</td>\n",
              "      <td>He's a knowledgeable doctor but the way he run...</td>\n",
              "      <td>None</td>\n",
              "      <td>{'text': 'Thank you for reaching out. I’m forw...</td>\n",
              "      <td>0x8893863ea87bd5dd:0x9383ebf973e74abb</td>\n",
              "    </tr>\n",
              "    <tr>\n",
              "      <th>2</th>\n",
              "      <td>1.018050e+20</td>\n",
              "      <td>Brian Truett</td>\n",
              "      <td>1522924253567</td>\n",
              "      <td>5</td>\n",
              "      <td>Best doctor I've ever had, I never wait to be ...</td>\n",
              "      <td>None</td>\n",
              "      <td>None</td>\n",
              "      <td>0x8893863ea87bd5dd:0x9383ebf973e74abb</td>\n",
              "    </tr>\n",
              "    <tr>\n",
              "      <th>3</th>\n",
              "      <td>1.063444e+20</td>\n",
              "      <td>Tina Sun</td>\n",
              "      <td>1467907819586</td>\n",
              "      <td>1</td>\n",
              "      <td>I was told he is a good doctor. I was trying t...</td>\n",
              "      <td>None</td>\n",
              "      <td>None</td>\n",
              "      <td>0x8893863ea87bd5dd:0x9383ebf973e74abb</td>\n",
              "    </tr>\n",
              "    <tr>\n",
              "      <th>4</th>\n",
              "      <td>1.008751e+20</td>\n",
              "      <td>James Haynes</td>\n",
              "      <td>1480683415081</td>\n",
              "      <td>5</td>\n",
              "      <td>Takes the time to actually get to know his pat...</td>\n",
              "      <td>None</td>\n",
              "      <td>None</td>\n",
              "      <td>0x8893863ea87bd5dd:0x9383ebf973e74abb</td>\n",
              "    </tr>\n",
              "    <tr>\n",
              "      <th>...</th>\n",
              "      <td>...</td>\n",
              "      <td>...</td>\n",
              "      <td>...</td>\n",
              "      <td>...</td>\n",
              "      <td>...</td>\n",
              "      <td>...</td>\n",
              "      <td>...</td>\n",
              "      <td>...</td>\n",
              "    </tr>\n",
              "    <tr>\n",
              "      <th>2849995</th>\n",
              "      <td>1.002877e+20</td>\n",
              "      <td>James Rudolph</td>\n",
              "      <td>1617305583696</td>\n",
              "      <td>5</td>\n",
              "      <td>None</td>\n",
              "      <td>None</td>\n",
              "      <td>{'text': 'Thank you!', 'time': 1617561671234.0}</td>\n",
              "      <td>0x8890966585e36d3f:0x131d47c2c60a8d31</td>\n",
              "    </tr>\n",
              "    <tr>\n",
              "      <th>2849996</th>\n",
              "      <td>1.140989e+20</td>\n",
              "      <td>Vincent Alexander</td>\n",
              "      <td>1581817848416</td>\n",
              "      <td>3</td>\n",
              "      <td>None</td>\n",
              "      <td>None</td>\n",
              "      <td>None</td>\n",
              "      <td>0x8890966585e36d3f:0x131d47c2c60a8d31</td>\n",
              "    </tr>\n",
              "    <tr>\n",
              "      <th>2849997</th>\n",
              "      <td>1.123448e+20</td>\n",
              "      <td>Brett Owen</td>\n",
              "      <td>1551240010030</td>\n",
              "      <td>5</td>\n",
              "      <td>None</td>\n",
              "      <td>None</td>\n",
              "      <td>None</td>\n",
              "      <td>0x8890966585e36d3f:0x131d47c2c60a8d31</td>\n",
              "    </tr>\n",
              "    <tr>\n",
              "      <th>2849998</th>\n",
              "      <td>1.054465e+20</td>\n",
              "      <td>ashly kindle</td>\n",
              "      <td>1521152570004</td>\n",
              "      <td>5</td>\n",
              "      <td>None</td>\n",
              "      <td>None</td>\n",
              "      <td>{'text': 'Thank you, Ashly', 'time': 151691419...</td>\n",
              "      <td>0x8890966585e36d3f:0x131d47c2c60a8d31</td>\n",
              "    </tr>\n",
              "    <tr>\n",
              "      <th>2849999</th>\n",
              "      <td>1.087433e+20</td>\n",
              "      <td>Jomarra Auge</td>\n",
              "      <td>1536462690218</td>\n",
              "      <td>5</td>\n",
              "      <td>None</td>\n",
              "      <td>None</td>\n",
              "      <td>{'text': 'Thank you, Mrs. Jomarra:)', 'time': ...</td>\n",
              "      <td>0x8890966585e36d3f:0x131d47c2c60a8d31</td>\n",
              "    </tr>\n",
              "  </tbody>\n",
              "</table>\n",
              "<p>2850000 rows × 8 columns</p>\n",
              "</div>"
            ],
            "text/plain": [
              "              User_Id               Name           Time  Rating  \\\n",
              "0        1.014719e+20    Julie A. Gerber  1628003250740       1   \n",
              "1        1.154772e+20   Martin Sheffield  1595031217005       5   \n",
              "2        1.018050e+20       Brian Truett  1522924253567       5   \n",
              "3        1.063444e+20           Tina Sun  1467907819586       1   \n",
              "4        1.008751e+20       James Haynes  1480683415081       5   \n",
              "...               ...                ...            ...     ...   \n",
              "2849995  1.002877e+20      James Rudolph  1617305583696       5   \n",
              "2849996  1.140989e+20  Vincent Alexander  1581817848416       3   \n",
              "2849997  1.123448e+20         Brett Owen  1551240010030       5   \n",
              "2849998  1.054465e+20       ashly kindle  1521152570004       5   \n",
              "2849999  1.087433e+20       Jomarra Auge  1536462690218       5   \n",
              "\n",
              "                                                      Text  Pics  \\\n",
              "0        Update: Their “reply” to my review amounted to...  None   \n",
              "1        He's a knowledgeable doctor but the way he run...  None   \n",
              "2        Best doctor I've ever had, I never wait to be ...  None   \n",
              "3        I was told he is a good doctor. I was trying t...  None   \n",
              "4        Takes the time to actually get to know his pat...  None   \n",
              "...                                                    ...   ...   \n",
              "2849995                                               None  None   \n",
              "2849996                                               None  None   \n",
              "2849997                                               None  None   \n",
              "2849998                                               None  None   \n",
              "2849999                                               None  None   \n",
              "\n",
              "                                                      Resp  \\\n",
              "0        {'text': 'Thank you for the feedback. We would...   \n",
              "1        {'text': 'Thank you for reaching out. I’m forw...   \n",
              "2                                                     None   \n",
              "3                                                     None   \n",
              "4                                                     None   \n",
              "...                                                    ...   \n",
              "2849995    {'text': 'Thank you!', 'time': 1617561671234.0}   \n",
              "2849996                                               None   \n",
              "2849997                                               None   \n",
              "2849998  {'text': 'Thank you, Ashly', 'time': 151691419...   \n",
              "2849999  {'text': 'Thank you, Mrs. Jomarra:)', 'time': ...   \n",
              "\n",
              "                                       Gmap_Id  \n",
              "0        0x8893863ea87bd5dd:0x9383ebf973e74abb  \n",
              "1        0x8893863ea87bd5dd:0x9383ebf973e74abb  \n",
              "2        0x8893863ea87bd5dd:0x9383ebf973e74abb  \n",
              "3        0x8893863ea87bd5dd:0x9383ebf973e74abb  \n",
              "4        0x8893863ea87bd5dd:0x9383ebf973e74abb  \n",
              "...                                        ...  \n",
              "2849995  0x8890966585e36d3f:0x131d47c2c60a8d31  \n",
              "2849996  0x8890966585e36d3f:0x131d47c2c60a8d31  \n",
              "2849997  0x8890966585e36d3f:0x131d47c2c60a8d31  \n",
              "2849998  0x8890966585e36d3f:0x131d47c2c60a8d31  \n",
              "2849999  0x8890966585e36d3f:0x131d47c2c60a8d31  \n",
              "\n",
              "[2850000 rows x 8 columns]"
            ]
          },
          "execution_count": 141,
          "metadata": {},
          "output_type": "execute_result"
        }
      ],
      "source": [
        "df_florida"
      ]
    },
    {
      "cell_type": "markdown",
      "metadata": {},
      "source": [
        "*Uniremos los DataFrames, **df_sitios_** y **df_florida**, para quedarnos solo con las reseñas del comercio de nuestro interes:*"
      ]
    },
    {
      "cell_type": "code",
      "execution_count": 142,
      "metadata": {},
      "outputs": [],
      "source": [
        "reviews_florida = df_florida.merge(df_sitios, on= 'Gmap_Id')"
      ]
    },
    {
      "cell_type": "code",
      "execution_count": 145,
      "metadata": {},
      "outputs": [
        {
          "data": {
            "text/html": [
              "<div>\n",
              "<style scoped>\n",
              "    .dataframe tbody tr th:only-of-type {\n",
              "        vertical-align: middle;\n",
              "    }\n",
              "\n",
              "    .dataframe tbody tr th {\n",
              "        vertical-align: top;\n",
              "    }\n",
              "\n",
              "    .dataframe thead th {\n",
              "        text-align: right;\n",
              "    }\n",
              "</style>\n",
              "<table border=\"1\" class=\"dataframe\">\n",
              "  <thead>\n",
              "    <tr style=\"text-align: right;\">\n",
              "      <th></th>\n",
              "      <th>User_Id</th>\n",
              "      <th>Name_x</th>\n",
              "      <th>Time</th>\n",
              "      <th>Rating</th>\n",
              "      <th>Text</th>\n",
              "      <th>Pics</th>\n",
              "      <th>Resp</th>\n",
              "      <th>Gmap_Id</th>\n",
              "      <th>Name_y</th>\n",
              "      <th>Address</th>\n",
              "      <th>...</th>\n",
              "      <th>Longitude</th>\n",
              "      <th>Category</th>\n",
              "      <th>Avg_Rating</th>\n",
              "      <th>Num_Of_Reviews</th>\n",
              "      <th>Price</th>\n",
              "      <th>Hours</th>\n",
              "      <th>Misc</th>\n",
              "      <th>State</th>\n",
              "      <th>Relative_Results</th>\n",
              "      <th>Url</th>\n",
              "    </tr>\n",
              "  </thead>\n",
              "  <tbody>\n",
              "    <tr>\n",
              "      <th>0</th>\n",
              "      <td>1.123131e+20</td>\n",
              "      <td>Crystal Pedraza</td>\n",
              "      <td>1609195591445</td>\n",
              "      <td>5</td>\n",
              "      <td>Good food good service</td>\n",
              "      <td>None</td>\n",
              "      <td>None</td>\n",
              "      <td>0x88e81ee8d1ae20e9:0xf34a362c6c772e99</td>\n",
              "      <td>McDonald's</td>\n",
              "      <td>McDonald's, 13300 Cortez Blvd, Brooksville, FL...</td>\n",
              "      <td>...</td>\n",
              "      <td>-82.506031</td>\n",
              "      <td>Fast food restaurant Breakfast restaurant Coff...</td>\n",
              "      <td>2.2</td>\n",
              "      <td>38</td>\n",
              "      <td>$</td>\n",
              "      <td>None</td>\n",
              "      <td>{'Accessibility': ['Wheelchair accessible entr...</td>\n",
              "      <td>None</td>\n",
              "      <td>[0x88e81eea3f689d27:0xade1e6e09892161, 0x88e81...</td>\n",
              "      <td>https://www.google.com/maps/place//data=!4m2!3...</td>\n",
              "    </tr>\n",
              "    <tr>\n",
              "      <th>1</th>\n",
              "      <td>1.122551e+20</td>\n",
              "      <td>Jessica Guiliano</td>\n",
              "      <td>1572482113768</td>\n",
              "      <td>1</td>\n",
              "      <td>I am here at 8:30 PM and the only thing my dau...</td>\n",
              "      <td>None</td>\n",
              "      <td>None</td>\n",
              "      <td>0x88e81ee8d1ae20e9:0xf34a362c6c772e99</td>\n",
              "      <td>McDonald's</td>\n",
              "      <td>McDonald's, 13300 Cortez Blvd, Brooksville, FL...</td>\n",
              "      <td>...</td>\n",
              "      <td>-82.506031</td>\n",
              "      <td>Fast food restaurant Breakfast restaurant Coff...</td>\n",
              "      <td>2.2</td>\n",
              "      <td>38</td>\n",
              "      <td>$</td>\n",
              "      <td>None</td>\n",
              "      <td>{'Accessibility': ['Wheelchair accessible entr...</td>\n",
              "      <td>None</td>\n",
              "      <td>[0x88e81eea3f689d27:0xade1e6e09892161, 0x88e81...</td>\n",
              "      <td>https://www.google.com/maps/place//data=!4m2!3...</td>\n",
              "    </tr>\n",
              "  </tbody>\n",
              "</table>\n",
              "<p>2 rows × 22 columns</p>\n",
              "</div>"
            ],
            "text/plain": [
              "        User_Id            Name_x           Time  Rating  \\\n",
              "0  1.123131e+20   Crystal Pedraza  1609195591445       5   \n",
              "1  1.122551e+20  Jessica Guiliano  1572482113768       1   \n",
              "\n",
              "                                                Text  Pics  Resp  \\\n",
              "0                             Good food good service  None  None   \n",
              "1  I am here at 8:30 PM and the only thing my dau...  None  None   \n",
              "\n",
              "                                 Gmap_Id      Name_y  \\\n",
              "0  0x88e81ee8d1ae20e9:0xf34a362c6c772e99  McDonald's   \n",
              "1  0x88e81ee8d1ae20e9:0xf34a362c6c772e99  McDonald's   \n",
              "\n",
              "                                             Address  ...  Longitude  \\\n",
              "0  McDonald's, 13300 Cortez Blvd, Brooksville, FL...  ... -82.506031   \n",
              "1  McDonald's, 13300 Cortez Blvd, Brooksville, FL...  ... -82.506031   \n",
              "\n",
              "                                            Category  Avg_Rating  \\\n",
              "0  Fast food restaurant Breakfast restaurant Coff...         2.2   \n",
              "1  Fast food restaurant Breakfast restaurant Coff...         2.2   \n",
              "\n",
              "  Num_Of_Reviews  Price  Hours  \\\n",
              "0             38      $   None   \n",
              "1             38      $   None   \n",
              "\n",
              "                                                Misc State  \\\n",
              "0  {'Accessibility': ['Wheelchair accessible entr...  None   \n",
              "1  {'Accessibility': ['Wheelchair accessible entr...  None   \n",
              "\n",
              "                                    Relative_Results  \\\n",
              "0  [0x88e81eea3f689d27:0xade1e6e09892161, 0x88e81...   \n",
              "1  [0x88e81eea3f689d27:0xade1e6e09892161, 0x88e81...   \n",
              "\n",
              "                                                 Url  \n",
              "0  https://www.google.com/maps/place//data=!4m2!3...  \n",
              "1  https://www.google.com/maps/place//data=!4m2!3...  \n",
              "\n",
              "[2 rows x 22 columns]"
            ]
          },
          "execution_count": 145,
          "metadata": {},
          "output_type": "execute_result"
        }
      ],
      "source": [
        "reviews_florida.head(2)"
      ]
    },
    {
      "cell_type": "markdown",
      "metadata": {},
      "source": [
        "*Guardamos el DataFrame resultante para su posterior uso:*"
      ]
    },
    {
      "cell_type": "code",
      "execution_count": 154,
      "metadata": {},
      "outputs": [],
      "source": [
        "df_sitios_.to_parquet('./Datos/Archivos Filtrados/reviews_florida_mcdonalds.parquet')"
      ]
    }
  ],
  "metadata": {
    "colab": {
      "provenance": []
    },
    "kernelspec": {
      "display_name": "Python 3",
      "name": "python3"
    },
    "language_info": {
      "codemirror_mode": {
        "name": "ipython",
        "version": 3
      },
      "file_extension": ".py",
      "mimetype": "text/x-python",
      "name": "python",
      "nbconvert_exporter": "python",
      "pygments_lexer": "ipython3",
      "version": "3.11.0"
    }
  },
  "nbformat": 4,
  "nbformat_minor": 0
}
