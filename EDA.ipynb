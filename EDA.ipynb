{
  "cells": [
    {
      "cell_type": "markdown",
      "metadata": {},
      "source": [
        "## EDA - Exploratory Data Analysis"
      ]
    },
    {
      "cell_type": "markdown",
      "metadata": {},
      "source": [
        "Etapa en la que se llevara a cabo un análisis exhaustivo de los datos. Entre los aspectos destacados que se deben abordar en esta etapa se encuentran:\n",
        "\n",
        "- La busqueda de valores faltantes.\n",
        "- Tratamiento de valores faltantes.\n",
        "- Valores atipicos/extremos o outliers.\n",
        "- Registros duplicados."
      ]
    },
    {
      "cell_type": "markdown",
      "metadata": {},
      "source": [
        "#### Importación de librerias:"
      ]
    },
    {
      "cell_type": "code",
      "execution_count": 1,
      "metadata": {
        "id": "0G0ZXtuj-2Wy"
      },
      "outputs": [],
      "source": [
        "import pandas as pd\n",
        "from io import BytesIO\n",
        "import pyarrow.parquet as pq\n",
        "import os\n",
        "import matplotlib.pyplot as plt\n",
        "import seaborn as sns\n",
        "import Utilidades as ut"
      ]
    },
    {
      "cell_type": "markdown",
      "metadata": {
        "id": "-VN63Tg7_yyR"
      },
      "source": [
        "### Business 📊"
      ]
    },
    {
      "cell_type": "markdown",
      "metadata": {},
      "source": [
        "*Dataset que contiene información del comercio, incluyendo localización, atributos y categorías.*"
      ]
    },
    {
      "cell_type": "markdown",
      "metadata": {},
      "source": [
        "*Definimos la ruta del archivo :*"
      ]
    },
    {
      "cell_type": "code",
      "execution_count": 2,
      "metadata": {
        "id": "5qBrQzr9_yI4"
      },
      "outputs": [],
      "source": [
        "ruta = './Datos/Yelp/business.pkl' "
      ]
    },
    {
      "cell_type": "markdown",
      "metadata": {},
      "source": [
        "*Almacenamos el contenido del archivo en un DataFrame:*"
      ]
    },
    {
      "cell_type": "code",
      "execution_count": 3,
      "metadata": {
        "id": "v1ZkD9cL_VRE"
      },
      "outputs": [],
      "source": [
        "with open(ruta, \"rb\") as file:\n",
        "    df_business = pd.read_pickle(BytesIO(file.read()))"
      ]
    },
    {
      "cell_type": "markdown",
      "metadata": {},
      "source": [
        "*Visualizamos el DataFrame:*"
      ]
    },
    {
      "cell_type": "code",
      "execution_count": 4,
      "metadata": {},
      "outputs": [
        {
          "data": {
            "text/html": [
              "<div>\n",
              "<style scoped>\n",
              "    .dataframe tbody tr th:only-of-type {\n",
              "        vertical-align: middle;\n",
              "    }\n",
              "\n",
              "    .dataframe tbody tr th {\n",
              "        vertical-align: top;\n",
              "    }\n",
              "\n",
              "    .dataframe thead th {\n",
              "        text-align: right;\n",
              "    }\n",
              "</style>\n",
              "<table border=\"1\" class=\"dataframe\">\n",
              "  <thead>\n",
              "    <tr style=\"text-align: right;\">\n",
              "      <th></th>\n",
              "      <th>business_id</th>\n",
              "      <th>name</th>\n",
              "      <th>address</th>\n",
              "      <th>city</th>\n",
              "      <th>state</th>\n",
              "      <th>postal_code</th>\n",
              "      <th>latitude</th>\n",
              "      <th>longitude</th>\n",
              "      <th>stars</th>\n",
              "      <th>review_count</th>\n",
              "      <th>...</th>\n",
              "      <th>state</th>\n",
              "      <th>postal_code</th>\n",
              "      <th>latitude</th>\n",
              "      <th>longitude</th>\n",
              "      <th>stars</th>\n",
              "      <th>review_count</th>\n",
              "      <th>is_open</th>\n",
              "      <th>attributes</th>\n",
              "      <th>categories</th>\n",
              "      <th>hours</th>\n",
              "    </tr>\n",
              "  </thead>\n",
              "  <tbody>\n",
              "    <tr>\n",
              "      <th>0</th>\n",
              "      <td>Pns2l4eNsfO8kk83dixA6A</td>\n",
              "      <td>Abby Rappoport, LAC, CMQ</td>\n",
              "      <td>1616 Chapala St, Ste 2</td>\n",
              "      <td>Santa Barbara</td>\n",
              "      <td>NaN</td>\n",
              "      <td>93101</td>\n",
              "      <td>34.426679</td>\n",
              "      <td>-119.711197</td>\n",
              "      <td>5.0</td>\n",
              "      <td>7</td>\n",
              "      <td>...</td>\n",
              "      <td>NaN</td>\n",
              "      <td>NaN</td>\n",
              "      <td>NaN</td>\n",
              "      <td>NaN</td>\n",
              "      <td>NaN</td>\n",
              "      <td>NaN</td>\n",
              "      <td>NaN</td>\n",
              "      <td>NaN</td>\n",
              "      <td>NaN</td>\n",
              "      <td>NaN</td>\n",
              "    </tr>\n",
              "    <tr>\n",
              "      <th>1</th>\n",
              "      <td>mpf3x-BjTdTEA3yCZrAYPw</td>\n",
              "      <td>The UPS Store</td>\n",
              "      <td>87 Grasso Plaza Shopping Center</td>\n",
              "      <td>Affton</td>\n",
              "      <td>NaN</td>\n",
              "      <td>63123</td>\n",
              "      <td>38.551126</td>\n",
              "      <td>-90.335695</td>\n",
              "      <td>3.0</td>\n",
              "      <td>15</td>\n",
              "      <td>...</td>\n",
              "      <td>NaN</td>\n",
              "      <td>NaN</td>\n",
              "      <td>NaN</td>\n",
              "      <td>NaN</td>\n",
              "      <td>NaN</td>\n",
              "      <td>NaN</td>\n",
              "      <td>NaN</td>\n",
              "      <td>NaN</td>\n",
              "      <td>NaN</td>\n",
              "      <td>NaN</td>\n",
              "    </tr>\n",
              "  </tbody>\n",
              "</table>\n",
              "<p>2 rows × 28 columns</p>\n",
              "</div>"
            ],
            "text/plain": [
              "              business_id                      name  \\\n",
              "0  Pns2l4eNsfO8kk83dixA6A  Abby Rappoport, LAC, CMQ   \n",
              "1  mpf3x-BjTdTEA3yCZrAYPw             The UPS Store   \n",
              "\n",
              "                           address           city state postal_code  \\\n",
              "0           1616 Chapala St, Ste 2  Santa Barbara   NaN       93101   \n",
              "1  87 Grasso Plaza Shopping Center         Affton   NaN       63123   \n",
              "\n",
              "    latitude   longitude stars review_count  ... state postal_code latitude  \\\n",
              "0  34.426679 -119.711197   5.0            7  ...   NaN         NaN      NaN   \n",
              "1  38.551126  -90.335695   3.0           15  ...   NaN         NaN      NaN   \n",
              "\n",
              "  longitude stars review_count is_open attributes categories hours  \n",
              "0       NaN   NaN          NaN     NaN        NaN        NaN   NaN  \n",
              "1       NaN   NaN          NaN     NaN        NaN        NaN   NaN  \n",
              "\n",
              "[2 rows x 28 columns]"
            ]
          },
          "execution_count": 4,
          "metadata": {},
          "output_type": "execute_result"
        }
      ],
      "source": [
        "df_business.head(2)"
      ]
    },
    {
      "cell_type": "markdown",
      "metadata": {},
      "source": [
        "*Visualizamos la información general del DataFrame (nombres de las columnas, valores **non-null** y tipo de dato por columna):*"
      ]
    },
    {
      "cell_type": "code",
      "execution_count": 5,
      "metadata": {},
      "outputs": [
        {
          "name": "stdout",
          "output_type": "stream",
          "text": [
            "<class 'pandas.core.frame.DataFrame'>\n",
            "Index: 150346 entries, 0 to 150345\n",
            "Data columns (total 28 columns):\n",
            " #   Column        Non-Null Count   Dtype \n",
            "---  ------        --------------   ----- \n",
            " 0   business_id   150346 non-null  object\n",
            " 1   name          150346 non-null  object\n",
            " 2   address       150346 non-null  object\n",
            " 3   city          150346 non-null  object\n",
            " 4   state         150343 non-null  object\n",
            " 5   postal_code   150346 non-null  object\n",
            " 6   latitude      150346 non-null  object\n",
            " 7   longitude     150346 non-null  object\n",
            " 8   stars         150346 non-null  object\n",
            " 9   review_count  150346 non-null  object\n",
            " 10  is_open       150346 non-null  object\n",
            " 11  attributes    136602 non-null  object\n",
            " 12  categories    150243 non-null  object\n",
            " 13  hours         127123 non-null  object\n",
            " 14  business_id   5 non-null       object\n",
            " 15  name          5 non-null       object\n",
            " 16  address       5 non-null       object\n",
            " 17  city          5 non-null       object\n",
            " 18  state         5 non-null       object\n",
            " 19  postal_code   5 non-null       object\n",
            " 20  latitude      5 non-null       object\n",
            " 21  longitude     5 non-null       object\n",
            " 22  stars         5 non-null       object\n",
            " 23  review_count  5 non-null       object\n",
            " 24  is_open       5 non-null       object\n",
            " 25  attributes    5 non-null       object\n",
            " 26  categories    5 non-null       object\n",
            " 27  hours         5 non-null       object\n",
            "dtypes: object(28)\n",
            "memory usage: 33.3+ MB\n"
          ]
        }
      ],
      "source": [
        "df_business.info()"
      ]
    },
    {
      "cell_type": "markdown",
      "metadata": {},
      "source": [
        "> *Podemos ver que las columnas del DataFrame estan duplicadas, y podemos ver que esas columnas duplicadas poseen un número muy bajo de valores **non-null**.*"
      ]
    },
    {
      "cell_type": "markdown",
      "metadata": {},
      "source": [
        "*Procedemos a eliminar esas columnas, ya que no aportan nada relevante:*"
      ]
    },
    {
      "cell_type": "code",
      "execution_count": 6,
      "metadata": {},
      "outputs": [],
      "source": [
        "df_business = df_business.loc[:, ~df_business.columns.duplicated()]"
      ]
    },
    {
      "cell_type": "markdown",
      "metadata": {},
      "source": [
        "*Analizamos el porcentaje de valores nulos:*"
      ]
    },
    {
      "cell_type": "code",
      "execution_count": 7,
      "metadata": {},
      "outputs": [
        {
          "name": "stdout",
          "output_type": "stream",
          "text": [
            "La columna business_id tiene un  0.00 % de valores nulos\n",
            "La columna name tiene un  0.00 % de valores nulos\n",
            "La columna address tiene un  0.00 % de valores nulos\n",
            "La columna city tiene un  0.00 % de valores nulos\n",
            "La columna state tiene un  0.00 % de valores nulos\n",
            "La columna postal_code tiene un  0.00 % de valores nulos\n",
            "La columna latitude tiene un  0.00 % de valores nulos\n",
            "La columna longitude tiene un  0.00 % de valores nulos\n",
            "La columna stars tiene un  0.00 % de valores nulos\n",
            "La columna review_count tiene un  0.00 % de valores nulos\n",
            "La columna is_open tiene un  0.00 % de valores nulos\n",
            "La columna attributes tiene un  9.14 % de valores nulos\n",
            "La columna categories tiene un  0.07 % de valores nulos\n",
            "La columna hours tiene un  15.45 % de valores nulos\n"
          ]
        }
      ],
      "source": [
        "ut.porcentaje_valores_nulos(df_business)"
      ]
    },
    {
      "cell_type": "markdown",
      "metadata": {},
      "source": [
        "> *Podemos observar que la gran mayoria de las columnas no poseen valores nulos, y las que si poseen, representan un porcentaje muy bajo.*"
      ]
    },
    {
      "cell_type": "markdown",
      "metadata": {},
      "source": [
        "*Antes de seguir con el análisis estadistico del DataFrame, guardaremos el archivo en formato **.parquet**, para que al ejecutar operaciones sobre el, sea de manera más optimizada:*"
      ]
    },
    {
      "cell_type": "code",
      "execution_count": 8,
      "metadata": {},
      "outputs": [],
      "source": [
        "df_business.to_parquet('./Datos/Yelp/business.parquet')"
      ]
    },
    {
      "cell_type": "markdown",
      "metadata": {},
      "source": [
        "*Abrimos el archivo, pero en formato **.parquet**:*"
      ]
    },
    {
      "cell_type": "code",
      "execution_count": 9,
      "metadata": {},
      "outputs": [],
      "source": [
        "df_business = pq.read_table('./Datos/Yelp/business.parquet').to_pandas()"
      ]
    },
    {
      "cell_type": "markdown",
      "metadata": {},
      "source": [
        "*Analizamos las estadisticas descriptivas de todo el DataFrame, y veremos que información relevante podemos obtener a partir de allí:*"
      ]
    },
    {
      "cell_type": "code",
      "execution_count": 10,
      "metadata": {},
      "outputs": [
        {
          "data": {
            "text/html": [
              "<div>\n",
              "<style scoped>\n",
              "    .dataframe tbody tr th:only-of-type {\n",
              "        vertical-align: middle;\n",
              "    }\n",
              "\n",
              "    .dataframe tbody tr th {\n",
              "        vertical-align: top;\n",
              "    }\n",
              "\n",
              "    .dataframe thead th {\n",
              "        text-align: right;\n",
              "    }\n",
              "</style>\n",
              "<table border=\"1\" class=\"dataframe\">\n",
              "  <thead>\n",
              "    <tr style=\"text-align: right;\">\n",
              "      <th></th>\n",
              "      <th>latitude</th>\n",
              "      <th>longitude</th>\n",
              "      <th>stars</th>\n",
              "      <th>review_count</th>\n",
              "      <th>is_open</th>\n",
              "    </tr>\n",
              "  </thead>\n",
              "  <tbody>\n",
              "    <tr>\n",
              "      <th>count</th>\n",
              "      <td>150346.000000</td>\n",
              "      <td>150346.000000</td>\n",
              "      <td>150346.000000</td>\n",
              "      <td>150346.000000</td>\n",
              "      <td>150346.00000</td>\n",
              "    </tr>\n",
              "    <tr>\n",
              "      <th>mean</th>\n",
              "      <td>36.671150</td>\n",
              "      <td>-89.357339</td>\n",
              "      <td>3.596724</td>\n",
              "      <td>44.866561</td>\n",
              "      <td>0.79615</td>\n",
              "    </tr>\n",
              "    <tr>\n",
              "      <th>std</th>\n",
              "      <td>5.872759</td>\n",
              "      <td>14.918502</td>\n",
              "      <td>0.974421</td>\n",
              "      <td>121.120136</td>\n",
              "      <td>0.40286</td>\n",
              "    </tr>\n",
              "    <tr>\n",
              "      <th>min</th>\n",
              "      <td>27.555127</td>\n",
              "      <td>-120.095137</td>\n",
              "      <td>1.000000</td>\n",
              "      <td>5.000000</td>\n",
              "      <td>0.00000</td>\n",
              "    </tr>\n",
              "    <tr>\n",
              "      <th>25%</th>\n",
              "      <td>32.187293</td>\n",
              "      <td>-90.357810</td>\n",
              "      <td>3.000000</td>\n",
              "      <td>8.000000</td>\n",
              "      <td>1.00000</td>\n",
              "    </tr>\n",
              "    <tr>\n",
              "      <th>50%</th>\n",
              "      <td>38.777413</td>\n",
              "      <td>-86.121179</td>\n",
              "      <td>3.500000</td>\n",
              "      <td>15.000000</td>\n",
              "      <td>1.00000</td>\n",
              "    </tr>\n",
              "    <tr>\n",
              "      <th>75%</th>\n",
              "      <td>39.954036</td>\n",
              "      <td>-75.421542</td>\n",
              "      <td>4.500000</td>\n",
              "      <td>37.000000</td>\n",
              "      <td>1.00000</td>\n",
              "    </tr>\n",
              "    <tr>\n",
              "      <th>max</th>\n",
              "      <td>53.679197</td>\n",
              "      <td>-73.200457</td>\n",
              "      <td>5.000000</td>\n",
              "      <td>7568.000000</td>\n",
              "      <td>1.00000</td>\n",
              "    </tr>\n",
              "  </tbody>\n",
              "</table>\n",
              "</div>"
            ],
            "text/plain": [
              "            latitude      longitude          stars   review_count  \\\n",
              "count  150346.000000  150346.000000  150346.000000  150346.000000   \n",
              "mean       36.671150     -89.357339       3.596724      44.866561   \n",
              "std         5.872759      14.918502       0.974421     121.120136   \n",
              "min        27.555127    -120.095137       1.000000       5.000000   \n",
              "25%        32.187293     -90.357810       3.000000       8.000000   \n",
              "50%        38.777413     -86.121179       3.500000      15.000000   \n",
              "75%        39.954036     -75.421542       4.500000      37.000000   \n",
              "max        53.679197     -73.200457       5.000000    7568.000000   \n",
              "\n",
              "            is_open  \n",
              "count  150346.00000  \n",
              "mean        0.79615  \n",
              "std         0.40286  \n",
              "min         0.00000  \n",
              "25%         1.00000  \n",
              "50%         1.00000  \n",
              "75%         1.00000  \n",
              "max         1.00000  "
            ]
          },
          "execution_count": 10,
          "metadata": {},
          "output_type": "execute_result"
        }
      ],
      "source": [
        "df_business.describe()"
      ]
    },
    {
      "cell_type": "markdown",
      "metadata": {},
      "source": [
        "> *Basándonos en las estadísticas descriptivas de las variables relacionadas con la ubicación, calificación, cantidad de reseñas y estado de apertura de los negocios, podemos concluir que la mayoría de los comercios tienen una calificación promedio de aproximadamente 3.60, la cantidad promedio de reseñas por comercio es de aproximadamente 44.87 y la gran mayoría de los negocios (aproximadamente el 75%) están abiertos, lo que indica una actividad comercial activa.*"
      ]
    },
    {
      "cell_type": "markdown",
      "metadata": {},
      "source": [
        "*Analizamos los registros duplicados según **business_id**, ya que deberia haber un unico ID por comercio:*"
      ]
    },
    {
      "cell_type": "code",
      "execution_count": 11,
      "metadata": {},
      "outputs": [
        {
          "data": {
            "text/html": [
              "<div>\n",
              "<style scoped>\n",
              "    .dataframe tbody tr th:only-of-type {\n",
              "        vertical-align: middle;\n",
              "    }\n",
              "\n",
              "    .dataframe tbody tr th {\n",
              "        vertical-align: top;\n",
              "    }\n",
              "\n",
              "    .dataframe thead th {\n",
              "        text-align: right;\n",
              "    }\n",
              "</style>\n",
              "<table border=\"1\" class=\"dataframe\">\n",
              "  <thead>\n",
              "    <tr style=\"text-align: right;\">\n",
              "      <th></th>\n",
              "      <th>business_id</th>\n",
              "      <th>name</th>\n",
              "      <th>address</th>\n",
              "      <th>city</th>\n",
              "      <th>state</th>\n",
              "      <th>postal_code</th>\n",
              "      <th>latitude</th>\n",
              "      <th>longitude</th>\n",
              "      <th>stars</th>\n",
              "      <th>review_count</th>\n",
              "      <th>is_open</th>\n",
              "      <th>attributes</th>\n",
              "      <th>categories</th>\n",
              "      <th>hours</th>\n",
              "    </tr>\n",
              "  </thead>\n",
              "  <tbody>\n",
              "  </tbody>\n",
              "</table>\n",
              "</div>"
            ],
            "text/plain": [
              "Empty DataFrame\n",
              "Columns: [business_id, name, address, city, state, postal_code, latitude, longitude, stars, review_count, is_open, attributes, categories, hours]\n",
              "Index: []"
            ]
          },
          "execution_count": 11,
          "metadata": {},
          "output_type": "execute_result"
        }
      ],
      "source": [
        "df_business[df_business.duplicated(subset= ['business_id'])]"
      ]
    },
    {
      "cell_type": "markdown",
      "metadata": {},
      "source": [
        "> *Podemos ver que los comercios estan registrados correctamente, ya que no poseen IDs duplicados.*"
      ]
    },
    {
      "cell_type": "markdown",
      "metadata": {},
      "source": [
        "***Top 5 comercios con mayor cantidad de sucursales:***"
      ]
    },
    {
      "cell_type": "markdown",
      "metadata": {},
      "source": [
        "*Almacenamos en una variable el top 5 de comercios con mayor cantidad de sucursales:*"
      ]
    },
    {
      "cell_type": "code",
      "execution_count": 12,
      "metadata": {},
      "outputs": [
        {
          "data": {
            "text/plain": [
              "name\n",
              "Starbucks     724\n",
              "McDonald's    703\n",
              "Dunkin'       510\n",
              "Subway        459\n",
              "Taco Bell     365\n",
              "Name: count, dtype: int64"
            ]
          },
          "execution_count": 12,
          "metadata": {},
          "output_type": "execute_result"
        }
      ],
      "source": [
        "top_5_business = df_business['name'].value_counts().head()\n",
        "\n",
        "top_5_business"
      ]
    },
    {
      "cell_type": "markdown",
      "metadata": {},
      "source": [
        "*Graficamos:*"
      ]
    },
    {
      "cell_type": "code",
      "execution_count": 13,
      "metadata": {},
      "outputs": [
        {
          "data": {
            "image/png": "[encoded data removed]",
            "text/plain": [
              "<Figure size 800x400 with 1 Axes>"
            ]
          },
          "metadata": {},
          "output_type": "display_data"
        }
      ],
      "source": [
        "plt.figure(figsize=(8, 4))\n",
        "\n",
        "top_5_business.plot(kind='bar', color='#124076')\n",
        "\n",
        "plt.title('TOP 5 COMERCIOS CON MAYOR CANTIDAD DE SUCURSALES')\n",
        "\n",
        "plt.xlabel('Nombre del Comercio')\n",
        "plt.ylabel('Cantidad de Sucursales\\n')\n",
        "\n",
        "plt.xticks(rotation=45, ha='right')\n",
        "plt.tight_layout()\n",
        "\n",
        "plt.show()"
      ]
    },
    {
      "cell_type": "markdown",
      "metadata": {},
      "source": [
        "> *Estos cinco comercios representan una proporción significativa del total de negocios. Esto sugiere que hay una concentración de ciertos tipos de comercios en el mercado, lo que puede deberse a la popularidad o demanda de estos servicios entre los consumidores. Podemos ver que el comercio con mayor cantidad de sucursales es Starbucks. Y en segundo lugar, se encuentra posicionado el comercio de nuestro interes, McDonald's, con 703 sucursales.*"
      ]
    },
    {
      "cell_type": "markdown",
      "metadata": {},
      "source": [
        "***Top 5 ciudades con mayor cantidad de comercios:***"
      ]
    },
    {
      "cell_type": "markdown",
      "metadata": {},
      "source": [
        "*Almacenamos en una variable, el top 5 de ciudades con mayor cantidad de comercios:*"
      ]
    },
    {
      "cell_type": "code",
      "execution_count": 14,
      "metadata": {},
      "outputs": [
        {
          "data": {
            "text/plain": [
              "city\n",
              "Philadelphia    14569\n",
              "Tucson           9250\n",
              "Tampa            9050\n",
              "Indianapolis     7540\n",
              "Nashville        6971\n",
              "Name: count, dtype: int64"
            ]
          },
          "execution_count": 14,
          "metadata": {},
          "output_type": "execute_result"
        }
      ],
      "source": [
        "top_5_ciudades = df_business['city'].value_counts().head()\n",
        "\n",
        "top_5_ciudades"
      ]
    },
    {
      "cell_type": "markdown",
      "metadata": {},
      "source": [
        "*Graficamos:*"
      ]
    },
    {
      "cell_type": "code",
      "execution_count": 15,
      "metadata": {},
      "outputs": [
        {
          "data": {
            "image/png": "[encoded data removed]",
            "text/plain": [
              "<Figure size 800x400 with 1 Axes>"
            ]
          },
          "metadata": {},
          "output_type": "display_data"
        }
      ],
      "source": [
        "plt.figure(figsize=(8, 4))\n",
        "\n",
        "top_5_ciudades.plot(kind='bar', color='#124076')\n",
        "\n",
        "plt.title('TOP 5 CIUDADES CON MAYOR CANTIDAD DE COMERCIOS')\n",
        "\n",
        "plt.xlabel('Ciudad')\n",
        "plt.ylabel('Cantidad de Comercios\\n')\n",
        "\n",
        "plt.xticks(rotation=45)\n",
        "plt.tight_layout()\n",
        "\n",
        "plt.show()"
      ]
    },
    {
      "cell_type": "markdown",
      "metadata": {},
      "source": [
        "> *El análisis revela que Philadelphia es la ciudad con mayor cantidad de comercios, superando notablemente a otras ciudades en cantidad. En segundo y tercer lugar se encuentran Tucson y Tampa, respectivamente, con una diferencia de aproximadamente 200 locales entre ellas.* "
      ]
    },
    {
      "cell_type": "markdown",
      "metadata": {},
      "source": [
        "***Top 5 estados con mayor cantidad de comercios:***"
      ]
    },
    {
      "cell_type": "markdown",
      "metadata": {},
      "source": [
        "*Almacenamos en una variable, el top 5 de estados con mayor cantidad de comercios:*"
      ]
    },
    {
      "cell_type": "code",
      "execution_count": 16,
      "metadata": {},
      "outputs": [
        {
          "data": {
            "text/plain": [
              "state\n",
              "PA    34039\n",
              "FL    26329\n",
              "TN    12056\n",
              "IN    11246\n",
              "MO    10913\n",
              "Name: count, dtype: int64"
            ]
          },
          "execution_count": 16,
          "metadata": {},
          "output_type": "execute_result"
        }
      ],
      "source": [
        "top_5_estados = df_business['state'].value_counts().head()\n",
        "\n",
        "top_5_estados"
      ]
    },
    {
      "cell_type": "markdown",
      "metadata": {},
      "source": [
        "*Graficamos:*"
      ]
    },
    {
      "cell_type": "code",
      "execution_count": 17,
      "metadata": {},
      "outputs": [
        {
          "data": {
            "image/png": "[encoded data removed]",
            "text/plain": [
              "<Figure size 800x400 with 1 Axes>"
            ]
          },
          "metadata": {},
          "output_type": "display_data"
        }
      ],
      "source": [
        "plt.figure(figsize=(8, 4))\n",
        "\n",
        "top_5_estados.plot(kind='bar', color='#124076')\n",
        "\n",
        "plt.title('TOP 5 ESTADOS CON MAYOR CANTIDAD DE COMERCIOS')\n",
        "\n",
        "plt.xlabel('\\nEstado')\n",
        "plt.ylabel('Cantidad de Comercios\\n')\n",
        "\n",
        "plt.xticks(rotation=0)\n",
        "plt.tight_layout()\n",
        "\n",
        "plt.show()"
      ]
    },
    {
      "cell_type": "markdown",
      "metadata": {},
      "source": [
        "> *Superando la cantidad de comercios en otros estados de manera significativa, se encuentran en primer y segundo lugar, Pensilvania y Florida. Esto sugiere que estos estados tienen una mayor densidad comercial o una mayor concentración de comercios en comparación con otros estados. Esto puede ser util para identificar oportunidades de mercado en regiones especificas.*"
      ]
    },
    {
      "cell_type": "markdown",
      "metadata": {},
      "source": [
        "***Distribución de comercios según categorias:***"
      ]
    },
    {
      "cell_type": "markdown",
      "metadata": {},
      "source": [
        "*Analizamos la distribución de los comercios según la categoria:*"
      ]
    },
    {
      "cell_type": "code",
      "execution_count": 18,
      "metadata": {},
      "outputs": [
        {
          "data": {
            "text/plain": [
              "categories\n",
              "Beauty & Spas, Nail Salons    1012\n",
              "Restaurants, Pizza             935\n",
              "Nail Salons, Beauty & Spas     934\n",
              "Pizza, Restaurants             823\n",
              "Restaurants, Mexican           728\n",
              "Name: count, dtype: int64"
            ]
          },
          "execution_count": 18,
          "metadata": {},
          "output_type": "execute_result"
        }
      ],
      "source": [
        "df_business['categories'].value_counts().head()"
      ]
    },
    {
      "cell_type": "markdown",
      "metadata": {},
      "source": [
        "> *Analizando a simple vista, podemos observar que en primer lugar, se posiciona la categoria **Beauty & Spas, Nail Salons** con mayor cantidad de comercios de este tipo, y en segundo lugar la categoria **Restaurants, Pizza**. Si analizaramos detalladamente todas las categorias, podriamos ver que los comercios, estan categorizados de distintas formas. Asique deberiamos evaluar cual es el ranking correcto agrupando las categorias según sus palabras claves.*"
      ]
    },
    {
      "cell_type": "markdown",
      "metadata": {},
      "source": [
        "*Generamos un DataFrame auxiliar, donde agrupamos los comercios por las categorias más populares:*"
      ]
    },
    {
      "cell_type": "code",
      "execution_count": 19,
      "metadata": {},
      "outputs": [],
      "source": [
        "df_agrupado = pd.DataFrame(df_business['categories'].apply(ut.agrupar_categorias).value_counts())"
      ]
    },
    {
      "cell_type": "markdown",
      "metadata": {},
      "source": [
        "*Graficamos:*"
      ]
    },
    {
      "cell_type": "code",
      "execution_count": 21,
      "metadata": {},
      "outputs": [
        {
          "data": {
            "image/png": "[encoded data removed]",
            "text/plain": [
              "<Figure size 600x600 with 1 Axes>"
            ]
          },
          "metadata": {},
          "output_type": "display_data"
        }
      ],
      "source": [
        "plt.figure(figsize=(6, 6))\n",
        "\n",
        "plt.pie(df_agrupado['count'], labels=df_agrupado.index, autopct='%1.1f%%', startangle=155, colors=['#124076', '#51829B', '#9BB0C1', '#EEEEEE'])\n",
        "\n",
        "plt.title('PORCENTAJE DE CATEGORÍAS DE COMERCIOS')\n",
        "\n",
        "plt.show()"
      ]
    },
    {
      "cell_type": "markdown",
      "metadata": {},
      "source": [
        "> *Si nos hubiéramos guiado únicamente por el conteo de ocurrencias de las categorías, habría sido bastante confuso posicionar las categorías de los comercios. Sin embargo, al agruparlas, podemos ver que la categoría más predominante es \"restaurant\". Esto sugiere que la mayoría de los comercios en el conjunto de datos están relacionados con la industria de restaurantes, lo que puede ser un indicador importante para comprender la distribución y la naturaleza de los negocios en la muestra.*"
      ]
    },
    {
      "cell_type": "markdown",
      "metadata": {},
      "source": [
        "***Cantidad de comercios por calificación:***"
      ]
    },
    {
      "cell_type": "markdown",
      "metadata": {},
      "source": [
        "*Almacenamos en una variable, los comercios agrupados según calificación:*"
      ]
    },
    {
      "cell_type": "code",
      "execution_count": 22,
      "metadata": {},
      "outputs": [],
      "source": [
        "star = df_business['stars'].value_counts().sort_index()"
      ]
    },
    {
      "cell_type": "markdown",
      "metadata": {},
      "source": [
        "*Graficamos:*"
      ]
    },
    {
      "cell_type": "code",
      "execution_count": 23,
      "metadata": {},
      "outputs": [
        {
          "data": {
            "image/png": "[encoded data removed]",
            "text/plain": [
              "<Figure size 800x400 with 1 Axes>"
            ]
          },
          "metadata": {},
          "output_type": "display_data"
        }
      ],
      "source": [
        "plt.figure(figsize=(8, 4))\n",
        "\n",
        "star.plot(kind='bar', color='#124076')\n",
        "\n",
        "plt.title('CANTIDAD DE COMERCIOS POR CALIFICACIÓN')\n",
        "\n",
        "plt.xlabel('\\nEstrellas')\n",
        "plt.ylabel('Cantidad de comercios\\n')\n",
        "\n",
        "plt.xticks(rotation=0)\n",
        "plt.tight_layout()\n",
        "\n",
        "plt.show()"
      ]
    },
    {
      "cell_type": "markdown",
      "metadata": {},
      "source": [
        "> *La distribución de calificaciones de estrellas entre los comercios muestra que la mayoría de los negocios tienen calificaciones altas, con una cantidad significativa de negocios calificados con 4.0 y 4.5 estrellas. Esto sugiere que los usuarios tienden a calificar positivamente la mayoría de los comercios. Sin embargo, también hay una proporción menor de negocios con calificaciones más bajas, lo que indica que existen experiencias variadas entre los usuarios.*"
      ]
    },
    {
      "cell_type": "markdown",
      "metadata": {},
      "source": [
        "***Top 5 comercios con mayor cantidad de reseñas:***"
      ]
    },
    {
      "cell_type": "markdown",
      "metadata": {},
      "source": [
        "*Almacenamos en una variable, el top 5 de comercios con mayor cantidad de reseñas:*"
      ]
    },
    {
      "cell_type": "code",
      "execution_count": 27,
      "metadata": {},
      "outputs": [],
      "source": [
        "top_5_comercios = df_business.groupby('name')['review_count'].sum().sort_values(ascending=False).head()"
      ]
    },
    {
      "cell_type": "markdown",
      "metadata": {},
      "source": [
        "*Graficamos:*"
      ]
    },
    {
      "cell_type": "code",
      "execution_count": 28,
      "metadata": {},
      "outputs": [
        {
          "data": {
            "image/png": "[encoded data removed]",
            "text/plain": [
              "<Figure size 800x400 with 1 Axes>"
            ]
          },
          "metadata": {},
          "output_type": "display_data"
        }
      ],
      "source": [
        "plt.figure(figsize=(8, 4))\n",
        "\n",
        "top_5_comercios.plot(kind='bar', color='#124076')\n",
        "\n",
        "plt.title('TOP 5 COMERCIOS CON MAYOR CANTIDAD DE RESEÑAS')\n",
        "\n",
        "plt.xlabel('Nombre de Negocio')\n",
        "plt.ylabel('Cantidad de Reseñas\\n')\n",
        "\n",
        "plt.xticks(rotation=20, ha='right')\n",
        "\n",
        "plt.show()"
      ]
    },
    {
      "cell_type": "markdown",
      "metadata": {},
      "source": [
        "> *Los comercios **Starbucks** y **McDonald's**, son los comercios con mayor cantidad de reseñas. Si bien esto podria asociarse a su popularidad y visibilidad en el mercado, también podria estar relacionado a la cantidad de sucursales que tienen cada uno de ellos.*"
      ]
    },
    {
      "cell_type": "markdown",
      "metadata": {},
      "source": [
        "***Filtramos el DataFrame, quedandonos con los registros relacionados al comercio de nuestro interes, McDonald's:***"
      ]
    },
    {
      "cell_type": "code",
      "execution_count": 29,
      "metadata": {},
      "outputs": [],
      "source": [
        "df_business_mc = df_business[df_business['name'].str.contains(\"McDonald's\")]"
      ]
    },
    {
      "cell_type": "code",
      "execution_count": 30,
      "metadata": {},
      "outputs": [
        {
          "data": {
            "text/plain": [
              "categories\n",
              "Fast Food, Coffee & Tea, Burgers, Restaurants, Food                            16\n",
              "Fast Food, Burgers, Coffee & Tea, Restaurants, Food                            12\n",
              "Fast Food, Restaurants, Burgers, Coffee & Tea, Food                            12\n",
              "Burgers, Restaurants, Coffee & Tea, Food, Fast Food                            12\n",
              "Restaurants, Burgers, Fast Food, Food, Coffee & Tea                            11\n",
              "                                                                               ..\n",
              "Hot Dogs, Burgers, Food, Coffee & Tea, Fast Food, Restaurants                   1\n",
              "Food, American (Traditional), Restaurants, Fast Food, Coffee & Tea, Burgers     1\n",
              "Restaurants, Burgers, Food, Coffee & Tea, Hot Dogs, Fast Food                   1\n",
              "Restaurants, Fast Food, Breakfast & Brunch, Burgers, Coffee & Tea, Food         1\n",
              "Coffee & Tea, Food, Burgers, Fast Food, Restaurants, Sandwiches                 1\n",
              "Name: count, Length: 167, dtype: int64"
            ]
          },
          "execution_count": 30,
          "metadata": {},
          "output_type": "execute_result"
        }
      ],
      "source": [
        "df_business_mc['categories'].value_counts()"
      ]
    },
    {
      "cell_type": "markdown",
      "metadata": {},
      "source": [
        "> *Podemos ver que el mismo comercio, tiene 167 categorias distintas. Si bien todas hacen referencia al mismo tipo de comercio, figuran escritas de distintas formas, con distintas palabras claves o en distinto orden; algo que se debera modificar posteriormente.*"
      ]
    },
    {
      "cell_type": "code",
      "execution_count": 31,
      "metadata": {},
      "outputs": [
        {
          "data": {
            "text/plain": [
              "703"
            ]
          },
          "execution_count": 31,
          "metadata": {},
          "output_type": "execute_result"
        }
      ],
      "source": [
        "df_business_mc['categories'].str.contains('Restaurants|Restaurant|restaurant|Fast Food|Food').sum()"
      ]
    },
    {
      "cell_type": "markdown",
      "metadata": {},
      "source": [
        "> *Pudimos verificar que filtramos correctamente, corroborando que el comercio correspondiera a la categoria Restaurant, buscando palabras claves.*"
      ]
    },
    {
      "cell_type": "markdown",
      "metadata": {},
      "source": [
        "*Guardamos el dataset filtrado para su posterior uso:*"
      ]
    },
    {
      "cell_type": "code",
      "execution_count": 79,
      "metadata": {},
      "outputs": [],
      "source": [
        "df_business_mc.to_parquet('./Datos/Archivos Filtrados/business_mcdonalds.parquet')"
      ]
    },
    {
      "cell_type": "markdown",
      "metadata": {},
      "source": [
        "***Análisis exhaustivo del DataFrame filtrado (McDonald's):***"
      ]
    },
    {
      "cell_type": "markdown",
      "metadata": {},
      "source": [
        "*Resumen estadistico del DataFrame filtrado, tanto de variables numericas, como categoricas:*\n"
      ]
    },
    {
      "cell_type": "code",
      "execution_count": 32,
      "metadata": {},
      "outputs": [
        {
          "data": {
            "text/html": [
              "<div>\n",
              "<style scoped>\n",
              "    .dataframe tbody tr th:only-of-type {\n",
              "        vertical-align: middle;\n",
              "    }\n",
              "\n",
              "    .dataframe tbody tr th {\n",
              "        vertical-align: top;\n",
              "    }\n",
              "\n",
              "    .dataframe thead th {\n",
              "        text-align: right;\n",
              "    }\n",
              "</style>\n",
              "<table border=\"1\" class=\"dataframe\">\n",
              "  <thead>\n",
              "    <tr style=\"text-align: right;\">\n",
              "      <th></th>\n",
              "      <th>business_id</th>\n",
              "      <th>name</th>\n",
              "      <th>address</th>\n",
              "      <th>city</th>\n",
              "      <th>state</th>\n",
              "      <th>postal_code</th>\n",
              "      <th>latitude</th>\n",
              "      <th>longitude</th>\n",
              "      <th>stars</th>\n",
              "      <th>review_count</th>\n",
              "      <th>is_open</th>\n",
              "      <th>attributes</th>\n",
              "      <th>categories</th>\n",
              "      <th>hours</th>\n",
              "    </tr>\n",
              "  </thead>\n",
              "  <tbody>\n",
              "    <tr>\n",
              "      <th>count</th>\n",
              "      <td>703</td>\n",
              "      <td>703</td>\n",
              "      <td>703</td>\n",
              "      <td>703</td>\n",
              "      <td>703</td>\n",
              "      <td>703</td>\n",
              "      <td>703.000000</td>\n",
              "      <td>703.000000</td>\n",
              "      <td>703.000000</td>\n",
              "      <td>703.000000</td>\n",
              "      <td>703.000000</td>\n",
              "      <td>702</td>\n",
              "      <td>703</td>\n",
              "      <td>676</td>\n",
              "    </tr>\n",
              "    <tr>\n",
              "      <th>unique</th>\n",
              "      <td>703</td>\n",
              "      <td>1</td>\n",
              "      <td>702</td>\n",
              "      <td>263</td>\n",
              "      <td>14</td>\n",
              "      <td>475</td>\n",
              "      <td>NaN</td>\n",
              "      <td>NaN</td>\n",
              "      <td>NaN</td>\n",
              "      <td>NaN</td>\n",
              "      <td>NaN</td>\n",
              "      <td>668</td>\n",
              "      <td>167</td>\n",
              "      <td>159</td>\n",
              "    </tr>\n",
              "    <tr>\n",
              "      <th>top</th>\n",
              "      <td>yM8LlTInbQH4FwWC97lz6w</td>\n",
              "      <td>McDonald's</td>\n",
              "      <td>501 Westbank Expy</td>\n",
              "      <td>Indianapolis</td>\n",
              "      <td>PA</td>\n",
              "      <td>89502</td>\n",
              "      <td>NaN</td>\n",
              "      <td>NaN</td>\n",
              "      <td>NaN</td>\n",
              "      <td>NaN</td>\n",
              "      <td>NaN</td>\n",
              "      <td>{'AcceptsInsurance': None, 'AgesAllowed': None...</td>\n",
              "      <td>Fast Food, Coffee &amp; Tea, Burgers, Restaurants,...</td>\n",
              "      <td>{'Friday': '0:0-0:0', 'Monday': '0:0-0:0', 'Sa...</td>\n",
              "    </tr>\n",
              "    <tr>\n",
              "      <th>freq</th>\n",
              "      <td>1</td>\n",
              "      <td>703</td>\n",
              "      <td>2</td>\n",
              "      <td>48</td>\n",
              "      <td>170</td>\n",
              "      <td>7</td>\n",
              "      <td>NaN</td>\n",
              "      <td>NaN</td>\n",
              "      <td>NaN</td>\n",
              "      <td>NaN</td>\n",
              "      <td>NaN</td>\n",
              "      <td>7</td>\n",
              "      <td>16</td>\n",
              "      <td>258</td>\n",
              "    </tr>\n",
              "    <tr>\n",
              "      <th>mean</th>\n",
              "      <td>NaN</td>\n",
              "      <td>NaN</td>\n",
              "      <td>NaN</td>\n",
              "      <td>NaN</td>\n",
              "      <td>NaN</td>\n",
              "      <td>NaN</td>\n",
              "      <td>37.107962</td>\n",
              "      <td>-88.536985</td>\n",
              "      <td>1.863442</td>\n",
              "      <td>24.692745</td>\n",
              "      <td>0.931721</td>\n",
              "      <td>NaN</td>\n",
              "      <td>NaN</td>\n",
              "      <td>NaN</td>\n",
              "    </tr>\n",
              "    <tr>\n",
              "      <th>std</th>\n",
              "      <td>NaN</td>\n",
              "      <td>NaN</td>\n",
              "      <td>NaN</td>\n",
              "      <td>NaN</td>\n",
              "      <td>NaN</td>\n",
              "      <td>NaN</td>\n",
              "      <td>6.195158</td>\n",
              "      <td>13.469802</td>\n",
              "      <td>0.522146</td>\n",
              "      <td>18.637708</td>\n",
              "      <td>0.252403</td>\n",
              "      <td>NaN</td>\n",
              "      <td>NaN</td>\n",
              "      <td>NaN</td>\n",
              "    </tr>\n",
              "    <tr>\n",
              "      <th>min</th>\n",
              "      <td>NaN</td>\n",
              "      <td>NaN</td>\n",
              "      <td>NaN</td>\n",
              "      <td>NaN</td>\n",
              "      <td>NaN</td>\n",
              "      <td>NaN</td>\n",
              "      <td>27.712884</td>\n",
              "      <td>-119.882540</td>\n",
              "      <td>1.000000</td>\n",
              "      <td>5.000000</td>\n",
              "      <td>0.000000</td>\n",
              "      <td>NaN</td>\n",
              "      <td>NaN</td>\n",
              "      <td>NaN</td>\n",
              "    </tr>\n",
              "    <tr>\n",
              "      <th>25%</th>\n",
              "      <td>NaN</td>\n",
              "      <td>NaN</td>\n",
              "      <td>NaN</td>\n",
              "      <td>NaN</td>\n",
              "      <td>NaN</td>\n",
              "      <td>NaN</td>\n",
              "      <td>32.189378</td>\n",
              "      <td>-90.289183</td>\n",
              "      <td>1.500000</td>\n",
              "      <td>13.000000</td>\n",
              "      <td>1.000000</td>\n",
              "      <td>NaN</td>\n",
              "      <td>NaN</td>\n",
              "      <td>NaN</td>\n",
              "    </tr>\n",
              "    <tr>\n",
              "      <th>50%</th>\n",
              "      <td>NaN</td>\n",
              "      <td>NaN</td>\n",
              "      <td>NaN</td>\n",
              "      <td>NaN</td>\n",
              "      <td>NaN</td>\n",
              "      <td>NaN</td>\n",
              "      <td>38.812550</td>\n",
              "      <td>-86.140767</td>\n",
              "      <td>2.000000</td>\n",
              "      <td>20.000000</td>\n",
              "      <td>1.000000</td>\n",
              "      <td>NaN</td>\n",
              "      <td>NaN</td>\n",
              "      <td>NaN</td>\n",
              "    </tr>\n",
              "    <tr>\n",
              "      <th>75%</th>\n",
              "      <td>NaN</td>\n",
              "      <td>NaN</td>\n",
              "      <td>NaN</td>\n",
              "      <td>NaN</td>\n",
              "      <td>NaN</td>\n",
              "      <td>NaN</td>\n",
              "      <td>39.954566</td>\n",
              "      <td>-75.600576</td>\n",
              "      <td>2.000000</td>\n",
              "      <td>31.000000</td>\n",
              "      <td>1.000000</td>\n",
              "      <td>NaN</td>\n",
              "      <td>NaN</td>\n",
              "      <td>NaN</td>\n",
              "    </tr>\n",
              "    <tr>\n",
              "      <th>max</th>\n",
              "      <td>NaN</td>\n",
              "      <td>NaN</td>\n",
              "      <td>NaN</td>\n",
              "      <td>NaN</td>\n",
              "      <td>NaN</td>\n",
              "      <td>NaN</td>\n",
              "      <td>53.638802</td>\n",
              "      <td>-74.707586</td>\n",
              "      <td>4.000000</td>\n",
              "      <td>176.000000</td>\n",
              "      <td>1.000000</td>\n",
              "      <td>NaN</td>\n",
              "      <td>NaN</td>\n",
              "      <td>NaN</td>\n",
              "    </tr>\n",
              "  </tbody>\n",
              "</table>\n",
              "</div>"
            ],
            "text/plain": [
              "                   business_id        name            address          city  \\\n",
              "count                      703         703                703           703   \n",
              "unique                     703           1                702           263   \n",
              "top     yM8LlTInbQH4FwWC97lz6w  McDonald's  501 Westbank Expy  Indianapolis   \n",
              "freq                         1         703                  2            48   \n",
              "mean                       NaN         NaN                NaN           NaN   \n",
              "std                        NaN         NaN                NaN           NaN   \n",
              "min                        NaN         NaN                NaN           NaN   \n",
              "25%                        NaN         NaN                NaN           NaN   \n",
              "50%                        NaN         NaN                NaN           NaN   \n",
              "75%                        NaN         NaN                NaN           NaN   \n",
              "max                        NaN         NaN                NaN           NaN   \n",
              "\n",
              "       state postal_code    latitude   longitude       stars  review_count  \\\n",
              "count    703         703  703.000000  703.000000  703.000000    703.000000   \n",
              "unique    14         475         NaN         NaN         NaN           NaN   \n",
              "top       PA       89502         NaN         NaN         NaN           NaN   \n",
              "freq     170           7         NaN         NaN         NaN           NaN   \n",
              "mean     NaN         NaN   37.107962  -88.536985    1.863442     24.692745   \n",
              "std      NaN         NaN    6.195158   13.469802    0.522146     18.637708   \n",
              "min      NaN         NaN   27.712884 -119.882540    1.000000      5.000000   \n",
              "25%      NaN         NaN   32.189378  -90.289183    1.500000     13.000000   \n",
              "50%      NaN         NaN   38.812550  -86.140767    2.000000     20.000000   \n",
              "75%      NaN         NaN   39.954566  -75.600576    2.000000     31.000000   \n",
              "max      NaN         NaN   53.638802  -74.707586    4.000000    176.000000   \n",
              "\n",
              "           is_open                                         attributes  \\\n",
              "count   703.000000                                                702   \n",
              "unique         NaN                                                668   \n",
              "top            NaN  {'AcceptsInsurance': None, 'AgesAllowed': None...   \n",
              "freq           NaN                                                  7   \n",
              "mean      0.931721                                                NaN   \n",
              "std       0.252403                                                NaN   \n",
              "min       0.000000                                                NaN   \n",
              "25%       1.000000                                                NaN   \n",
              "50%       1.000000                                                NaN   \n",
              "75%       1.000000                                                NaN   \n",
              "max       1.000000                                                NaN   \n",
              "\n",
              "                                               categories  \\\n",
              "count                                                 703   \n",
              "unique                                                167   \n",
              "top     Fast Food, Coffee & Tea, Burgers, Restaurants,...   \n",
              "freq                                                   16   \n",
              "mean                                                  NaN   \n",
              "std                                                   NaN   \n",
              "min                                                   NaN   \n",
              "25%                                                   NaN   \n",
              "50%                                                   NaN   \n",
              "75%                                                   NaN   \n",
              "max                                                   NaN   \n",
              "\n",
              "                                                    hours  \n",
              "count                                                 676  \n",
              "unique                                                159  \n",
              "top     {'Friday': '0:0-0:0', 'Monday': '0:0-0:0', 'Sa...  \n",
              "freq                                                  258  \n",
              "mean                                                  NaN  \n",
              "std                                                   NaN  \n",
              "min                                                   NaN  \n",
              "25%                                                   NaN  \n",
              "50%                                                   NaN  \n",
              "75%                                                   NaN  \n",
              "max                                                   NaN  "
            ]
          },
          "execution_count": 32,
          "metadata": {},
          "output_type": "execute_result"
        }
      ],
      "source": [
        "df_business_mc.describe(include='all')"
      ]
    },
    {
      "cell_type": "markdown",
      "metadata": {},
      "source": [
        "> *A partir de este resumen estadistico podemos concluir que hay un total de 703 sucursales de McDonald's, la calificación promedio (stars) de las sucursales es de aproximadamente 1.86, lo que sugiere que la mayoría de las sucursales tienen una baja calificación promedio. La cantidad promedio de reseñas por sucursal es de aproximadamente 24.69, el 93.17% de las sucursales están abiertas, lo que indica que la mayoría de las sucursales en el conjunto de datos están en funcionamiento, la mayoría de las sucursales están ubicadas en el estado de PA (Pennsylvania) y la mayor parte de las sucursales tienen códigos postales únicos, lo que sugiere que están distribuidas en diferentes ubicaciones.*"
      ]
    },
    {
      "cell_type": "markdown",
      "metadata": {},
      "source": [
        "*Anteriomente, habiamos visto que el DataFrame con los registros de todos los comercios, no tenian valores nulos, o tenian muy pocos. Pero revisamos nuestro DataFrame filtrado, para ver si esos valores faltantes corresponden a los registros de las sucursales de McDonald's:*"
      ]
    },
    {
      "cell_type": "code",
      "execution_count": 33,
      "metadata": {},
      "outputs": [
        {
          "name": "stdout",
          "output_type": "stream",
          "text": [
            "La columna business_id tiene un  0.00 % de valores nulos\n",
            "La columna name tiene un  0.00 % de valores nulos\n",
            "La columna address tiene un  0.00 % de valores nulos\n",
            "La columna city tiene un  0.00 % de valores nulos\n",
            "La columna state tiene un  0.00 % de valores nulos\n",
            "La columna postal_code tiene un  0.00 % de valores nulos\n",
            "La columna latitude tiene un  0.00 % de valores nulos\n",
            "La columna longitude tiene un  0.00 % de valores nulos\n",
            "La columna stars tiene un  0.00 % de valores nulos\n",
            "La columna review_count tiene un  0.00 % de valores nulos\n",
            "La columna is_open tiene un  0.00 % de valores nulos\n",
            "La columna attributes tiene un  0.14 % de valores nulos\n",
            "La columna categories tiene un  0.00 % de valores nulos\n",
            "La columna hours tiene un  3.84 % de valores nulos\n"
          ]
        }
      ],
      "source": [
        "ut.porcentaje_valores_nulos(df_business_mc)"
      ]
    },
    {
      "cell_type": "markdown",
      "metadata": {},
      "source": [
        "> *La mayor parte de las columnas, no poseen valores nulos. Las columnas que si poseen valores nulos, no representan un problema debido al bajo porcentaje.*"
      ]
    },
    {
      "cell_type": "markdown",
      "metadata": {},
      "source": [
        "***Calificación promedio de McDonald's por estado:***"
      ]
    },
    {
      "cell_type": "markdown",
      "metadata": {},
      "source": [
        "*Calculamos el promedio de calificaciones por estado:*"
      ]
    },
    {
      "cell_type": "code",
      "execution_count": 34,
      "metadata": {},
      "outputs": [],
      "source": [
        "calificacion_por_estado = df_business_mc.groupby('state')['stars'].mean().sort_values(ascending=False)"
      ]
    },
    {
      "cell_type": "markdown",
      "metadata": {},
      "source": [
        "*Graficamos:*"
      ]
    },
    {
      "cell_type": "code",
      "execution_count": 35,
      "metadata": {},
      "outputs": [
        {
          "data": {
            "image/png": "[encoded data removed]",
            "text/plain": [
              "<Figure size 1000x400 with 1 Axes>"
            ]
          },
          "metadata": {},
          "output_type": "display_data"
        }
      ],
      "source": [
        "plt.figure(figsize=(10, 4))\n",
        "\n",
        "calificacion_por_estado.plot(kind='bar', color='#124076')\n",
        "\n",
        "plt.title('CALIFICACIÓN PROMEDIO DE MCDONALD\\'S POR ESTADO')\n",
        "\n",
        "plt.xlabel('Estado')\n",
        "plt.ylabel('Calificación Promedio')\n",
        "\n",
        "plt.xticks(rotation=0)\n",
        "\n",
        "plt.show()"
      ]
    },
    {
      "cell_type": "markdown",
      "metadata": {},
      "source": [
        "> *En la visualización de la distribución de calificaciones por estado, se observa que la calificación promedio se sitúa en torno a las 1.5 y 2.0 estrellas en todos los estados analizados. Esto sugiere que, independientemente del estado, los negocios tienden a recibir calificaciones relativamente bajas en general. Es necesario indagar más acerca de las razones detras de estas calificaciones.*"
      ]
    },
    {
      "cell_type": "markdown",
      "metadata": {},
      "source": [
        "***Top 5 ciudades con mayor calificación promedio:***"
      ]
    },
    {
      "cell_type": "markdown",
      "metadata": {},
      "source": [
        "*Averiguamos la calificación promedio por ciudad, nos quedamos con las cinco con mayor calificación:*"
      ]
    },
    {
      "cell_type": "code",
      "execution_count": 36,
      "metadata": {},
      "outputs": [],
      "source": [
        "calificacion_por_ciudad = df_business_mc.groupby('city')['stars'].mean().sort_values(ascending=False).head()"
      ]
    },
    {
      "cell_type": "markdown",
      "metadata": {},
      "source": [
        "*Graficamos:*"
      ]
    },
    {
      "cell_type": "code",
      "execution_count": 37,
      "metadata": {},
      "outputs": [
        {
          "data": {
            "image/png": "[encoded data removed]",
            "text/plain": [
              "<Figure size 1000x400 with 1 Axes>"
            ]
          },
          "metadata": {},
          "output_type": "display_data"
        }
      ],
      "source": [
        "plt.figure(figsize=(10, 4))\n",
        "\n",
        "calificacion_por_ciudad.plot.bar(color='#124076')\n",
        "\n",
        "plt.title('TOP 5 CIUDADES CON MAYOR CALIFICACIÓN PROMEDIO DE MCDONALD\\'S')\n",
        "\n",
        "plt.xlabel('\\nCiudad')\n",
        "plt.ylabel('Calificación Promedio\\n')\n",
        "\n",
        "plt.xticks(rotation=0)\n",
        "\n",
        "plt.show()"
      ]
    },
    {
      "cell_type": "markdown",
      "metadata": {},
      "source": [
        "> *Al analizar las calificaciones por ciudad, observamos que Marlton lidera con una calificación de 3.75, seguida de cerca por Malaga con 3.50. Por otro lado, varias ciudades como Olivette, Jamison y Bensalem tienen una calificación promedio de 3.00. Estos datos sugieren que Marlton y Malaga pueden tener un mayor nivel de satisfacción entre los clientes en comparación con otras ciudades. Se las podria tomar como referencia para elevar el promedio de calificaciones en el resto de las ciudades.*"
      ]
    },
    {
      "cell_type": "markdown",
      "metadata": {},
      "source": [
        "***Top 5 sucursales de McDonald's con mejor calificación:***"
      ]
    },
    {
      "cell_type": "markdown",
      "metadata": {},
      "source": [
        "*Obtenemos las cinco sucursales con mejor calificación:*"
      ]
    },
    {
      "cell_type": "code",
      "execution_count": 38,
      "metadata": {},
      "outputs": [],
      "source": [
        "top_5_sucursales = df_business_mc.nlargest(5, 'stars')"
      ]
    },
    {
      "cell_type": "markdown",
      "metadata": {},
      "source": [
        "*Graficamos:*"
      ]
    },
    {
      "cell_type": "code",
      "execution_count": 37,
      "metadata": {},
      "outputs": [
        {
          "data": {
            "image/png": "[encoded data removed]",
            "text/plain": [
              "<Figure size 1000x400 with 1 Axes>"
            ]
          },
          "metadata": {},
          "output_type": "display_data"
        }
      ],
      "source": [
        "plt.figure(figsize=(10, 4))\n",
        "\n",
        "plt.barh(top_5_sucursales['business_id'], top_5_sucursales['stars'], color='#124076')\n",
        "\n",
        "plt.title('TOP 5 SUCURSALES DE MCDONALD\\'S CON MAYOR CALIFICACIÓN')\n",
        "\n",
        "plt.xlabel('\\nCalificación')\n",
        "plt.ylabel('Sucursal\\n')\n",
        "\n",
        "plt.xticks(rotation=0)\n",
        "\n",
        "plt.gca().invert_yaxis()\n",
        "\n",
        "plt.show()"
      ]
    },
    {
      "cell_type": "markdown",
      "metadata": {},
      "source": [
        "*Verificamos en que ciudad y en que estado se encuentran esas sucursales con mejor calificación:*"
      ]
    },
    {
      "cell_type": "code",
      "execution_count": 39,
      "metadata": {},
      "outputs": [
        {
          "name": "stdout",
          "output_type": "stream",
          "text": [
            "Sucursal ID: BcyHAag7lr2bVZGNW4u1dA, Calificación: 4.0, Ciudad: Marlton, Estado: NJ\n",
            "Sucursal ID: ayqh0cxxuLrnY55oZr0kkA, Calificación: 4.0, Ciudad: Edmonton, Estado: PA\n",
            "Sucursal ID: NGK31ST2C3sT1uwNtAeFdw, Calificación: 4.0, Ciudad: Bensalem, Estado: IL\n",
            "Sucursal ID: PN63nkTW7UBPeVTMZZ8blg, Calificación: 3.5, Ciudad: Malaga, Estado: NJ\n",
            "Sucursal ID: jSAOaEVCfZkcDpg-yVJ_Ow, Calificación: 3.5, Ciudad: Exton, Estado: MO\n"
          ]
        }
      ],
      "source": [
        "for index, row in top_5_sucursales.iterrows():\n",
        "    print(f\"Sucursal ID: {row['business_id']}, Calificación: {row['stars']}, Ciudad: {row['city']}, Estado: {row['state']}\")"
      ]
    },
    {
      "cell_type": "markdown",
      "metadata": {},
      "source": [
        "> *Después de revisar las cinco sucursales de McDonald's con las mejores calificaciones, podemos observar que estas sucursales tienen calificaciones que van desde 3.5 hasta 4.0 estrellas. Esto sugiere que estas sucursales específicas están proporcionando un servicio y experiencia satisfactorios para sus clientes, lo que puede ser indicativo de una gestión efectiva y una atención al cliente de alta calidad en esas ubicaciones. Sin embargo, sería útil realizar un análisis más detallado para comprender mejor los factores que contribuyen a estas calificaciones superiores y cómo pueden replicarse en otras sucursales.*"
      ]
    },
    {
      "cell_type": "markdown",
      "metadata": {},
      "source": [
        "***Cantidad de sucursales de McDonald's por calificación:***"
      ]
    },
    {
      "cell_type": "markdown",
      "metadata": {},
      "source": [
        "*Analizamos la cantidad de sucursales de McDonald's según calificación:*"
      ]
    },
    {
      "cell_type": "code",
      "execution_count": 40,
      "metadata": {},
      "outputs": [],
      "source": [
        "stars_mc = df_business_mc['stars'].value_counts().sort_values(ascending= False)"
      ]
    },
    {
      "cell_type": "markdown",
      "metadata": {},
      "source": [
        "*Graficamos:*"
      ]
    },
    {
      "cell_type": "code",
      "execution_count": 41,
      "metadata": {},
      "outputs": [
        {
          "data": {
            "image/png": "[encoded data removed]",
            "text/plain": [
              "<Figure size 800x400 with 1 Axes>"
            ]
          },
          "metadata": {},
          "output_type": "display_data"
        }
      ],
      "source": [
        "plt.figure(figsize=(8, 4))\n",
        "\n",
        "stars_mc.plot(kind='bar', color='#124076')\n",
        "\n",
        "plt.title('CANTIDAD DE SUCURSALES DE MCDONALD\\'S POR CALIFICACIÓN')\n",
        "\n",
        "plt.xlabel('\\nCalificación')\n",
        "plt.ylabel('Cantidad de Sucursales\\n')\n",
        "\n",
        "plt.xticks(rotation=0)\n",
        "plt.tight_layout()\n",
        "\n",
        "plt.show()"
      ]
    },
    {
      "cell_type": "markdown",
      "metadata": {},
      "source": [
        "> *En elanálisis inicial de las calificaciones de las sucursales, se destaca que ninguna sucursal tiene una calificación de 5 estrellas, ni tampoco de 4.5. Esto sugiere que las sucursales de McDonald's en el conjunto de datos no han recibido calificaciones muy altas. Además, se observa que la mayor parte de las sucursales tienen una calificación de 1.5 estrellas, seguida por más de 200 sucursales con una calificación de 2.0 estrellas. Esta distribución sugiere que la mayoría de las sucursales han recibido calificaciones bajas, lo que puede indicar problemas de calidad o insatisfacción entre los clientes. Sería interesante profundizar en las razones detrás de estas calificaciones y buscar áreas de mejora para las sucursales.*"
      ]
    },
    {
      "cell_type": "markdown",
      "metadata": {},
      "source": [
        "***Reseñas vs Calificación de McDonald's:***"
      ]
    },
    {
      "cell_type": "markdown",
      "metadata": {},
      "source": [
        "*Graficamos la relación entre la cantidad de reseñas y las calificaciónes de las sucursales:*"
      ]
    },
    {
      "cell_type": "code",
      "execution_count": 42,
      "metadata": {},
      "outputs": [
        {
          "data": {
            "image/png": "[encoded data removed]",
            "text/plain": [
              "<Figure size 800x400 with 1 Axes>"
            ]
          },
          "metadata": {},
          "output_type": "display_data"
        }
      ],
      "source": [
        "plt.figure(figsize=(8, 4))\n",
        "\n",
        "plt.scatter(x=df_business_mc['stars'], y=df_business_mc['review_count'], color='#124076')\n",
        "\n",
        "plt.title('RESEÑAS VS CALIFICACIÓN DE MCDONALD\\'S')\n",
        "\n",
        "plt.xlabel('\\nCalificación')\n",
        "plt.ylabel('Cantidad de Reseñas\\n')\n",
        "\n",
        "plt.xticks(rotation=0)\n",
        "plt.tight_layout()\n",
        "\n",
        "plt.show()"
      ]
    },
    {
      "cell_type": "markdown",
      "metadata": {},
      "source": [
        "> *Observamos que, en general, las sucursales con calificaciones más bajas tienden a tener mayor cantidad de reseñas, lo que sugiere una mayor participación de clientes disconformes o insatisfechos, en comparación con los clientes satisfechos con el servicio, la atención, etc.*"
      ]
    },
    {
      "cell_type": "markdown",
      "metadata": {},
      "source": [
        "***Porcentaje de sucursales abiertas vs cerradas:***"
      ]
    },
    {
      "cell_type": "markdown",
      "metadata": {},
      "source": [
        "*Obtenemos la cantidad de sucursales abiertas vs. sucursales cerradas:*"
      ]
    },
    {
      "cell_type": "code",
      "execution_count": 43,
      "metadata": {},
      "outputs": [],
      "source": [
        "is_open = df_business_mc['is_open'].value_counts()"
      ]
    },
    {
      "cell_type": "code",
      "execution_count": 44,
      "metadata": {},
      "outputs": [
        {
          "data": {
            "image/png": "[encoded data removed]",
            "text/plain": [
              "<Figure size 600x600 with 1 Axes>"
            ]
          },
          "metadata": {},
          "output_type": "display_data"
        }
      ],
      "source": [
        "plt.figure(figsize=(6, 6))\n",
        "\n",
        "plt.pie(is_open.values, labels=is_open.index, autopct='%1.1f%%', startangle=155, colors=['#124076', '#51829B'])\n",
        "\n",
        "plt.title('PORCENTAJE DE SUCURSALES DE MCDONALD\\'S ABIERTAS')\n",
        "\n",
        "plt.show()"
      ]
    },
    {
      "cell_type": "markdown",
      "metadata": {},
      "source": [
        "`Referencias:`\n",
        "- 0: Cerrado\n",
        "- 1: Abierto\n"
      ]
    },
    {
      "cell_type": "markdown",
      "metadata": {},
      "source": [
        "> *Se observa que aproximadamente el 93.2% de las sucursales están abiertas, lo que indica que la gran mayoría de las sucursales se encuentran operando. Esto sugiere una presencia estable y continua de la cadena en el mercado, con un bajo porcentaje de sucursales cerradas en comparación.*"
      ]
    },
    {
      "cell_type": "markdown",
      "metadata": {
        "id": "Pi0CcgWsEWg3"
      },
      "source": [
        "### Tip 📊"
      ]
    },
    {
      "cell_type": "markdown",
      "metadata": {},
      "source": [
        "*Dataset que contiene información acerca de Tips (consejos) escritos por el usuario. Los tips son más cortas que las reseñas y tienden a dar sugerencias rápidas.*"
      ]
    },
    {
      "cell_type": "markdown",
      "metadata": {},
      "source": [
        "*Definimos la ruta del archivo :*"
      ]
    },
    {
      "cell_type": "code",
      "execution_count": 45,
      "metadata": {
        "id": "NQHC5AfOELo-"
      },
      "outputs": [],
      "source": [
        "ruta = './Datos/Yelp/tip.json' "
      ]
    },
    {
      "cell_type": "markdown",
      "metadata": {},
      "source": [
        "*Almacenamos el contenido del archivo en un DataFrame:*"
      ]
    },
    {
      "cell_type": "code",
      "execution_count": 46,
      "metadata": {
        "colab": {
          "base_uri": "https://localhost:8080/",
          "height": 112
        },
        "id": "2QX85NMwE4yz",
        "outputId": "1ba9fbe7-549a-4498-d3bd-96d3973aee6a"
      },
      "outputs": [],
      "source": [
        "df_tip = pd.read_json(ruta, lines=True)"
      ]
    },
    {
      "cell_type": "markdown",
      "metadata": {},
      "source": [
        "*Visualizamos la estructura del DataFrame:*"
      ]
    },
    {
      "cell_type": "code",
      "execution_count": 47,
      "metadata": {},
      "outputs": [
        {
          "data": {
            "text/html": [
              "<div>\n",
              "<style scoped>\n",
              "    .dataframe tbody tr th:only-of-type {\n",
              "        vertical-align: middle;\n",
              "    }\n",
              "\n",
              "    .dataframe tbody tr th {\n",
              "        vertical-align: top;\n",
              "    }\n",
              "\n",
              "    .dataframe thead th {\n",
              "        text-align: right;\n",
              "    }\n",
              "</style>\n",
              "<table border=\"1\" class=\"dataframe\">\n",
              "  <thead>\n",
              "    <tr style=\"text-align: right;\">\n",
              "      <th></th>\n",
              "      <th>user_id</th>\n",
              "      <th>business_id</th>\n",
              "      <th>text</th>\n",
              "      <th>date</th>\n",
              "      <th>compliment_count</th>\n",
              "    </tr>\n",
              "  </thead>\n",
              "  <tbody>\n",
              "    <tr>\n",
              "      <th>0</th>\n",
              "      <td>AGNUgVwnZUey3gcPCJ76iw</td>\n",
              "      <td>3uLgwr0qeCNMjKenHJwPGQ</td>\n",
              "      <td>Avengers time with the ladies.</td>\n",
              "      <td>2012-05-18 02:17:21</td>\n",
              "      <td>0</td>\n",
              "    </tr>\n",
              "    <tr>\n",
              "      <th>1</th>\n",
              "      <td>NBN4MgHP9D3cw--SnauTkA</td>\n",
              "      <td>QoezRbYQncpRqyrLH6Iqjg</td>\n",
              "      <td>They have lots of good deserts and tasty cuban...</td>\n",
              "      <td>2013-02-05 18:35:10</td>\n",
              "      <td>0</td>\n",
              "    </tr>\n",
              "  </tbody>\n",
              "</table>\n",
              "</div>"
            ],
            "text/plain": [
              "                  user_id             business_id  \\\n",
              "0  AGNUgVwnZUey3gcPCJ76iw  3uLgwr0qeCNMjKenHJwPGQ   \n",
              "1  NBN4MgHP9D3cw--SnauTkA  QoezRbYQncpRqyrLH6Iqjg   \n",
              "\n",
              "                                                text                date  \\\n",
              "0                     Avengers time with the ladies. 2012-05-18 02:17:21   \n",
              "1  They have lots of good deserts and tasty cuban... 2013-02-05 18:35:10   \n",
              "\n",
              "   compliment_count  \n",
              "0                 0  \n",
              "1                 0  "
            ]
          },
          "execution_count": 47,
          "metadata": {},
          "output_type": "execute_result"
        }
      ],
      "source": [
        "df_tip.head(2)"
      ]
    },
    {
      "cell_type": "markdown",
      "metadata": {},
      "source": [
        "*Guardamos el archivo en formato **.parquet**:*"
      ]
    },
    {
      "cell_type": "code",
      "execution_count": 48,
      "metadata": {},
      "outputs": [],
      "source": [
        "df_tip.to_parquet('./Datos/Yelp/tip.parquet')"
      ]
    },
    {
      "cell_type": "markdown",
      "metadata": {},
      "source": [
        "*Y lo volvemos a abrir, pero en formato **.parquet**:*"
      ]
    },
    {
      "cell_type": "code",
      "execution_count": 49,
      "metadata": {},
      "outputs": [],
      "source": [
        "df_tip = pd.read_parquet('./Datos/Yelp/tip.parquet')"
      ]
    },
    {
      "cell_type": "markdown",
      "metadata": {},
      "source": [
        "*Visualizamos la información general del DataFrame, para ver el nombre de las columnas, la cantidad de valores **non-null** y los tipos de datos de los elementos de cada columna:*"
      ]
    },
    {
      "cell_type": "code",
      "execution_count": 50,
      "metadata": {},
      "outputs": [
        {
          "name": "stdout",
          "output_type": "stream",
          "text": [
            "<class 'pandas.core.frame.DataFrame'>\n",
            "RangeIndex: 908915 entries, 0 to 908914\n",
            "Data columns (total 5 columns):\n",
            " #   Column            Non-Null Count   Dtype         \n",
            "---  ------            --------------   -----         \n",
            " 0   user_id           908915 non-null  object        \n",
            " 1   business_id       908915 non-null  object        \n",
            " 2   text              908915 non-null  object        \n",
            " 3   date              908915 non-null  datetime64[ns]\n",
            " 4   compliment_count  908915 non-null  int64         \n",
            "dtypes: datetime64[ns](1), int64(1), object(3)\n",
            "memory usage: 34.7+ MB\n"
          ]
        }
      ],
      "source": [
        "df_tip.info()"
      ]
    },
    {
      "cell_type": "markdown",
      "metadata": {},
      "source": [
        "*Verificamos el porcentaje de valores nulos:*"
      ]
    },
    {
      "cell_type": "code",
      "execution_count": 51,
      "metadata": {},
      "outputs": [
        {
          "name": "stdout",
          "output_type": "stream",
          "text": [
            "La columna user_id tiene un  0.00 % de valores nulos\n",
            "La columna business_id tiene un  0.00 % de valores nulos\n",
            "La columna text tiene un  0.00 % de valores nulos\n",
            "La columna date tiene un  0.00 % de valores nulos\n",
            "La columna compliment_count tiene un  0.00 % de valores nulos\n"
          ]
        }
      ],
      "source": [
        "ut.porcentaje_valores_nulos(df_tip)"
      ]
    },
    {
      "cell_type": "markdown",
      "metadata": {},
      "source": [
        "> *Podemos ver que ninguna columna posee valores nulos.*"
      ]
    },
    {
      "cell_type": "markdown",
      "metadata": {},
      "source": [
        "*Analizamos las estadisticas descriptivas de todo el DataFrame, tanto variables numericas como variables categoricas, y veremos que información relevante podemos obtener a partir de allí:*"
      ]
    },
    {
      "cell_type": "code",
      "execution_count": 52,
      "metadata": {},
      "outputs": [
        {
          "data": {
            "text/html": [
              "<div>\n",
              "<style scoped>\n",
              "    .dataframe tbody tr th:only-of-type {\n",
              "        vertical-align: middle;\n",
              "    }\n",
              "\n",
              "    .dataframe tbody tr th {\n",
              "        vertical-align: top;\n",
              "    }\n",
              "\n",
              "    .dataframe thead th {\n",
              "        text-align: right;\n",
              "    }\n",
              "</style>\n",
              "<table border=\"1\" class=\"dataframe\">\n",
              "  <thead>\n",
              "    <tr style=\"text-align: right;\">\n",
              "      <th></th>\n",
              "      <th>user_id</th>\n",
              "      <th>business_id</th>\n",
              "      <th>text</th>\n",
              "      <th>date</th>\n",
              "      <th>compliment_count</th>\n",
              "    </tr>\n",
              "  </thead>\n",
              "  <tbody>\n",
              "    <tr>\n",
              "      <th>count</th>\n",
              "      <td>908915</td>\n",
              "      <td>908915</td>\n",
              "      <td>908915</td>\n",
              "      <td>908915</td>\n",
              "      <td>908915.000000</td>\n",
              "    </tr>\n",
              "    <tr>\n",
              "      <th>unique</th>\n",
              "      <td>301758</td>\n",
              "      <td>106193</td>\n",
              "      <td>851033</td>\n",
              "      <td>NaN</td>\n",
              "      <td>NaN</td>\n",
              "    </tr>\n",
              "    <tr>\n",
              "      <th>top</th>\n",
              "      <td>fCvMnJU1Z-XhAjKg99wK3Q</td>\n",
              "      <td>FEXhWNCMkv22qG04E83Qjg</td>\n",
              "      <td>Great food</td>\n",
              "      <td>NaN</td>\n",
              "      <td>NaN</td>\n",
              "    </tr>\n",
              "    <tr>\n",
              "      <th>freq</th>\n",
              "      <td>4071</td>\n",
              "      <td>2571</td>\n",
              "      <td>598</td>\n",
              "      <td>NaN</td>\n",
              "      <td>NaN</td>\n",
              "    </tr>\n",
              "    <tr>\n",
              "      <th>mean</th>\n",
              "      <td>NaN</td>\n",
              "      <td>NaN</td>\n",
              "      <td>NaN</td>\n",
              "      <td>2015-06-14 10:13:53.302817280</td>\n",
              "      <td>0.012525</td>\n",
              "    </tr>\n",
              "    <tr>\n",
              "      <th>min</th>\n",
              "      <td>NaN</td>\n",
              "      <td>NaN</td>\n",
              "      <td>NaN</td>\n",
              "      <td>2009-04-16 13:11:49</td>\n",
              "      <td>0.000000</td>\n",
              "    </tr>\n",
              "    <tr>\n",
              "      <th>25%</th>\n",
              "      <td>NaN</td>\n",
              "      <td>NaN</td>\n",
              "      <td>NaN</td>\n",
              "      <td>2013-01-26 01:18:02.500000</td>\n",
              "      <td>0.000000</td>\n",
              "    </tr>\n",
              "    <tr>\n",
              "      <th>50%</th>\n",
              "      <td>NaN</td>\n",
              "      <td>NaN</td>\n",
              "      <td>NaN</td>\n",
              "      <td>2015-03-15 01:10:25</td>\n",
              "      <td>0.000000</td>\n",
              "    </tr>\n",
              "    <tr>\n",
              "      <th>75%</th>\n",
              "      <td>NaN</td>\n",
              "      <td>NaN</td>\n",
              "      <td>NaN</td>\n",
              "      <td>2017-08-02 06:19:55.500000</td>\n",
              "      <td>0.000000</td>\n",
              "    </tr>\n",
              "    <tr>\n",
              "      <th>max</th>\n",
              "      <td>NaN</td>\n",
              "      <td>NaN</td>\n",
              "      <td>NaN</td>\n",
              "      <td>2022-01-19 20:38:55</td>\n",
              "      <td>6.000000</td>\n",
              "    </tr>\n",
              "    <tr>\n",
              "      <th>std</th>\n",
              "      <td>NaN</td>\n",
              "      <td>NaN</td>\n",
              "      <td>NaN</td>\n",
              "      <td>NaN</td>\n",
              "      <td>0.120763</td>\n",
              "    </tr>\n",
              "  </tbody>\n",
              "</table>\n",
              "</div>"
            ],
            "text/plain": [
              "                       user_id             business_id        text  \\\n",
              "count                   908915                  908915      908915   \n",
              "unique                  301758                  106193      851033   \n",
              "top     fCvMnJU1Z-XhAjKg99wK3Q  FEXhWNCMkv22qG04E83Qjg  Great food   \n",
              "freq                      4071                    2571         598   \n",
              "mean                       NaN                     NaN         NaN   \n",
              "min                        NaN                     NaN         NaN   \n",
              "25%                        NaN                     NaN         NaN   \n",
              "50%                        NaN                     NaN         NaN   \n",
              "75%                        NaN                     NaN         NaN   \n",
              "max                        NaN                     NaN         NaN   \n",
              "std                        NaN                     NaN         NaN   \n",
              "\n",
              "                                 date  compliment_count  \n",
              "count                          908915     908915.000000  \n",
              "unique                            NaN               NaN  \n",
              "top                               NaN               NaN  \n",
              "freq                              NaN               NaN  \n",
              "mean    2015-06-14 10:13:53.302817280          0.012525  \n",
              "min               2009-04-16 13:11:49          0.000000  \n",
              "25%        2013-01-26 01:18:02.500000          0.000000  \n",
              "50%               2015-03-15 01:10:25          0.000000  \n",
              "75%        2017-08-02 06:19:55.500000          0.000000  \n",
              "max               2022-01-19 20:38:55          6.000000  \n",
              "std                               NaN          0.120763  "
            ]
          },
          "execution_count": 52,
          "metadata": {},
          "output_type": "execute_result"
        }
      ],
      "source": [
        "df_tip.describe(include='all')"
      ]
    },
    {
      "cell_type": "markdown",
      "metadata": {},
      "source": [
        "> *A partir de este resumen estadistico podemos concluir que la frase en las reseñas (tips) más frecuente es \"Great food\", lo que sugiere que los usuarios valoran la calidad de la comida, se puede identificar que el usuario más activo en la plataforma es aquel con ID fCvMnJU1Z-XhAjKg99wK3Q, realizando multiples reseñas a lo largo del tiempo. Podemos identificar el ID del comercio que mayor cantidad de reseñas recibio a traves de esta plataforma, es aquel de ID FEXhWNCMkv22qG04E83Qjg y podemos ver que el dataset contiene información de las reseñas del periodo comprendido entre 2009-04-16 y 2022-01-19.*"
      ]
    },
    {
      "cell_type": "markdown",
      "metadata": {},
      "source": [
        "***Top 5 usuarios más activos:***"
      ]
    },
    {
      "cell_type": "markdown",
      "metadata": {},
      "source": [
        "*Obtenemos el top 5 de usuarios con mayor participación en la plataforma:*"
      ]
    },
    {
      "cell_type": "code",
      "execution_count": 53,
      "metadata": {},
      "outputs": [],
      "source": [
        "top_5_usuarios = df_tip['user_id'].value_counts().head()"
      ]
    },
    {
      "cell_type": "markdown",
      "metadata": {},
      "source": [
        "*Graficamos:*"
      ]
    },
    {
      "cell_type": "code",
      "execution_count": 54,
      "metadata": {},
      "outputs": [
        {
          "data": {
            "image/png": "[encoded data removed]",
            "text/plain": [
              "<Figure size 1000x400 with 1 Axes>"
            ]
          },
          "metadata": {},
          "output_type": "display_data"
        }
      ],
      "source": [
        "plt.figure(figsize=(10, 4))\n",
        "\n",
        "top_5_usuarios.plot.barh(color='#124076')\n",
        "\n",
        "plt.title('TOP 5 USUARIOS CON MAYOR CANTIDAD DE RESEÑAS')\n",
        "\n",
        "plt.xlabel('\\nCantidad de Reseñas')\n",
        "plt.ylabel('Usuarios\\n')\n",
        "\n",
        "plt.xticks(rotation=0)\n",
        "\n",
        "plt.gca().invert_yaxis()\n",
        "\n",
        "plt.show()"
      ]
    },
    {
      "cell_type": "markdown",
      "metadata": {},
      "source": [
        "> *A partir de este gráfico, podemos identificar a los usuarios con mayor actividad en la plataforma. Se observa que el usuario con ID \"fCvMnJU1Z-XhAjKg99wK3Q\" es el más activo, con un total de 4071 reseñas. Le siguen los usuarios \"5Y5KbsI5buMcNh2hTFaRpA\" y \"lMY8NBPyzlPbbu-KBYfD9A\" con 1385 y 1373 reseñas respectivamente. Esta información sugiere que algunos usuarios son mucho más activos que otros en la plataforma de reseñas. Es importante tener en cuenta la influencia de estos usuarios en la percepción general de los negocios debido a su actividad destacada en la plataforma.*"
      ]
    },
    {
      "cell_type": "markdown",
      "metadata": {},
      "source": [
        "***Top 5 comercios con mayor cantidad de reseñas:***"
      ]
    },
    {
      "cell_type": "markdown",
      "metadata": {},
      "source": [
        "*Obtenemos el top 5 de comercios con mayor cantidad de reseñas recibidas:*"
      ]
    },
    {
      "cell_type": "code",
      "execution_count": 55,
      "metadata": {},
      "outputs": [],
      "source": [
        "top_5_comercios = df_tip['business_id'].value_counts().head()"
      ]
    },
    {
      "cell_type": "markdown",
      "metadata": {},
      "source": [
        "*Graficamos:*"
      ]
    },
    {
      "cell_type": "code",
      "execution_count": 56,
      "metadata": {},
      "outputs": [
        {
          "data": {
            "image/png": "[encoded data removed]",
            "text/plain": [
              "<Figure size 1000x400 with 1 Axes>"
            ]
          },
          "metadata": {},
          "output_type": "display_data"
        }
      ],
      "source": [
        "plt.figure(figsize=(10, 4))\n",
        "\n",
        "top_5_comercios.plot.barh(color='#124076')\n",
        "\n",
        "plt.title('TOP 5 COMERCIOS CON MAYOR CANTIDAD DE RESEÑAS')\n",
        "\n",
        "plt.xlabel('\\nCantidad de Reseñas')\n",
        "plt.ylabel('Comercios\\n')\n",
        "\n",
        "plt.xticks(rotation=0)\n",
        "\n",
        "plt.gca().invert_yaxis()\n",
        "\n",
        "plt.show()"
      ]
    },
    {
      "cell_type": "markdown",
      "metadata": {},
      "source": [
        "*Averiguamos el nombre del comercio, según su ID, a partir del dataset \"Business\" y analizamos su calificación:*"
      ]
    },
    {
      "cell_type": "code",
      "execution_count": 58,
      "metadata": {},
      "outputs": [
        {
          "data": {
            "text/html": [
              "<div>\n",
              "<style scoped>\n",
              "    .dataframe tbody tr th:only-of-type {\n",
              "        vertical-align: middle;\n",
              "    }\n",
              "\n",
              "    .dataframe tbody tr th {\n",
              "        vertical-align: top;\n",
              "    }\n",
              "\n",
              "    .dataframe thead th {\n",
              "        text-align: right;\n",
              "    }\n",
              "</style>\n",
              "<table border=\"1\" class=\"dataframe\">\n",
              "  <thead>\n",
              "    <tr style=\"text-align: right;\">\n",
              "      <th></th>\n",
              "      <th>business_id</th>\n",
              "      <th>name</th>\n",
              "      <th>stars</th>\n",
              "    </tr>\n",
              "  </thead>\n",
              "  <tbody>\n",
              "    <tr>\n",
              "      <th>33534</th>\n",
              "      <td>FEXhWNCMkv22qG04E83Qjg</td>\n",
              "      <td>Café Du Monde</td>\n",
              "      <td>4.0</td>\n",
              "    </tr>\n",
              "    <tr>\n",
              "      <th>46923</th>\n",
              "      <td>-QI8Qi8XWH3D8y8ethnajA</td>\n",
              "      <td>Philadelphia International Airport - PHL</td>\n",
              "      <td>2.5</td>\n",
              "    </tr>\n",
              "    <tr>\n",
              "      <th>95286</th>\n",
              "      <td>Eb1XmmLWyt_way5NNZ7-Pw</td>\n",
              "      <td>Louis Armstrong New Orleans International Airp...</td>\n",
              "      <td>3.0</td>\n",
              "    </tr>\n",
              "    <tr>\n",
              "      <th>113731</th>\n",
              "      <td>_ab50qdWOk0DdB6XOrBitw</td>\n",
              "      <td>Acme Oyster House</td>\n",
              "      <td>4.0</td>\n",
              "    </tr>\n",
              "    <tr>\n",
              "      <th>143157</th>\n",
              "      <td>ytynqOUb3hjKeJfRj5Tshw</td>\n",
              "      <td>Reading Terminal Market</td>\n",
              "      <td>4.5</td>\n",
              "    </tr>\n",
              "  </tbody>\n",
              "</table>\n",
              "</div>"
            ],
            "text/plain": [
              "                   business_id  \\\n",
              "33534   FEXhWNCMkv22qG04E83Qjg   \n",
              "46923   -QI8Qi8XWH3D8y8ethnajA   \n",
              "95286   Eb1XmmLWyt_way5NNZ7-Pw   \n",
              "113731  _ab50qdWOk0DdB6XOrBitw   \n",
              "143157  ytynqOUb3hjKeJfRj5Tshw   \n",
              "\n",
              "                                                     name  stars  \n",
              "33534                                       Café Du Monde    4.0  \n",
              "46923            Philadelphia International Airport - PHL    2.5  \n",
              "95286   Louis Armstrong New Orleans International Airp...    3.0  \n",
              "113731                                  Acme Oyster House    4.0  \n",
              "143157                            Reading Terminal Market    4.5  "
            ]
          },
          "execution_count": 58,
          "metadata": {},
          "output_type": "execute_result"
        }
      ],
      "source": [
        "df_business[df_business['business_id'].isin(top_5_comercios.index)][['business_id', 'name', 'stars']]"
      ]
    },
    {
      "cell_type": "markdown",
      "metadata": {},
      "source": [
        "> *Es interesante notar que los comercios con mayor cantidad de reseñas recibidas tienen una calificación alta, superior a la mediana (2.5). Esto sugiere que los clientes que frecuentan estos comercios tienden a estar satisfechos con su experiencia y están dispuestos a dejar reseñas positivas en la plataforma.*"
      ]
    },
    {
      "cell_type": "markdown",
      "metadata": {},
      "source": [
        "***Frases más frecuentes en las reseñas:***"
      ]
    },
    {
      "cell_type": "markdown",
      "metadata": {},
      "source": [
        "*Analizamos cuales son las frases que más se repiten dentro de las reseñas:*"
      ]
    },
    {
      "cell_type": "code",
      "execution_count": 59,
      "metadata": {},
      "outputs": [
        {
          "data": {
            "text/plain": [
              "text\n",
              "Great food          598\n",
              "Now open.           533\n",
              "Love this place!    477\n",
              "Great food!         433\n",
              ".                   421\n",
              "Love this place     398\n",
              "Yum                 379\n",
              "Closed              373\n",
              "Awesome             371\n",
              "Good                370\n",
              "Name: count, dtype: int64"
            ]
          },
          "execution_count": 59,
          "metadata": {},
          "output_type": "execute_result"
        }
      ],
      "source": [
        "df_tip['text'].value_counts().head(10)"
      ]
    },
    {
      "cell_type": "markdown",
      "metadata": {},
      "source": [
        "> *Podemos observar que las frases más repetidas en las reseñas son principalmente positivas o neutrales. Esto sugiere que los clientes que dejan reseñas tienden a tener una experiencia generalmente favorable o al menos no negativa en estos comercios.*"
      ]
    },
    {
      "cell_type": "markdown",
      "metadata": {},
      "source": [
        "***Tendencia de interacción por año:***"
      ]
    },
    {
      "cell_type": "markdown",
      "metadata": {},
      "source": [
        "*Creamos un DataFrame auxiliar, donde obtendremos solamente el año de la columna \"date\", y agruparemos la cantidad de reseñas por año:*"
      ]
    },
    {
      "cell_type": "code",
      "execution_count": 60,
      "metadata": {},
      "outputs": [],
      "source": [
        "df_agrupado_año = pd.DataFrame(df_tip['date'].apply(lambda x: x.strftime('%Y')).value_counts().sort_index())"
      ]
    },
    {
      "cell_type": "markdown",
      "metadata": {},
      "source": [
        "*Graficamos:*"
      ]
    },
    {
      "cell_type": "code",
      "execution_count": 61,
      "metadata": {},
      "outputs": [
        {
          "data": {
            "image/png": "[encoded data removed]",
            "text/plain": [
              "<Figure size 1200x400 with 1 Axes>"
            ]
          },
          "metadata": {},
          "output_type": "display_data"
        }
      ],
      "source": [
        "plt.figure(figsize=(12, 4))\n",
        "\n",
        "plt.plot(df_agrupado_año.index, df_agrupado_año.values, color='#124076', marker= 'o')\n",
        "\n",
        "plt.title('TENDENCIAS DE INTERACCIÓN POR AÑO')\n",
        "\n",
        "plt.xlabel('\\nAño')\n",
        "plt.ylabel('Cantidad de Tips\\n')\n",
        "\n",
        "plt.xticks(rotation=45)\n",
        "\n",
        "plt.show()"
      ]
    },
    {
      "cell_type": "markdown",
      "metadata": {},
      "source": [
        "> *Obseravamos que hubo un aumento en la interacción de los usuarios entre 2009 y 2012, seguido de un período de relativa estabilidad entre 2012 y 2014, con un alto número de reseñas realizadas. Sin embargo, desde 2014 en adelante, la interacción de los usuarios en la plataforma ha estado disminuyendo. Este patrón podría indicar cambios en el comportamiento de los usuarios o en la popularidad de la plataforma a lo largo del tiempo.*"
      ]
    },
    {
      "cell_type": "markdown",
      "metadata": {},
      "source": [
        "***Tendencia de interacción por mes:***"
      ]
    },
    {
      "cell_type": "markdown",
      "metadata": {},
      "source": [
        "*Creamos un DataFrame auxiliar, donde obtendremos solamente el mes de la columna \"date\", y agruparemos la cantidad de reseñas por mes:*"
      ]
    },
    {
      "cell_type": "code",
      "execution_count": 62,
      "metadata": {},
      "outputs": [],
      "source": [
        "df_agrupado_mes = pd.DataFrame(df_tip['date'].apply(lambda x: x.strftime('%m')).value_counts().sort_index())"
      ]
    },
    {
      "cell_type": "markdown",
      "metadata": {},
      "source": [
        "*Graficamos:*"
      ]
    },
    {
      "cell_type": "code",
      "execution_count": 63,
      "metadata": {},
      "outputs": [
        {
          "data": {
            "image/png": "[encoded data removed]",
            "text/plain": [
              "<Figure size 1200x400 with 1 Axes>"
            ]
          },
          "metadata": {},
          "output_type": "display_data"
        }
      ],
      "source": [
        "plt.figure(figsize=(12,4))\n",
        "\n",
        "plt.plot(df_agrupado_mes.index, df_agrupado_mes.values, color='#124076', marker= 'o')\n",
        "\n",
        "plt.title('TENDENCIAS DE INTERACCIÓN POR MES')\n",
        "\n",
        "plt.xlabel('\\nMes')\n",
        "plt.ylabel('Cantidad de Tips\\n')\n",
        "\n",
        "plt.xticks(rotation=45)\n",
        "\n",
        "plt.show()"
      ]
    },
    {
      "cell_type": "markdown",
      "metadata": {},
      "source": [
        "> *Notamos que noviembre y diciembre fueron los meses con menos interacción en el período analizado, mientras que julio y agosto destacaron como los meses con mayor cantidad de reseñas realizadas. Esto podría deberse a diversos factores estacionales, como vacaciones, festividades o cambios en el comportamiento de los usuarios durante diferentes períodos del año.*"
      ]
    },
    {
      "cell_type": "markdown",
      "metadata": {},
      "source": [
        "*Analizamos las reseñas realizadas hacia el comercio de nuestro interes, McDonald's:*"
      ]
    },
    {
      "cell_type": "code",
      "execution_count": 64,
      "metadata": {},
      "outputs": [],
      "source": [
        "mcdonalds = df_tip[df_tip['business_id'].isin(df_business_mc['business_id'])]"
      ]
    },
    {
      "cell_type": "markdown",
      "metadata": {},
      "source": [
        "***Top 5 sucursales de McDonald's con mayor cantidad de reseñas:***"
      ]
    },
    {
      "cell_type": "markdown",
      "metadata": {},
      "source": [
        "*Averiguamos cuales son las 5 sucursales con mayor cantidad de reseñas recibidas:*"
      ]
    },
    {
      "cell_type": "code",
      "execution_count": 67,
      "metadata": {},
      "outputs": [],
      "source": [
        "top_5_mc = mcdonalds['business_id'].value_counts().head()"
      ]
    },
    {
      "cell_type": "markdown",
      "metadata": {},
      "source": [
        "*Graficamos:*"
      ]
    },
    {
      "cell_type": "code",
      "execution_count": 69,
      "metadata": {},
      "outputs": [
        {
          "data": {
            "image/png": "[encoded data removed]",
            "text/plain": [
              "<Figure size 1000x400 with 1 Axes>"
            ]
          },
          "metadata": {},
          "output_type": "display_data"
        }
      ],
      "source": [
        "plt.figure(figsize= (10, 4))\n",
        "\n",
        "top_5_mc.plot.barh(color='#124076')\n",
        "\n",
        "plt.title('TOP 5 SUCURSALES DE MCDONALD\\'S CON MAYOR CANTIDAD DE RESEÑAS')\n",
        "\n",
        "plt.xlabel('\\nCantidad de Reseñas')\n",
        "plt.ylabel('Sucursales\\n')\n",
        "\n",
        "plt.xticks(rotation=0)\n",
        "\n",
        "plt.gca().invert_yaxis()\n",
        "\n",
        "plt.show()"
      ]
    },
    {
      "cell_type": "markdown",
      "metadata": {},
      "source": [
        "*Averiguamos en que ciudad y estado, se encuentran esas sucursales con mayor cantidad de reseñas:*"
      ]
    },
    {
      "cell_type": "code",
      "execution_count": 74,
      "metadata": {},
      "outputs": [
        {
          "name": "stdout",
          "output_type": "stream",
          "text": [
            "Sucursal ID: 3w7NRntdQ9h0KwDsksIt5Q, Nombre: McDonald's, Ciudad: Tucson, Estado: PA, Calificación: 2.0\n",
            "Sucursal ID: TC0SkzAqSdbmX0bYyvoJ8g, Nombre: McDonald's, Ciudad: Philadelphia, Estado: IN, Calificación: 1.5\n",
            "Sucursal ID: hVRebPv7EKMUGVV2m5IKaQ, Nombre: McDonald's, Ciudad: Philadelphia, Estado: NV, Calificación: 1.5\n",
            "Sucursal ID: 3UHXD8T80OUFMCzLb3x-sQ, Nombre: McDonald's, Ciudad: New Orleans, Estado: MO, Calificación: 1.0\n",
            "Sucursal ID: RL6BaK196Scg2DEY3Uc1AQ, Nombre: McDonald's, Ciudad: Indianapolis, Estado: FL, Calificación: 1.5\n"
          ]
        }
      ],
      "source": [
        "for index, row in df_business.iterrows():\n",
        "    if row['business_id'] in top_5_mc.index:\n",
        "        print(f\"Sucursal ID: {row['business_id']}, Nombre: {row['name']}, Ciudad: {row['city']}, Estado: {row['state']}, Calificación: {row['stars']}\")"
      ]
    },
    {
      "cell_type": "markdown",
      "metadata": {},
      "source": [
        "> *Podemos concluir que las sucursales con mayor cantidad de reseñas, tienden a tener calificaciones en su mayoría bajas. Esto sugiere que, a pesar de las críticas negativas, estas sucursales siguen generando un alto nivel de interacción por parte de los usuarios. Sería interesante profundizar en las razones detrás de estas críticas y la persistente interacción de los usuarios con estas sucursales.*"
      ]
    },
    {
      "cell_type": "markdown",
      "metadata": {},
      "source": [
        "***Tendencia de interacción por año hacia sucursales de McDonald's:***"
      ]
    },
    {
      "cell_type": "markdown",
      "metadata": {},
      "source": [
        "*Creamos un DataFrame auxiliar, donde obtendremos solamente el año de la columna \"date\", y agruparemos la cantidad de reseñas por año hacia nuestras sucursales de McDonald's:*"
      ]
    },
    {
      "cell_type": "code",
      "execution_count": 75,
      "metadata": {},
      "outputs": [],
      "source": [
        "df_agrupado_año = pd.DataFrame(mcdonalds['date'].apply(lambda x: x.strftime('%Y')).value_counts().sort_index())"
      ]
    },
    {
      "cell_type": "markdown",
      "metadata": {},
      "source": [
        "*Graficamos:*"
      ]
    },
    {
      "cell_type": "code",
      "execution_count": 77,
      "metadata": {},
      "outputs": [
        {
          "data": {
            "image/png": "[encoded data removed]",
            "text/plain": [
              "<Figure size 1200x400 with 1 Axes>"
            ]
          },
          "metadata": {},
          "output_type": "display_data"
        }
      ],
      "source": [
        "plt.figure(figsize=(12, 4))\n",
        "\n",
        "plt.plot(df_agrupado_año.index, df_agrupado_año.values, color='#124076', marker= 'o')\n",
        "\n",
        "plt.title('TENDENCIAS DE INTERACCIÓN POR AÑO EN MCDONALD\\'S')\n",
        "\n",
        "plt.xlabel('\\nAño')\n",
        "plt.ylabel('Cantidad de Tips\\n')\n",
        "\n",
        "plt.xticks(rotation=45)\n",
        "\n",
        "plt.show()"
      ]
    },
    {
      "cell_type": "markdown",
      "metadata": {},
      "source": [
        "> *Después de analizar las interacciones a lo largo de los años hacia las sucursales de McDonald's, se puede concluir que la tendencia de interacción sigue un patrón similar al observado en las interacciones hacia todos los restaurantes en la plataforma. Esto sugiere que la popularidad de la plataforma en sí misma puede ser un factor determinante en la cantidad de interacciones registradas, más que la popularidad específica de un negocio en particular.*"
      ]
    },
    {
      "cell_type": "markdown",
      "metadata": {},
      "source": [
        "***Frases más frecuentes en las reseñas hacia McDonald's:***"
      ]
    },
    {
      "cell_type": "code",
      "execution_count": 78,
      "metadata": {},
      "outputs": [
        {
          "data": {
            "text/plain": [
              "text\n",
              "Breakfast                                                                                                                                                                                                                                          37\n",
              "Ok                                                                                                                                                                                                                                                  9\n",
              "Coffee                                                                                                                                                                                                                                              6\n",
              "Coffee!                                                                                                                                                                                                                                             6\n",
              "Very good high class place to eat everyone's always nice beautiful music and food to die for, the burgers are prepared by some of the best chefs with only the highest quality of meat and other product 5 stars always a good date destination     5\n",
              "Save your coffee stickers! 7 = next one is free!                                                                                                                                                                                                    4\n",
              "Slow                                                                                                                                                                                                                                                3\n",
              "When your entire meal costs less than a pack of gum, you know you're in trouble.                                                                                                                                                                    3\n",
              "Hazelnut Iced Coffee                                                                                                                                                                                                                                3\n",
              ".                                                                                                                                                                                                                                                   3\n",
              "Name: count, dtype: int64"
            ]
          },
          "execution_count": 78,
          "metadata": {},
          "output_type": "execute_result"
        }
      ],
      "source": [
        "mcdonalds['text'].value_counts().head(10)"
      ]
    },
    {
      "cell_type": "markdown",
      "metadata": {},
      "source": [
        "> *Podemos observar que las frases más repetidas en las reseñas son principalmente positivas o neutrales. Esto sugiere que los clientes que dejan reseñas tienden a tener una experiencia generalmente favorable o al menos no negativa en las sucursales de McDonald's.*"
      ]
    },
    {
      "cell_type": "markdown",
      "metadata": {
        "id": "BphPucwXFTqe"
      },
      "source": [
        "### Review 📊"
      ]
    },
    {
      "cell_type": "markdown",
      "metadata": {},
      "source": [
        "*Definimos la ruta del archivo :*"
      ]
    },
    {
      "cell_type": "code",
      "execution_count": 225,
      "metadata": {
        "id": "ehnkw0gpFVY0"
      },
      "outputs": [],
      "source": [
        "ruta = './Datos/Yelp/review.json' "
      ]
    },
    {
      "cell_type": "markdown",
      "metadata": {},
      "source": [
        "*Creamos un función que lea el archivo en formato **.json** en fragmentos de 10000 y lo almacene en una lista vacia. Concatenamos los frangmentos de DataFrame en uno solo y guardamos el archivo en formato **.parquet** para que su peso sea menor:*"
      ]
    },
    {
      "cell_type": "code",
      "execution_count": 226,
      "metadata": {},
      "outputs": [],
      "source": [
        "# Lista vacia para almacenar los fragmentos del DataFrame\n",
        "dataframes = []\n",
        "\n",
        "# Tamaño de los fragmentos\n",
        "tamano_fragmento = 10000\n",
        "\n",
        "# Leemos el archivo en fragmentos y creamos DataFrames\n",
        "with open(ruta, 'r') as file:\n",
        "    for chunk in pd.read_json(file, lines=True, chunksize=tamano_fragmento):\n",
        "        dataframes.append(chunk)\n",
        "\n",
        "# Concatenamos los DataFrames en uno solo\n",
        "df_final = pd.concat(dataframes, ignore_index=True)\n",
        "\n",
        "# Guardamos el DataFrame en formato Parquet para que su peso sea menor\n",
        "df_final.to_parquet('review_temporal.parquet')\n"
      ]
    },
    {
      "cell_type": "markdown",
      "metadata": {},
      "source": [
        "*Almacenamos el contenido del archivo en un DataFrame:*"
      ]
    },
    {
      "cell_type": "code",
      "execution_count": null,
      "metadata": {},
      "outputs": [],
      "source": [
        "df_reviews = pd.read_parquet('review_temporal.parquet')"
      ]
    },
    {
      "cell_type": "markdown",
      "metadata": {},
      "source": [
        "*Visualizamos la estructura del DataFrame:*"
      ]
    },
    {
      "cell_type": "code",
      "execution_count": null,
      "metadata": {},
      "outputs": [
        {
          "data": {
            "text/html": [
              "<div>\n",
              "<style scoped>\n",
              "    .dataframe tbody tr th:only-of-type {\n",
              "        vertical-align: middle;\n",
              "    }\n",
              "\n",
              "    .dataframe tbody tr th {\n",
              "        vertical-align: top;\n",
              "    }\n",
              "\n",
              "    .dataframe thead th {\n",
              "        text-align: right;\n",
              "    }\n",
              "</style>\n",
              "<table border=\"1\" class=\"dataframe\">\n",
              "  <thead>\n",
              "    <tr style=\"text-align: right;\">\n",
              "      <th></th>\n",
              "      <th>review_id</th>\n",
              "      <th>user_id</th>\n",
              "      <th>business_id</th>\n",
              "      <th>stars</th>\n",
              "      <th>useful</th>\n",
              "      <th>funny</th>\n",
              "      <th>cool</th>\n",
              "      <th>text</th>\n",
              "      <th>date</th>\n",
              "    </tr>\n",
              "  </thead>\n",
              "  <tbody>\n",
              "    <tr>\n",
              "      <th>0</th>\n",
              "      <td>KU_O5udG6zpxOg-VcAEodg</td>\n",
              "      <td>mh_-eMZ6K5RLWhZyISBhwA</td>\n",
              "      <td>XQfwVwDr-v0ZS3_CbbE5Xw</td>\n",
              "      <td>3</td>\n",
              "      <td>0</td>\n",
              "      <td>0</td>\n",
              "      <td>0</td>\n",
              "      <td>If you decide to eat here, just be aware it is...</td>\n",
              "      <td>2018-07-07 22:09:11</td>\n",
              "    </tr>\n",
              "    <tr>\n",
              "      <th>1</th>\n",
              "      <td>BiTunyQ73aT9WBnpR9DZGw</td>\n",
              "      <td>OyoGAe7OKpv6SyGZT5g77Q</td>\n",
              "      <td>7ATYjTIgM3jUlt4UM3IypQ</td>\n",
              "      <td>5</td>\n",
              "      <td>1</td>\n",
              "      <td>0</td>\n",
              "      <td>1</td>\n",
              "      <td>I've taken a lot of spin classes over the year...</td>\n",
              "      <td>2012-01-03 15:28:18</td>\n",
              "    </tr>\n",
              "  </tbody>\n",
              "</table>\n",
              "</div>"
            ],
            "text/plain": [
              "                review_id                 user_id             business_id  \\\n",
              "0  KU_O5udG6zpxOg-VcAEodg  mh_-eMZ6K5RLWhZyISBhwA  XQfwVwDr-v0ZS3_CbbE5Xw   \n",
              "1  BiTunyQ73aT9WBnpR9DZGw  OyoGAe7OKpv6SyGZT5g77Q  7ATYjTIgM3jUlt4UM3IypQ   \n",
              "\n",
              "   stars  useful  funny  cool  \\\n",
              "0      3       0      0     0   \n",
              "1      5       1      0     1   \n",
              "\n",
              "                                                text                date  \n",
              "0  If you decide to eat here, just be aware it is... 2018-07-07 22:09:11  \n",
              "1  I've taken a lot of spin classes over the year... 2012-01-03 15:28:18  "
            ]
          },
          "execution_count": 52,
          "metadata": {},
          "output_type": "execute_result"
        }
      ],
      "source": [
        "df_reviews.head(2)"
      ]
    },
    {
      "cell_type": "markdown",
      "metadata": {},
      "source": [
        "*Normalizamos los nombres de las columnas del DataFrame:*"
      ]
    },
    {
      "cell_type": "code",
      "execution_count": null,
      "metadata": {},
      "outputs": [
        {
          "data": {
            "text/html": [
              "<div>\n",
              "<style scoped>\n",
              "    .dataframe tbody tr th:only-of-type {\n",
              "        vertical-align: middle;\n",
              "    }\n",
              "\n",
              "    .dataframe tbody tr th {\n",
              "        vertical-align: top;\n",
              "    }\n",
              "\n",
              "    .dataframe thead th {\n",
              "        text-align: right;\n",
              "    }\n",
              "</style>\n",
              "<table border=\"1\" class=\"dataframe\">\n",
              "  <thead>\n",
              "    <tr style=\"text-align: right;\">\n",
              "      <th></th>\n",
              "      <th>Review_Id</th>\n",
              "      <th>User_Id</th>\n",
              "      <th>Business_Id</th>\n",
              "      <th>Stars</th>\n",
              "      <th>Useful</th>\n",
              "      <th>Funny</th>\n",
              "      <th>Cool</th>\n",
              "      <th>Text</th>\n",
              "      <th>Date</th>\n",
              "    </tr>\n",
              "  </thead>\n",
              "  <tbody>\n",
              "    <tr>\n",
              "      <th>0</th>\n",
              "      <td>KU_O5udG6zpxOg-VcAEodg</td>\n",
              "      <td>mh_-eMZ6K5RLWhZyISBhwA</td>\n",
              "      <td>XQfwVwDr-v0ZS3_CbbE5Xw</td>\n",
              "      <td>3</td>\n",
              "      <td>0</td>\n",
              "      <td>0</td>\n",
              "      <td>0</td>\n",
              "      <td>If you decide to eat here, just be aware it is...</td>\n",
              "      <td>2018-07-07 22:09:11</td>\n",
              "    </tr>\n",
              "    <tr>\n",
              "      <th>1</th>\n",
              "      <td>BiTunyQ73aT9WBnpR9DZGw</td>\n",
              "      <td>OyoGAe7OKpv6SyGZT5g77Q</td>\n",
              "      <td>7ATYjTIgM3jUlt4UM3IypQ</td>\n",
              "      <td>5</td>\n",
              "      <td>1</td>\n",
              "      <td>0</td>\n",
              "      <td>1</td>\n",
              "      <td>I've taken a lot of spin classes over the year...</td>\n",
              "      <td>2012-01-03 15:28:18</td>\n",
              "    </tr>\n",
              "    <tr>\n",
              "      <th>2</th>\n",
              "      <td>saUsX_uimxRlCVr67Z4Jig</td>\n",
              "      <td>8g_iMtfSiwikVnbP2etR0A</td>\n",
              "      <td>YjUWPpI6HXG530lwP-fb2A</td>\n",
              "      <td>3</td>\n",
              "      <td>0</td>\n",
              "      <td>0</td>\n",
              "      <td>0</td>\n",
              "      <td>Family diner. Had the buffet. Eclectic assortm...</td>\n",
              "      <td>2014-02-05 20:30:30</td>\n",
              "    </tr>\n",
              "    <tr>\n",
              "      <th>3</th>\n",
              "      <td>AqPFMleE6RsU23_auESxiA</td>\n",
              "      <td>_7bHUi9Uuf5__HHc_Q8guQ</td>\n",
              "      <td>kxX2SOes4o-D3ZQBkiMRfA</td>\n",
              "      <td>5</td>\n",
              "      <td>1</td>\n",
              "      <td>0</td>\n",
              "      <td>1</td>\n",
              "      <td>Wow!  Yummy, different,  delicious.   Our favo...</td>\n",
              "      <td>2015-01-04 00:01:03</td>\n",
              "    </tr>\n",
              "    <tr>\n",
              "      <th>4</th>\n",
              "      <td>Sx8TMOWLNuJBWer-0pcmoA</td>\n",
              "      <td>bcjbaE6dDog4jkNY91ncLQ</td>\n",
              "      <td>e4Vwtrqf-wpJfwesgvdgxQ</td>\n",
              "      <td>4</td>\n",
              "      <td>1</td>\n",
              "      <td>0</td>\n",
              "      <td>1</td>\n",
              "      <td>Cute interior and owner (?) gave us tour of up...</td>\n",
              "      <td>2017-01-14 20:54:15</td>\n",
              "    </tr>\n",
              "    <tr>\n",
              "      <th>...</th>\n",
              "      <td>...</td>\n",
              "      <td>...</td>\n",
              "      <td>...</td>\n",
              "      <td>...</td>\n",
              "      <td>...</td>\n",
              "      <td>...</td>\n",
              "      <td>...</td>\n",
              "      <td>...</td>\n",
              "      <td>...</td>\n",
              "    </tr>\n",
              "    <tr>\n",
              "      <th>6990275</th>\n",
              "      <td>H0RIamZu0B0Ei0P4aeh3sQ</td>\n",
              "      <td>qskILQ3k0I_qcCMI-k6_QQ</td>\n",
              "      <td>jals67o91gcrD4DC81Vk6w</td>\n",
              "      <td>5</td>\n",
              "      <td>1</td>\n",
              "      <td>2</td>\n",
              "      <td>1</td>\n",
              "      <td>Latest addition to services from ICCU is Apple...</td>\n",
              "      <td>2014-12-17 21:45:20</td>\n",
              "    </tr>\n",
              "    <tr>\n",
              "      <th>6990276</th>\n",
              "      <td>shTPgbgdwTHSuU67mGCmZQ</td>\n",
              "      <td>Zo0th2m8Ez4gLSbHftiQvg</td>\n",
              "      <td>2vLksaMmSEcGbjI5gywpZA</td>\n",
              "      <td>5</td>\n",
              "      <td>2</td>\n",
              "      <td>1</td>\n",
              "      <td>2</td>\n",
              "      <td>This spot offers a great, affordable east week...</td>\n",
              "      <td>2021-03-31 16:55:10</td>\n",
              "    </tr>\n",
              "    <tr>\n",
              "      <th>6990277</th>\n",
              "      <td>YNfNhgZlaaCO5Q_YJR4rEw</td>\n",
              "      <td>mm6E4FbCMwJmb7kPDZ5v2Q</td>\n",
              "      <td>R1khUUxidqfaJmcpmGd4aw</td>\n",
              "      <td>4</td>\n",
              "      <td>1</td>\n",
              "      <td>0</td>\n",
              "      <td>0</td>\n",
              "      <td>This Home Depot won me over when I needed to g...</td>\n",
              "      <td>2019-12-30 03:56:30</td>\n",
              "    </tr>\n",
              "    <tr>\n",
              "      <th>6990278</th>\n",
              "      <td>i-I4ZOhoX70Nw5H0FwrQUA</td>\n",
              "      <td>YwAMC-jvZ1fvEUum6QkEkw</td>\n",
              "      <td>Rr9kKArrMhSLVE9a53q-aA</td>\n",
              "      <td>5</td>\n",
              "      <td>1</td>\n",
              "      <td>0</td>\n",
              "      <td>0</td>\n",
              "      <td>For when I'm feeling like ignoring my calorie-...</td>\n",
              "      <td>2022-01-19 18:59:27</td>\n",
              "    </tr>\n",
              "    <tr>\n",
              "      <th>6990279</th>\n",
              "      <td>RwcKOdEuLRHNJe4M9-qpqg</td>\n",
              "      <td>6JehEvdoCvZPJ_XIxnzIIw</td>\n",
              "      <td>VAeEXLbEcI9Emt9KGYq9aA</td>\n",
              "      <td>3</td>\n",
              "      <td>10</td>\n",
              "      <td>3</td>\n",
              "      <td>7</td>\n",
              "      <td>Located in the 'Walking District' in Nashville...</td>\n",
              "      <td>2018-01-02 22:50:47</td>\n",
              "    </tr>\n",
              "  </tbody>\n",
              "</table>\n",
              "<p>6990280 rows × 9 columns</p>\n",
              "</div>"
            ],
            "text/plain": [
              "                      Review_Id                 User_Id  \\\n",
              "0        KU_O5udG6zpxOg-VcAEodg  mh_-eMZ6K5RLWhZyISBhwA   \n",
              "1        BiTunyQ73aT9WBnpR9DZGw  OyoGAe7OKpv6SyGZT5g77Q   \n",
              "2        saUsX_uimxRlCVr67Z4Jig  8g_iMtfSiwikVnbP2etR0A   \n",
              "3        AqPFMleE6RsU23_auESxiA  _7bHUi9Uuf5__HHc_Q8guQ   \n",
              "4        Sx8TMOWLNuJBWer-0pcmoA  bcjbaE6dDog4jkNY91ncLQ   \n",
              "...                         ...                     ...   \n",
              "6990275  H0RIamZu0B0Ei0P4aeh3sQ  qskILQ3k0I_qcCMI-k6_QQ   \n",
              "6990276  shTPgbgdwTHSuU67mGCmZQ  Zo0th2m8Ez4gLSbHftiQvg   \n",
              "6990277  YNfNhgZlaaCO5Q_YJR4rEw  mm6E4FbCMwJmb7kPDZ5v2Q   \n",
              "6990278  i-I4ZOhoX70Nw5H0FwrQUA  YwAMC-jvZ1fvEUum6QkEkw   \n",
              "6990279  RwcKOdEuLRHNJe4M9-qpqg  6JehEvdoCvZPJ_XIxnzIIw   \n",
              "\n",
              "                    Business_Id  Stars  Useful  Funny  Cool  \\\n",
              "0        XQfwVwDr-v0ZS3_CbbE5Xw      3       0      0     0   \n",
              "1        7ATYjTIgM3jUlt4UM3IypQ      5       1      0     1   \n",
              "2        YjUWPpI6HXG530lwP-fb2A      3       0      0     0   \n",
              "3        kxX2SOes4o-D3ZQBkiMRfA      5       1      0     1   \n",
              "4        e4Vwtrqf-wpJfwesgvdgxQ      4       1      0     1   \n",
              "...                         ...    ...     ...    ...   ...   \n",
              "6990275  jals67o91gcrD4DC81Vk6w      5       1      2     1   \n",
              "6990276  2vLksaMmSEcGbjI5gywpZA      5       2      1     2   \n",
              "6990277  R1khUUxidqfaJmcpmGd4aw      4       1      0     0   \n",
              "6990278  Rr9kKArrMhSLVE9a53q-aA      5       1      0     0   \n",
              "6990279  VAeEXLbEcI9Emt9KGYq9aA      3      10      3     7   \n",
              "\n",
              "                                                      Text                Date  \n",
              "0        If you decide to eat here, just be aware it is... 2018-07-07 22:09:11  \n",
              "1        I've taken a lot of spin classes over the year... 2012-01-03 15:28:18  \n",
              "2        Family diner. Had the buffet. Eclectic assortm... 2014-02-05 20:30:30  \n",
              "3        Wow!  Yummy, different,  delicious.   Our favo... 2015-01-04 00:01:03  \n",
              "4        Cute interior and owner (?) gave us tour of up... 2017-01-14 20:54:15  \n",
              "...                                                    ...                 ...  \n",
              "6990275  Latest addition to services from ICCU is Apple... 2014-12-17 21:45:20  \n",
              "6990276  This spot offers a great, affordable east week... 2021-03-31 16:55:10  \n",
              "6990277  This Home Depot won me over when I needed to g... 2019-12-30 03:56:30  \n",
              "6990278  For when I'm feeling like ignoring my calorie-... 2022-01-19 18:59:27  \n",
              "6990279  Located in the 'Walking District' in Nashville... 2018-01-02 22:50:47  \n",
              "\n",
              "[6990280 rows x 9 columns]"
            ]
          },
          "execution_count": 53,
          "metadata": {},
          "output_type": "execute_result"
        }
      ],
      "source": [
        "ut.normalizacion_columnas(df_reviews)"
      ]
    },
    {
      "cell_type": "markdown",
      "metadata": {},
      "source": [
        "*Uniremos los DataFrames, **mcdonalds** y **df_reviews**, para quedarnos solo con las reseñas del comercio de nuestro interes:*"
      ]
    },
    {
      "cell_type": "code",
      "execution_count": null,
      "metadata": {},
      "outputs": [],
      "source": [
        "reviews_mcdonalds = mcdonalds.merge(df_reviews, on= 'Business_Id', how= 'left')"
      ]
    },
    {
      "cell_type": "markdown",
      "metadata": {},
      "source": [
        "*Verificamos:*"
      ]
    },
    {
      "cell_type": "code",
      "execution_count": null,
      "metadata": {},
      "outputs": [
        {
          "data": {
            "text/html": [
              "<div>\n",
              "<style scoped>\n",
              "    .dataframe tbody tr th:only-of-type {\n",
              "        vertical-align: middle;\n",
              "    }\n",
              "\n",
              "    .dataframe tbody tr th {\n",
              "        vertical-align: top;\n",
              "    }\n",
              "\n",
              "    .dataframe thead th {\n",
              "        text-align: right;\n",
              "    }\n",
              "</style>\n",
              "<table border=\"1\" class=\"dataframe\">\n",
              "  <thead>\n",
              "    <tr style=\"text-align: right;\">\n",
              "      <th></th>\n",
              "      <th>Name</th>\n",
              "      <th>Business_Id</th>\n",
              "      <th>Review_Id</th>\n",
              "      <th>User_Id</th>\n",
              "      <th>Stars</th>\n",
              "      <th>Useful</th>\n",
              "      <th>Funny</th>\n",
              "      <th>Cool</th>\n",
              "      <th>Text</th>\n",
              "      <th>Date</th>\n",
              "    </tr>\n",
              "  </thead>\n",
              "  <tbody>\n",
              "    <tr>\n",
              "      <th>0</th>\n",
              "      <td>McDonald's</td>\n",
              "      <td>yM8LlTInbQH4FwWC97lz6w</td>\n",
              "      <td>SB8GmxCcWLkz5hnArAWDyg</td>\n",
              "      <td>6z3PRqgD0ZRzo3JWA2XGiQ</td>\n",
              "      <td>1</td>\n",
              "      <td>0</td>\n",
              "      <td>0</td>\n",
              "      <td>0</td>\n",
              "      <td>If you can't come to work with pride and energ...</td>\n",
              "      <td>2018-01-09 21:23:02</td>\n",
              "    </tr>\n",
              "    <tr>\n",
              "      <th>1</th>\n",
              "      <td>McDonald's</td>\n",
              "      <td>yM8LlTInbQH4FwWC97lz6w</td>\n",
              "      <td>F99EHFlmHnt3U6wSdM2KoA</td>\n",
              "      <td>bQ_qlqlZRFgfRlqveB-ILg</td>\n",
              "      <td>2</td>\n",
              "      <td>2</td>\n",
              "      <td>2</td>\n",
              "      <td>0</td>\n",
              "      <td>Not the greatest fast food place to hit at nig...</td>\n",
              "      <td>2010-11-24 21:44:42</td>\n",
              "    </tr>\n",
              "  </tbody>\n",
              "</table>\n",
              "</div>"
            ],
            "text/plain": [
              "         Name             Business_Id               Review_Id  \\\n",
              "0  McDonald's  yM8LlTInbQH4FwWC97lz6w  SB8GmxCcWLkz5hnArAWDyg   \n",
              "1  McDonald's  yM8LlTInbQH4FwWC97lz6w  F99EHFlmHnt3U6wSdM2KoA   \n",
              "\n",
              "                  User_Id  Stars  Useful  Funny  Cool  \\\n",
              "0  6z3PRqgD0ZRzo3JWA2XGiQ      1       0      0     0   \n",
              "1  bQ_qlqlZRFgfRlqveB-ILg      2       2      2     0   \n",
              "\n",
              "                                                Text                Date  \n",
              "0  If you can't come to work with pride and energ... 2018-01-09 21:23:02  \n",
              "1  Not the greatest fast food place to hit at nig... 2010-11-24 21:44:42  "
            ]
          },
          "execution_count": 55,
          "metadata": {},
          "output_type": "execute_result"
        }
      ],
      "source": [
        "reviews_mcdonalds.head(2)"
      ]
    },
    {
      "cell_type": "markdown",
      "metadata": {},
      "source": [
        "*Eliminaremos la columna **Business_Id**, por que no es relevante, ya que ahora tenemos el nombre del comercio:*"
      ]
    },
    {
      "cell_type": "code",
      "execution_count": null,
      "metadata": {},
      "outputs": [],
      "source": [
        "reviews_mcdonalds.drop(columns=['Business_Id'], inplace=True)"
      ]
    },
    {
      "cell_type": "markdown",
      "metadata": {},
      "source": [
        "*Guardamos el DataFrame resultante para su posterior uso:*"
      ]
    },
    {
      "cell_type": "code",
      "execution_count": null,
      "metadata": {},
      "outputs": [],
      "source": [
        "reviews_mcdonalds.to_parquet('./Datos/Archivos Filtrados/reviews_mcdonalds.parquet')"
      ]
    },
    {
      "cell_type": "markdown",
      "metadata": {},
      "source": [
        "### User 📊"
      ]
    },
    {
      "cell_type": "markdown",
      "metadata": {},
      "source": [
        "*Definimos la ruta del archivo :*"
      ]
    },
    {
      "cell_type": "code",
      "execution_count": null,
      "metadata": {},
      "outputs": [],
      "source": [
        "ruta = './Datos/Yelp/user.parquet'"
      ]
    },
    {
      "cell_type": "markdown",
      "metadata": {},
      "source": [
        "*Almacenamos el contenido del archivo en una variable, **df_user**:*"
      ]
    },
    {
      "cell_type": "code",
      "execution_count": null,
      "metadata": {},
      "outputs": [],
      "source": [
        "df_user = pq.read_table(ruta, use_threads=True)"
      ]
    },
    {
      "cell_type": "markdown",
      "metadata": {},
      "source": [
        "*Lo convertimos a un DataFrame de pandas:*"
      ]
    },
    {
      "cell_type": "code",
      "execution_count": null,
      "metadata": {},
      "outputs": [],
      "source": [
        "df_user = df_user.to_pandas()"
      ]
    },
    {
      "cell_type": "markdown",
      "metadata": {},
      "source": [
        "*Visualizamos la estructura del DataFrame:*"
      ]
    },
    {
      "cell_type": "code",
      "execution_count": null,
      "metadata": {},
      "outputs": [
        {
          "data": {
            "text/html": [
              "<div>\n",
              "<style scoped>\n",
              "    .dataframe tbody tr th:only-of-type {\n",
              "        vertical-align: middle;\n",
              "    }\n",
              "\n",
              "    .dataframe tbody tr th {\n",
              "        vertical-align: top;\n",
              "    }\n",
              "\n",
              "    .dataframe thead th {\n",
              "        text-align: right;\n",
              "    }\n",
              "</style>\n",
              "<table border=\"1\" class=\"dataframe\">\n",
              "  <thead>\n",
              "    <tr style=\"text-align: right;\">\n",
              "      <th></th>\n",
              "      <th>user_id</th>\n",
              "      <th>name</th>\n",
              "      <th>review_count</th>\n",
              "      <th>yelping_since</th>\n",
              "      <th>useful</th>\n",
              "      <th>funny</th>\n",
              "      <th>cool</th>\n",
              "      <th>elite</th>\n",
              "      <th>friends</th>\n",
              "      <th>fans</th>\n",
              "      <th>...</th>\n",
              "      <th>compliment_more</th>\n",
              "      <th>compliment_profile</th>\n",
              "      <th>compliment_cute</th>\n",
              "      <th>compliment_list</th>\n",
              "      <th>compliment_note</th>\n",
              "      <th>compliment_plain</th>\n",
              "      <th>compliment_cool</th>\n",
              "      <th>compliment_funny</th>\n",
              "      <th>compliment_writer</th>\n",
              "      <th>compliment_photos</th>\n",
              "    </tr>\n",
              "  </thead>\n",
              "  <tbody>\n",
              "    <tr>\n",
              "      <th>0</th>\n",
              "      <td>qVc8ODYU5SZjKXVBgXdI7w</td>\n",
              "      <td>Walker</td>\n",
              "      <td>585</td>\n",
              "      <td>2007-01-25 16:47:26</td>\n",
              "      <td>7217</td>\n",
              "      <td>1259</td>\n",
              "      <td>5994</td>\n",
              "      <td>2007</td>\n",
              "      <td>NSCy54eWehBJyZdG2iE84w, pe42u7DcCH2QmI81NX-8qA...</td>\n",
              "      <td>267</td>\n",
              "      <td>...</td>\n",
              "      <td>65</td>\n",
              "      <td>55</td>\n",
              "      <td>56</td>\n",
              "      <td>18</td>\n",
              "      <td>232</td>\n",
              "      <td>844</td>\n",
              "      <td>467</td>\n",
              "      <td>467</td>\n",
              "      <td>239</td>\n",
              "      <td>180</td>\n",
              "    </tr>\n",
              "    <tr>\n",
              "      <th>1</th>\n",
              "      <td>j14WgRoU_-2ZE1aw1dXrJg</td>\n",
              "      <td>Daniel</td>\n",
              "      <td>4333</td>\n",
              "      <td>2009-01-25 04:35:42</td>\n",
              "      <td>43091</td>\n",
              "      <td>13066</td>\n",
              "      <td>27281</td>\n",
              "      <td>2009,2010,2011,2012,2013,2014,2015,2016,2017,2...</td>\n",
              "      <td>ueRPE0CX75ePGMqOFVj6IQ, 52oH4DrRvzzl8wh5UXyU0A...</td>\n",
              "      <td>3138</td>\n",
              "      <td>...</td>\n",
              "      <td>264</td>\n",
              "      <td>184</td>\n",
              "      <td>157</td>\n",
              "      <td>251</td>\n",
              "      <td>1847</td>\n",
              "      <td>7054</td>\n",
              "      <td>3131</td>\n",
              "      <td>3131</td>\n",
              "      <td>1521</td>\n",
              "      <td>1946</td>\n",
              "    </tr>\n",
              "  </tbody>\n",
              "</table>\n",
              "<p>2 rows × 22 columns</p>\n",
              "</div>"
            ],
            "text/plain": [
              "                  user_id    name  review_count        yelping_since  useful  \\\n",
              "0  qVc8ODYU5SZjKXVBgXdI7w  Walker           585  2007-01-25 16:47:26    7217   \n",
              "1  j14WgRoU_-2ZE1aw1dXrJg  Daniel          4333  2009-01-25 04:35:42   43091   \n",
              "\n",
              "   funny   cool                                              elite  \\\n",
              "0   1259   5994                                               2007   \n",
              "1  13066  27281  2009,2010,2011,2012,2013,2014,2015,2016,2017,2...   \n",
              "\n",
              "                                             friends  fans  ...  \\\n",
              "0  NSCy54eWehBJyZdG2iE84w, pe42u7DcCH2QmI81NX-8qA...   267  ...   \n",
              "1  ueRPE0CX75ePGMqOFVj6IQ, 52oH4DrRvzzl8wh5UXyU0A...  3138  ...   \n",
              "\n",
              "   compliment_more  compliment_profile  compliment_cute  compliment_list  \\\n",
              "0               65                  55               56               18   \n",
              "1              264                 184              157              251   \n",
              "\n",
              "   compliment_note  compliment_plain  compliment_cool  compliment_funny  \\\n",
              "0              232               844              467               467   \n",
              "1             1847              7054             3131              3131   \n",
              "\n",
              "   compliment_writer  compliment_photos  \n",
              "0                239                180  \n",
              "1               1521               1946  \n",
              "\n",
              "[2 rows x 22 columns]"
            ]
          },
          "execution_count": 62,
          "metadata": {},
          "output_type": "execute_result"
        }
      ],
      "source": [
        "df_user.head(2)"
      ]
    },
    {
      "cell_type": "code",
      "execution_count": null,
      "metadata": {},
      "outputs": [
        {
          "data": {
            "text/plain": [
              "Index(['User_Id', 'Name', 'Review_Count', 'Yelping_Since', 'Useful', 'Funny',\n",
              "       'Cool', 'Elite', 'Friends', 'Fans', 'Average_Stars', 'Compliment_Hot',\n",
              "       'Compliment_More', 'Compliment_Profile', 'Compliment_Cute',\n",
              "       'Compliment_List', 'Compliment_Note', 'Compliment_Plain',\n",
              "       'Compliment_Cool', 'Compliment_Funny', 'Compliment_Writer',\n",
              "       'Compliment_Photos'],\n",
              "      dtype='object')"
            ]
          },
          "execution_count": 93,
          "metadata": {},
          "output_type": "execute_result"
        }
      ],
      "source": [
        "df_user.columns"
      ]
    },
    {
      "cell_type": "markdown",
      "metadata": {},
      "source": [
        "*Normalizamos los nombres de las columnas del DataFrame:*"
      ]
    },
    {
      "cell_type": "code",
      "execution_count": null,
      "metadata": {},
      "outputs": [
        {
          "data": {
            "text/html": [
              "<div>\n",
              "<style scoped>\n",
              "    .dataframe tbody tr th:only-of-type {\n",
              "        vertical-align: middle;\n",
              "    }\n",
              "\n",
              "    .dataframe tbody tr th {\n",
              "        vertical-align: top;\n",
              "    }\n",
              "\n",
              "    .dataframe thead th {\n",
              "        text-align: right;\n",
              "    }\n",
              "</style>\n",
              "<table border=\"1\" class=\"dataframe\">\n",
              "  <thead>\n",
              "    <tr style=\"text-align: right;\">\n",
              "      <th></th>\n",
              "      <th>User_Id</th>\n",
              "      <th>Name</th>\n",
              "      <th>Review_Count</th>\n",
              "      <th>Yelping_Since</th>\n",
              "      <th>Useful</th>\n",
              "      <th>Funny</th>\n",
              "      <th>Cool</th>\n",
              "      <th>Elite</th>\n",
              "      <th>Friends</th>\n",
              "      <th>Fans</th>\n",
              "      <th>...</th>\n",
              "      <th>Compliment_More</th>\n",
              "      <th>Compliment_Profile</th>\n",
              "      <th>Compliment_Cute</th>\n",
              "      <th>Compliment_List</th>\n",
              "      <th>Compliment_Note</th>\n",
              "      <th>Compliment_Plain</th>\n",
              "      <th>Compliment_Cool</th>\n",
              "      <th>Compliment_Funny</th>\n",
              "      <th>Compliment_Writer</th>\n",
              "      <th>Compliment_Photos</th>\n",
              "    </tr>\n",
              "  </thead>\n",
              "  <tbody>\n",
              "    <tr>\n",
              "      <th>0</th>\n",
              "      <td>qVc8ODYU5SZjKXVBgXdI7w</td>\n",
              "      <td>Walker</td>\n",
              "      <td>585</td>\n",
              "      <td>2007-01-25 16:47:26</td>\n",
              "      <td>7217</td>\n",
              "      <td>1259</td>\n",
              "      <td>5994</td>\n",
              "      <td>2007</td>\n",
              "      <td>NSCy54eWehBJyZdG2iE84w, pe42u7DcCH2QmI81NX-8qA...</td>\n",
              "      <td>267</td>\n",
              "      <td>...</td>\n",
              "      <td>65</td>\n",
              "      <td>55</td>\n",
              "      <td>56</td>\n",
              "      <td>18</td>\n",
              "      <td>232</td>\n",
              "      <td>844</td>\n",
              "      <td>467</td>\n",
              "      <td>467</td>\n",
              "      <td>239</td>\n",
              "      <td>180</td>\n",
              "    </tr>\n",
              "    <tr>\n",
              "      <th>1</th>\n",
              "      <td>j14WgRoU_-2ZE1aw1dXrJg</td>\n",
              "      <td>Daniel</td>\n",
              "      <td>4333</td>\n",
              "      <td>2009-01-25 04:35:42</td>\n",
              "      <td>43091</td>\n",
              "      <td>13066</td>\n",
              "      <td>27281</td>\n",
              "      <td>2009,2010,2011,2012,2013,2014,2015,2016,2017,2...</td>\n",
              "      <td>ueRPE0CX75ePGMqOFVj6IQ, 52oH4DrRvzzl8wh5UXyU0A...</td>\n",
              "      <td>3138</td>\n",
              "      <td>...</td>\n",
              "      <td>264</td>\n",
              "      <td>184</td>\n",
              "      <td>157</td>\n",
              "      <td>251</td>\n",
              "      <td>1847</td>\n",
              "      <td>7054</td>\n",
              "      <td>3131</td>\n",
              "      <td>3131</td>\n",
              "      <td>1521</td>\n",
              "      <td>1946</td>\n",
              "    </tr>\n",
              "  </tbody>\n",
              "</table>\n",
              "<p>2 rows × 22 columns</p>\n",
              "</div>"
            ],
            "text/plain": [
              "                  User_Id    Name  Review_Count        Yelping_Since  Useful  \\\n",
              "0  qVc8ODYU5SZjKXVBgXdI7w  Walker           585  2007-01-25 16:47:26    7217   \n",
              "1  j14WgRoU_-2ZE1aw1dXrJg  Daniel          4333  2009-01-25 04:35:42   43091   \n",
              "\n",
              "   Funny   Cool                                              Elite  \\\n",
              "0   1259   5994                                               2007   \n",
              "1  13066  27281  2009,2010,2011,2012,2013,2014,2015,2016,2017,2...   \n",
              "\n",
              "                                             Friends  Fans  ...  \\\n",
              "0  NSCy54eWehBJyZdG2iE84w, pe42u7DcCH2QmI81NX-8qA...   267  ...   \n",
              "1  ueRPE0CX75ePGMqOFVj6IQ, 52oH4DrRvzzl8wh5UXyU0A...  3138  ...   \n",
              "\n",
              "   Compliment_More  Compliment_Profile  Compliment_Cute  Compliment_List  \\\n",
              "0               65                  55               56               18   \n",
              "1              264                 184              157              251   \n",
              "\n",
              "   Compliment_Note  Compliment_Plain  Compliment_Cool  Compliment_Funny  \\\n",
              "0              232               844              467               467   \n",
              "1             1847              7054             3131              3131   \n",
              "\n",
              "   Compliment_Writer  Compliment_Photos  \n",
              "0                239                180  \n",
              "1               1521               1946  \n",
              "\n",
              "[2 rows x 22 columns]"
            ]
          },
          "execution_count": 149,
          "metadata": {},
          "output_type": "execute_result"
        }
      ],
      "source": [
        "ut.normalizacion_columnas(df_user).head(2)"
      ]
    },
    {
      "cell_type": "markdown",
      "metadata": {},
      "source": [
        "*Guardamos el DataFrame resultante para su posterior uso:*"
      ]
    },
    {
      "cell_type": "code",
      "execution_count": null,
      "metadata": {},
      "outputs": [],
      "source": [
        "reviews_mcdonalds.to_parquet('./Datos/Archivos Filtrados/df_user.parquet')"
      ]
    },
    {
      "cell_type": "markdown",
      "metadata": {},
      "source": [
        "### Metadatos Sitios 📊"
      ]
    },
    {
      "cell_type": "markdown",
      "metadata": {},
      "source": [
        "*Definimos la ruta del archivo :*"
      ]
    },
    {
      "cell_type": "code",
      "execution_count": null,
      "metadata": {},
      "outputs": [],
      "source": [
        "ruta = './Datos/Google Maps/metadata-sitios'"
      ]
    },
    {
      "cell_type": "markdown",
      "metadata": {},
      "source": [
        "*Leemos los archivos **.json** de la carpeta **metadatos-sitios** , los filtramos quedandonos con aquellos registros cuyo **name** contenga **McDonald** en el nombre del comercio y los unimos, conteniendolos en un DataFrame. Convertimos el DataFrame en un archivo compatible con parquet, y lo guardamos de manera local para su posterior uso:*"
      ]
    },
    {
      "cell_type": "code",
      "execution_count": null,
      "metadata": {},
      "outputs": [],
      "source": [
        "#Generamos una lista vacia donde almacenaremos los DataFrames\n",
        "dfs = []\n",
        "\n",
        "#Iteramos sobre los archivos del directorio\n",
        "for filename in os.listdir(ruta):\n",
        "\n",
        "    #Si el archivo es un JSON, lo leemos y filtramos los registros que contengan la palabra McDonald's\n",
        "    if filename.endswith('.json'):\n",
        "        filepath = os.path.join(ruta, filename)\n",
        "        df = pd.read_json(filepath, lines=True)\n",
        "        df_filtered = df[df['name'].str.contains(r\"\\bMcDonald's\\b|\\bMc Donald's\\b\", case=False, na=False, regex=True)]\n",
        "        dfs.append(df_filtered)\n",
        "\n",
        "#Si se encontraron DataFrames, los concatenamos y guardamos el resultado en formato Parquet\n",
        "if len(dfs) > 0:\n",
        "    merged_df = pd.concat(dfs)\n",
        "    merged_df.reset_index(drop=True, inplace=True)\n",
        "\n",
        "    # Guardamos el DataFrame en formato Parquet\n",
        "    merged_df.to_parquet('/Datos/metadatos-sitios-temporal.parquet')\n",
        "    \n",
        "else:\n",
        "    print(\"No se encontraron archivos JSON en el directorio que cumplieran con la condición.\")\n",
        "\n"
      ]
    },
    {
      "cell_type": "markdown",
      "metadata": {},
      "source": [
        "*Leemos el archivo generado anteriormente y lo almacenamos en un DataFrame para proceder con las transformaciones del mismo:*"
      ]
    },
    {
      "cell_type": "code",
      "execution_count": null,
      "metadata": {},
      "outputs": [],
      "source": [
        "df_sitios = pd.read_parquet('./Datos/metadatos-sitios-temporal.parquet')"
      ]
    },
    {
      "cell_type": "markdown",
      "metadata": {},
      "source": [
        "*Normalizamos los nombres de las columnas del mismo:*"
      ]
    },
    {
      "cell_type": "code",
      "execution_count": null,
      "metadata": {},
      "outputs": [
        {
          "data": {
            "text/html": [
              "<div>\n",
              "<style scoped>\n",
              "    .dataframe tbody tr th:only-of-type {\n",
              "        vertical-align: middle;\n",
              "    }\n",
              "\n",
              "    .dataframe tbody tr th {\n",
              "        vertical-align: top;\n",
              "    }\n",
              "\n",
              "    .dataframe thead th {\n",
              "        text-align: right;\n",
              "    }\n",
              "</style>\n",
              "<table border=\"1\" class=\"dataframe\">\n",
              "  <thead>\n",
              "    <tr style=\"text-align: right;\">\n",
              "      <th></th>\n",
              "      <th>Name</th>\n",
              "      <th>Address</th>\n",
              "      <th>Gmap_Id</th>\n",
              "      <th>Description</th>\n",
              "      <th>Latitude</th>\n",
              "      <th>Longitude</th>\n",
              "      <th>Category</th>\n",
              "      <th>Avg_Rating</th>\n",
              "      <th>Num_Of_Reviews</th>\n",
              "      <th>Price</th>\n",
              "      <th>Hours</th>\n",
              "      <th>Misc</th>\n",
              "      <th>State</th>\n",
              "      <th>Relative_Results</th>\n",
              "      <th>Url</th>\n",
              "    </tr>\n",
              "  </thead>\n",
              "  <tbody>\n",
              "    <tr>\n",
              "      <th>0</th>\n",
              "      <td>McDonald's</td>\n",
              "      <td>McDonald's, 1205 S Main St, Manteca, CA 95336</td>\n",
              "      <td>0x80904101ce001281:0x76db23c5d22346ae</td>\n",
              "      <td>Classic, long-running fast-food chain known fo...</td>\n",
              "      <td>37.785995</td>\n",
              "      <td>-121.218062</td>\n",
              "      <td>Fast food restaurant Breakfast restaurant Coff...</td>\n",
              "      <td>2.4</td>\n",
              "      <td>48</td>\n",
              "      <td>$</td>\n",
              "      <td>None</td>\n",
              "      <td>{'Accessibility': ['Wheelchair accessible entr...</td>\n",
              "      <td>None</td>\n",
              "      <td>[0x8090410018dc2657:0xed7a807ae3eeee6d, 0x8090...</td>\n",
              "      <td>https://www.google.com/maps/place//data=!4m2!3...</td>\n",
              "    </tr>\n",
              "    <tr>\n",
              "      <th>1</th>\n",
              "      <td>McDonald's</td>\n",
              "      <td>McDonald's, 1000 Palisades Center Dr, West Nya...</td>\n",
              "      <td>0x89c2e9cf8e139235:0x24bfb20e9e09f260</td>\n",
              "      <td>Classic, long-running fast-food chain known fo...</td>\n",
              "      <td>41.097768</td>\n",
              "      <td>-73.955392</td>\n",
              "      <td>Fast food restaurant Breakfast restaurant Coff...</td>\n",
              "      <td>2.2</td>\n",
              "      <td>18</td>\n",
              "      <td>$</td>\n",
              "      <td>None</td>\n",
              "      <td>{'Accessibility': ['Wheelchair accessible rest...</td>\n",
              "      <td>None</td>\n",
              "      <td>[0x89c2e9e6ef010ddb:0xe923f7207b70d6f9, 0x89c2...</td>\n",
              "      <td>https://www.google.com/maps/place//data=!4m2!3...</td>\n",
              "    </tr>\n",
              "  </tbody>\n",
              "</table>\n",
              "</div>"
            ],
            "text/plain": [
              "         Name                                            Address  \\\n",
              "0  McDonald's      McDonald's, 1205 S Main St, Manteca, CA 95336   \n",
              "1  McDonald's  McDonald's, 1000 Palisades Center Dr, West Nya...   \n",
              "\n",
              "                                 Gmap_Id  \\\n",
              "0  0x80904101ce001281:0x76db23c5d22346ae   \n",
              "1  0x89c2e9cf8e139235:0x24bfb20e9e09f260   \n",
              "\n",
              "                                         Description   Latitude   Longitude  \\\n",
              "0  Classic, long-running fast-food chain known fo...  37.785995 -121.218062   \n",
              "1  Classic, long-running fast-food chain known fo...  41.097768  -73.955392   \n",
              "\n",
              "                                            Category  Avg_Rating  \\\n",
              "0  Fast food restaurant Breakfast restaurant Coff...         2.4   \n",
              "1  Fast food restaurant Breakfast restaurant Coff...         2.2   \n",
              "\n",
              "   Num_Of_Reviews Price Hours  \\\n",
              "0              48     $  None   \n",
              "1              18     $  None   \n",
              "\n",
              "                                                Misc State  \\\n",
              "0  {'Accessibility': ['Wheelchair accessible entr...  None   \n",
              "1  {'Accessibility': ['Wheelchair accessible rest...  None   \n",
              "\n",
              "                                    Relative_Results  \\\n",
              "0  [0x8090410018dc2657:0xed7a807ae3eeee6d, 0x8090...   \n",
              "1  [0x89c2e9e6ef010ddb:0xe923f7207b70d6f9, 0x89c2...   \n",
              "\n",
              "                                                 Url  \n",
              "0  https://www.google.com/maps/place//data=!4m2!3...  \n",
              "1  https://www.google.com/maps/place//data=!4m2!3...  "
            ]
          },
          "execution_count": 114,
          "metadata": {},
          "output_type": "execute_result"
        }
      ],
      "source": [
        "ut.normalizacion_columnas(df_sitios).head(2)"
      ]
    },
    {
      "cell_type": "markdown",
      "metadata": {},
      "source": [
        "*Verificamos los valores unicos en la columna **Name** y podemos ver que hay otros comercios que incluyen el nombre Mc Donald's, pero también hay comercios que son los corrrectos, los de nuestro interes, pero contienen cierta descripción o datos de la ubicación en su nombre, por lo que vamos a buscar la forma de filtrarlos:*"
      ]
    },
    {
      "cell_type": "code",
      "execution_count": null,
      "metadata": {},
      "outputs": [
        {
          "data": {
            "text/plain": [
              "array([\"McDonald's\", \"McDonald's Studio\", \"McDonald's Lunch\",\n",
              "       \"Mc Donald's Towing of Paw Paw\", \"Mc Donald's\",\n",
              "       \"McDonald's OMG Building\", \"McDonald's Corporate Office.\",\n",
              "       \"Norman McDonald's Country Drive-In\",\n",
              "       \"McDonald's Warehouse Corporate office\", \"McDonald's Cafe & BBQ\",\n",
              "       \"Mcdonald's Self Storage\", \"McDonald's Budget Printing\",\n",
              "       \"Peninsula McDonald's Office\", \"Mc Donald's Kennels\",\n",
              "       \"Graviss McDonald's Disc Golf Course\", \"Mcdonald's Playplace\",\n",
              "       \"McDonald's Regional Office\", \"Mc Donald's RV Park & Car Wash\",\n",
              "       \"McDonald's Kennel\",\n",
              "       \"Martin Brower L.L.C/McDonald's Distribution Center\",\n",
              "       \"Mc Donald's on church ave\", \"McDonald's - Corporate Office\",\n",
              "       \"Mcdonald's Play Area\", \"Mc Donald's Service Station\",\n",
              "       \"Bluemound Rd. at McDonald's\",\n",
              "       \"Cabin in the Clouds Christmas Forest (Formerly McDonald's Tree Farm)\",\n",
              "       \"McDonald's Transmission Repair\", \"McDonald's / Ross's\",\n",
              "       \"McDonald's HVAC\", \"McDonald's Store\", \"McDonald's Playplace\",\n",
              "       \"McDonald's - NEW LOCATION (next to Walgreen's) NOW OPEN\",\n",
              "       \"Mcdonald's Terminal 3, conc k\",\n",
              "       \"Masker Family McDonald's Franchise Office\",\n",
              "       \"O'Reilly Group McDonald's - Corporate Office\",\n",
              "       \"McDonald's Family Place\", \"KEVCO McDonald's\",\n",
              "       \"Old McDonald's Farm Finds\", \"Mc Donald's Upholstery Shop\",\n",
              "       \"Mc Donald's Body Shop & Towing\", \"Jones Management Mc Donald's\",\n",
              "       \"Mcdonald's Billiard Supply Co\", \"Mcdonald's Corporate Office\",\n",
              "       \"McDonald's Book Exchange\", \"Mcdonald's\", \"McDonald's Westover\",\n",
              "       \"McDonald's Bait and Tackle\", \"Mc Donald's Motorcycle Repair\",\n",
              "       \"McDonald's Greenhouse, Ltd.\",\n",
              "       \"Martin Brower/McDonald's Distribution Center\", \"Mc Donald's Deli\",\n",
              "       \"McDonald's Office\", \"G & L Foods Inc DBA McDonald's\",\n",
              "       \"McDonald's Walmart\", \"McDonald's Farm & Garden Center\"],\n",
              "      dtype=object)"
            ]
          },
          "execution_count": 72,
          "metadata": {},
          "output_type": "execute_result"
        }
      ],
      "source": [
        "df_sitios['Name'].unique()"
      ]
    },
    {
      "cell_type": "markdown",
      "metadata": {},
      "source": [
        "*Podemos ver que los elementos contenidos en nuestra columna **Category**, se encuentran en forma de lista. Procederemos a transformarlos para poder realizar las transformaciones necesarias en esa columna:*"
      ]
    },
    {
      "cell_type": "code",
      "execution_count": null,
      "metadata": {},
      "outputs": [
        {
          "data": {
            "text/plain": [
              "Category\n",
              "[Fast food restaurant]                                                                                                                    32\n",
              "[Corporate office]                                                                                                                        11\n",
              "[Restaurant]                                                                                                                              10\n",
              "[Dessert shop]                                                                                                                             5\n",
              "[Bus stop]                                                                                                                                 2\n",
              "                                                                                                                                          ..\n",
              "[Fast food restaurant, Breakfast restaurant, Coffee shop, Hamburger restaurant, Restaurant, Sandwich shop]                                 1\n",
              "[Fast food restaurant, Hamburger restaurant, Takeout Restaurant, Restaurant]                                                               1\n",
              "[Fast food restaurant, Breakfast restaurant, Coffee shop, Hamburger restaurant, Restaurant, Sandwich shop]                                 1\n",
              "[Fast food restaurant, Breakfast restaurant, Coffee shop, Hamburger restaurant, Restaurant, Sandwich shop]                                 1\n",
              "[Fast food restaurant, Breakfast restaurant, Coffee shop, Hamburger restaurant, Ice cream shop, Restaurant, Salad shop, Sandwich shop]     1\n",
              "Name: count, Length: 1022, dtype: int64"
            ]
          },
          "execution_count": 73,
          "metadata": {},
          "output_type": "execute_result"
        }
      ],
      "source": [
        "df_sitios['Category'].value_counts()"
      ]
    },
    {
      "cell_type": "markdown",
      "metadata": {},
      "source": [
        "*Primero, cambiamos el tipo de dato a **str**:*"
      ]
    },
    {
      "cell_type": "code",
      "execution_count": null,
      "metadata": {},
      "outputs": [],
      "source": [
        "df_sitios['Category'] = df_sitios['Category'].astype(str)"
      ]
    },
    {
      "cell_type": "markdown",
      "metadata": {},
      "source": [
        "*Luego, recorremos cada elemento de la columna, y eliminamos los corchetes y las comillas simples:*"
      ]
    },
    {
      "cell_type": "code",
      "execution_count": null,
      "metadata": {},
      "outputs": [],
      "source": [
        "df_sitios['Category'] = df_sitios['Category'].apply(lambda x: x.replace('[','').replace(']','').replace('\\'',''))"
      ]
    },
    {
      "cell_type": "markdown",
      "metadata": {},
      "source": [
        "*Verificamos:*"
      ]
    },
    {
      "cell_type": "code",
      "execution_count": null,
      "metadata": {},
      "outputs": [
        {
          "data": {
            "text/html": [
              "<div>\n",
              "<style scoped>\n",
              "    .dataframe tbody tr th:only-of-type {\n",
              "        vertical-align: middle;\n",
              "    }\n",
              "\n",
              "    .dataframe tbody tr th {\n",
              "        vertical-align: top;\n",
              "    }\n",
              "\n",
              "    .dataframe thead th {\n",
              "        text-align: right;\n",
              "    }\n",
              "</style>\n",
              "<table border=\"1\" class=\"dataframe\">\n",
              "  <thead>\n",
              "    <tr style=\"text-align: right;\">\n",
              "      <th></th>\n",
              "      <th>Name</th>\n",
              "      <th>Address</th>\n",
              "      <th>Gmap_Id</th>\n",
              "      <th>Description</th>\n",
              "      <th>Latitude</th>\n",
              "      <th>Longitude</th>\n",
              "      <th>Category</th>\n",
              "      <th>Avg_Rating</th>\n",
              "      <th>Num_Of_Reviews</th>\n",
              "      <th>Price</th>\n",
              "      <th>Hours</th>\n",
              "      <th>Misc</th>\n",
              "      <th>State</th>\n",
              "      <th>Relative_Results</th>\n",
              "      <th>Url</th>\n",
              "    </tr>\n",
              "  </thead>\n",
              "  <tbody>\n",
              "    <tr>\n",
              "      <th>0</th>\n",
              "      <td>McDonald's</td>\n",
              "      <td>McDonald's, 1205 S Main St, Manteca, CA 95336</td>\n",
              "      <td>0x80904101ce001281:0x76db23c5d22346ae</td>\n",
              "      <td>Classic, long-running fast-food chain known fo...</td>\n",
              "      <td>37.785995</td>\n",
              "      <td>-121.218062</td>\n",
              "      <td>Fast food restaurant Breakfast restaurant Coff...</td>\n",
              "      <td>2.4</td>\n",
              "      <td>48</td>\n",
              "      <td>$</td>\n",
              "      <td>None</td>\n",
              "      <td>{'Accessibility': ['Wheelchair accessible entr...</td>\n",
              "      <td>None</td>\n",
              "      <td>[0x8090410018dc2657:0xed7a807ae3eeee6d, 0x8090...</td>\n",
              "      <td>https://www.google.com/maps/place//data=!4m2!3...</td>\n",
              "    </tr>\n",
              "    <tr>\n",
              "      <th>1</th>\n",
              "      <td>McDonald's</td>\n",
              "      <td>McDonald's, 1000 Palisades Center Dr, West Nya...</td>\n",
              "      <td>0x89c2e9cf8e139235:0x24bfb20e9e09f260</td>\n",
              "      <td>Classic, long-running fast-food chain known fo...</td>\n",
              "      <td>41.097768</td>\n",
              "      <td>-73.955392</td>\n",
              "      <td>Fast food restaurant Breakfast restaurant Coff...</td>\n",
              "      <td>2.2</td>\n",
              "      <td>18</td>\n",
              "      <td>$</td>\n",
              "      <td>None</td>\n",
              "      <td>{'Accessibility': ['Wheelchair accessible rest...</td>\n",
              "      <td>None</td>\n",
              "      <td>[0x89c2e9e6ef010ddb:0xe923f7207b70d6f9, 0x89c2...</td>\n",
              "      <td>https://www.google.com/maps/place//data=!4m2!3...</td>\n",
              "    </tr>\n",
              "  </tbody>\n",
              "</table>\n",
              "</div>"
            ],
            "text/plain": [
              "         Name                                            Address  \\\n",
              "0  McDonald's      McDonald's, 1205 S Main St, Manteca, CA 95336   \n",
              "1  McDonald's  McDonald's, 1000 Palisades Center Dr, West Nya...   \n",
              "\n",
              "                                 Gmap_Id  \\\n",
              "0  0x80904101ce001281:0x76db23c5d22346ae   \n",
              "1  0x89c2e9cf8e139235:0x24bfb20e9e09f260   \n",
              "\n",
              "                                         Description   Latitude   Longitude  \\\n",
              "0  Classic, long-running fast-food chain known fo...  37.785995 -121.218062   \n",
              "1  Classic, long-running fast-food chain known fo...  41.097768  -73.955392   \n",
              "\n",
              "                                            Category  Avg_Rating  \\\n",
              "0  Fast food restaurant Breakfast restaurant Coff...         2.4   \n",
              "1  Fast food restaurant Breakfast restaurant Coff...         2.2   \n",
              "\n",
              "   Num_Of_Reviews Price Hours  \\\n",
              "0              48     $  None   \n",
              "1              18     $  None   \n",
              "\n",
              "                                                Misc State  \\\n",
              "0  {'Accessibility': ['Wheelchair accessible entr...  None   \n",
              "1  {'Accessibility': ['Wheelchair accessible rest...  None   \n",
              "\n",
              "                                    Relative_Results  \\\n",
              "0  [0x8090410018dc2657:0xed7a807ae3eeee6d, 0x8090...   \n",
              "1  [0x89c2e9e6ef010ddb:0xe923f7207b70d6f9, 0x89c2...   \n",
              "\n",
              "                                                 Url  \n",
              "0  https://www.google.com/maps/place//data=!4m2!3...  \n",
              "1  https://www.google.com/maps/place//data=!4m2!3...  "
            ]
          },
          "execution_count": 84,
          "metadata": {},
          "output_type": "execute_result"
        }
      ],
      "source": [
        "df_sitios.head(2)"
      ]
    },
    {
      "cell_type": "markdown",
      "metadata": {},
      "source": [
        "*Filtramos el DataFrame, quedandonos con aquellos registros que poseen las palabras \"Restaurant\", \"restaurant\", \"Fast food\" y/o \"fast-food\" en los elementos de la columna **Category**:*"
      ]
    },
    {
      "cell_type": "code",
      "execution_count": null,
      "metadata": {},
      "outputs": [],
      "source": [
        "df_sitios_ = df_sitios[df_sitios['Category'].str.contains('restaurant|Fast food|Restaurant|fast-food')]"
      ]
    },
    {
      "cell_type": "markdown",
      "metadata": {},
      "source": [
        "*Guardamos el DataFrame resultante para su posterior uso:*"
      ]
    },
    {
      "cell_type": "code",
      "execution_count": null,
      "metadata": {},
      "outputs": [],
      "source": [
        "df_sitios_.to_parquet('./Datos/Archivos Filtrados/metadatos_mcdonalds.parquet')"
      ]
    },
    {
      "cell_type": "markdown",
      "metadata": {},
      "source": [
        "*Analizamos aquellos que no contienen ninguno de los juegos de palabras anteriores:*"
      ]
    },
    {
      "cell_type": "code",
      "execution_count": null,
      "metadata": {},
      "outputs": [
        {
          "data": {
            "text/html": [
              "<div>\n",
              "<style scoped>\n",
              "    .dataframe tbody tr th:only-of-type {\n",
              "        vertical-align: middle;\n",
              "    }\n",
              "\n",
              "    .dataframe tbody tr th {\n",
              "        vertical-align: top;\n",
              "    }\n",
              "\n",
              "    .dataframe thead th {\n",
              "        text-align: right;\n",
              "    }\n",
              "</style>\n",
              "<table border=\"1\" class=\"dataframe\">\n",
              "  <thead>\n",
              "    <tr style=\"text-align: right;\">\n",
              "      <th></th>\n",
              "      <th>Name</th>\n",
              "      <th>Address</th>\n",
              "      <th>Gmap_Id</th>\n",
              "      <th>Description</th>\n",
              "      <th>Latitude</th>\n",
              "      <th>Longitude</th>\n",
              "      <th>Category</th>\n",
              "      <th>Avg_Rating</th>\n",
              "      <th>Num_Of_Reviews</th>\n",
              "      <th>Price</th>\n",
              "      <th>Hours</th>\n",
              "      <th>Misc</th>\n",
              "      <th>State</th>\n",
              "      <th>Relative_Results</th>\n",
              "      <th>Url</th>\n",
              "    </tr>\n",
              "  </thead>\n",
              "  <tbody>\n",
              "    <tr>\n",
              "      <th>24</th>\n",
              "      <td>McDonald's Studio</td>\n",
              "      <td>McDonald's Studio, 141 Bridge Ave E, Delano, M...</td>\n",
              "      <td>0x52b4a9af2ca9aa29:0x20efe9b9990af8b3</td>\n",
              "      <td>None</td>\n",
              "      <td>45.041810</td>\n",
              "      <td>-93.788087</td>\n",
              "      <td>Portrait studio</td>\n",
              "      <td>4.9</td>\n",
              "      <td>8</td>\n",
              "      <td>None</td>\n",
              "      <td>None</td>\n",
              "      <td>{'Accessibility': ['Wheelchair accessible entr...</td>\n",
              "      <td>None</td>\n",
              "      <td>[0x52b4a9105e951a1d:0x1ac4d8fb0264249d, 0x52b4...</td>\n",
              "      <td>https://www.google.com/maps/place//data=!4m2!3...</td>\n",
              "    </tr>\n",
              "    <tr>\n",
              "      <th>28</th>\n",
              "      <td>Mc Donald's Towing of Paw Paw</td>\n",
              "      <td>Mc Donald's Towing of Paw Paw, 39617 W Red Arr...</td>\n",
              "      <td>0x881741d71056f773:0xde1e96ed0a460024</td>\n",
              "      <td>None</td>\n",
              "      <td>42.211307</td>\n",
              "      <td>-85.933143</td>\n",
              "      <td>Towing service Auto wrecker</td>\n",
              "      <td>3.2</td>\n",
              "      <td>8</td>\n",
              "      <td>None</td>\n",
              "      <td>None</td>\n",
              "      <td>None</td>\n",
              "      <td>None</td>\n",
              "      <td>[0x88176a4b799092ed:0x10fc20d91d5ecfc9, 0x8817...</td>\n",
              "      <td>https://www.google.com/maps/place//data=!4m2!3...</td>\n",
              "    </tr>\n",
              "  </tbody>\n",
              "</table>\n",
              "</div>"
            ],
            "text/plain": [
              "                             Name  \\\n",
              "24              McDonald's Studio   \n",
              "28  Mc Donald's Towing of Paw Paw   \n",
              "\n",
              "                                              Address  \\\n",
              "24  McDonald's Studio, 141 Bridge Ave E, Delano, M...   \n",
              "28  Mc Donald's Towing of Paw Paw, 39617 W Red Arr...   \n",
              "\n",
              "                                  Gmap_Id Description   Latitude  Longitude  \\\n",
              "24  0x52b4a9af2ca9aa29:0x20efe9b9990af8b3        None  45.041810 -93.788087   \n",
              "28  0x881741d71056f773:0xde1e96ed0a460024        None  42.211307 -85.933143   \n",
              "\n",
              "                       Category  Avg_Rating  Num_Of_Reviews Price Hours  \\\n",
              "24              Portrait studio         4.9               8  None  None   \n",
              "28  Towing service Auto wrecker         3.2               8  None  None   \n",
              "\n",
              "                                                 Misc State  \\\n",
              "24  {'Accessibility': ['Wheelchair accessible entr...  None   \n",
              "28                                               None  None   \n",
              "\n",
              "                                     Relative_Results  \\\n",
              "24  [0x52b4a9105e951a1d:0x1ac4d8fb0264249d, 0x52b4...   \n",
              "28  [0x88176a4b799092ed:0x10fc20d91d5ecfc9, 0x8817...   \n",
              "\n",
              "                                                  Url  \n",
              "24  https://www.google.com/maps/place//data=!4m2!3...  \n",
              "28  https://www.google.com/maps/place//data=!4m2!3...  "
            ]
          },
          "execution_count": 111,
          "metadata": {},
          "output_type": "execute_result"
        }
      ],
      "source": [
        "df_sitios[~df_sitios['Category'].str.contains('restaurant|Fast food|Restaurant|fast-food')].head(2)"
      ]
    },
    {
      "cell_type": "markdown",
      "metadata": {},
      "source": [
        "*Podemos ver claramente, que corresponden a otras categorias totalmente distintas y no pertenecen a la cadena de comidas rapidas de nuestro interes.*"
      ]
    },
    {
      "cell_type": "markdown",
      "metadata": {},
      "source": [
        "### review-Florida 📊"
      ]
    },
    {
      "cell_type": "code",
      "execution_count": null,
      "metadata": {},
      "outputs": [],
      "source": [
        "ruta = './Datos/Google Maps/reviews-estados/review-Florida'"
      ]
    },
    {
      "cell_type": "markdown",
      "metadata": {},
      "source": [
        "*Leemos los archivos **.json** de la carpeta **review-Florida**. Convertimos el DataFrame en un archivo compatible con parquet, y lo guardamos de manera local para su posterior uso:*"
      ]
    },
    {
      "cell_type": "code",
      "execution_count": null,
      "metadata": {},
      "outputs": [],
      "source": [
        "#Generamos una lista vacia donde almacenaremos los DataFrames\n",
        "dfs = []\n",
        "\n",
        "#Iteramos sobre los archivos del directorio\n",
        "for filename in os.listdir(ruta):\n",
        "\n",
        "    #Si el archivo es un JSON, lo leemos y lo almacenamos en la lista\n",
        "    if filename.endswith('.json'):\n",
        "        filepath = os.path.join(ruta, filename)\n",
        "        df = pd.read_json(filepath, lines=True)\n",
        "        dfs.append(df)\n",
        "\n",
        "#Si se encontraron DataFrames, los concatenamos y guardamos el resultado en formato Parquet\n",
        "if len(dfs) > 0:\n",
        "    merged_df = pd.concat(dfs)\n",
        "    merged_df.reset_index(drop=True, inplace=True)\n",
        "\n",
        "    #Guardamos el DataFrame en formato Parquet\n",
        "    merged_df.to_parquet('./Datos/review-Florida-temporal.parquet')\n",
        "    \n",
        "else:\n",
        "    print(\"No se encontraron archivos JSON en el directorio que cumplieran con la condición.\")"
      ]
    },
    {
      "cell_type": "markdown",
      "metadata": {},
      "source": [
        "*Leemos el archivo generado anteriormente y lo almacenamos en un DataFrame para proceder con las transformaciones del mismo:*"
      ]
    },
    {
      "cell_type": "code",
      "execution_count": null,
      "metadata": {},
      "outputs": [],
      "source": [
        "df_florida = pd.read_parquet('./Datos/review-Florida-temporal.parquet')"
      ]
    },
    {
      "cell_type": "markdown",
      "metadata": {},
      "source": [
        "*Normalizamos los nombres de las columnas del mismo:*"
      ]
    },
    {
      "cell_type": "code",
      "execution_count": null,
      "metadata": {},
      "outputs": [],
      "source": [
        "df_florida = ut.normalizacion_columnas(df_florida)"
      ]
    },
    {
      "cell_type": "code",
      "execution_count": 141,
      "metadata": {},
      "outputs": [
        {
          "data": {
            "text/html": [
              "<div>\n",
              "<style scoped>\n",
              "    .dataframe tbody tr th:only-of-type {\n",
              "        vertical-align: middle;\n",
              "    }\n",
              "\n",
              "    .dataframe tbody tr th {\n",
              "        vertical-align: top;\n",
              "    }\n",
              "\n",
              "    .dataframe thead th {\n",
              "        text-align: right;\n",
              "    }\n",
              "</style>\n",
              "<table border=\"1\" class=\"dataframe\">\n",
              "  <thead>\n",
              "    <tr style=\"text-align: right;\">\n",
              "      <th></th>\n",
              "      <th>User_Id</th>\n",
              "      <th>Name</th>\n",
              "      <th>Time</th>\n",
              "      <th>Rating</th>\n",
              "      <th>Text</th>\n",
              "      <th>Pics</th>\n",
              "      <th>Resp</th>\n",
              "      <th>Gmap_Id</th>\n",
              "    </tr>\n",
              "  </thead>\n",
              "  <tbody>\n",
              "    <tr>\n",
              "      <th>0</th>\n",
              "      <td>1.014719e+20</td>\n",
              "      <td>Julie A. Gerber</td>\n",
              "      <td>1628003250740</td>\n",
              "      <td>1</td>\n",
              "      <td>Update: Their “reply” to my review amounted to...</td>\n",
              "      <td>None</td>\n",
              "      <td>{'text': 'Thank you for the feedback. We would...</td>\n",
              "      <td>0x8893863ea87bd5dd:0x9383ebf973e74abb</td>\n",
              "    </tr>\n",
              "    <tr>\n",
              "      <th>1</th>\n",
              "      <td>1.154772e+20</td>\n",
              "      <td>Martin Sheffield</td>\n",
              "      <td>1595031217005</td>\n",
              "      <td>5</td>\n",
              "      <td>He's a knowledgeable doctor but the way he run...</td>\n",
              "      <td>None</td>\n",
              "      <td>{'text': 'Thank you for reaching out. I’m forw...</td>\n",
              "      <td>0x8893863ea87bd5dd:0x9383ebf973e74abb</td>\n",
              "    </tr>\n",
              "    <tr>\n",
              "      <th>2</th>\n",
              "      <td>1.018050e+20</td>\n",
              "      <td>Brian Truett</td>\n",
              "      <td>1522924253567</td>\n",
              "      <td>5</td>\n",
              "      <td>Best doctor I've ever had, I never wait to be ...</td>\n",
              "      <td>None</td>\n",
              "      <td>None</td>\n",
              "      <td>0x8893863ea87bd5dd:0x9383ebf973e74abb</td>\n",
              "    </tr>\n",
              "    <tr>\n",
              "      <th>3</th>\n",
              "      <td>1.063444e+20</td>\n",
              "      <td>Tina Sun</td>\n",
              "      <td>1467907819586</td>\n",
              "      <td>1</td>\n",
              "      <td>I was told he is a good doctor. I was trying t...</td>\n",
              "      <td>None</td>\n",
              "      <td>None</td>\n",
              "      <td>0x8893863ea87bd5dd:0x9383ebf973e74abb</td>\n",
              "    </tr>\n",
              "    <tr>\n",
              "      <th>4</th>\n",
              "      <td>1.008751e+20</td>\n",
              "      <td>James Haynes</td>\n",
              "      <td>1480683415081</td>\n",
              "      <td>5</td>\n",
              "      <td>Takes the time to actually get to know his pat...</td>\n",
              "      <td>None</td>\n",
              "      <td>None</td>\n",
              "      <td>0x8893863ea87bd5dd:0x9383ebf973e74abb</td>\n",
              "    </tr>\n",
              "    <tr>\n",
              "      <th>...</th>\n",
              "      <td>...</td>\n",
              "      <td>...</td>\n",
              "      <td>...</td>\n",
              "      <td>...</td>\n",
              "      <td>...</td>\n",
              "      <td>...</td>\n",
              "      <td>...</td>\n",
              "      <td>...</td>\n",
              "    </tr>\n",
              "    <tr>\n",
              "      <th>2849995</th>\n",
              "      <td>1.002877e+20</td>\n",
              "      <td>James Rudolph</td>\n",
              "      <td>1617305583696</td>\n",
              "      <td>5</td>\n",
              "      <td>None</td>\n",
              "      <td>None</td>\n",
              "      <td>{'text': 'Thank you!', 'time': 1617561671234.0}</td>\n",
              "      <td>0x8890966585e36d3f:0x131d47c2c60a8d31</td>\n",
              "    </tr>\n",
              "    <tr>\n",
              "      <th>2849996</th>\n",
              "      <td>1.140989e+20</td>\n",
              "      <td>Vincent Alexander</td>\n",
              "      <td>1581817848416</td>\n",
              "      <td>3</td>\n",
              "      <td>None</td>\n",
              "      <td>None</td>\n",
              "      <td>None</td>\n",
              "      <td>0x8890966585e36d3f:0x131d47c2c60a8d31</td>\n",
              "    </tr>\n",
              "    <tr>\n",
              "      <th>2849997</th>\n",
              "      <td>1.123448e+20</td>\n",
              "      <td>Brett Owen</td>\n",
              "      <td>1551240010030</td>\n",
              "      <td>5</td>\n",
              "      <td>None</td>\n",
              "      <td>None</td>\n",
              "      <td>None</td>\n",
              "      <td>0x8890966585e36d3f:0x131d47c2c60a8d31</td>\n",
              "    </tr>\n",
              "    <tr>\n",
              "      <th>2849998</th>\n",
              "      <td>1.054465e+20</td>\n",
              "      <td>ashly kindle</td>\n",
              "      <td>1521152570004</td>\n",
              "      <td>5</td>\n",
              "      <td>None</td>\n",
              "      <td>None</td>\n",
              "      <td>{'text': 'Thank you, Ashly', 'time': 151691419...</td>\n",
              "      <td>0x8890966585e36d3f:0x131d47c2c60a8d31</td>\n",
              "    </tr>\n",
              "    <tr>\n",
              "      <th>2849999</th>\n",
              "      <td>1.087433e+20</td>\n",
              "      <td>Jomarra Auge</td>\n",
              "      <td>1536462690218</td>\n",
              "      <td>5</td>\n",
              "      <td>None</td>\n",
              "      <td>None</td>\n",
              "      <td>{'text': 'Thank you, Mrs. Jomarra:)', 'time': ...</td>\n",
              "      <td>0x8890966585e36d3f:0x131d47c2c60a8d31</td>\n",
              "    </tr>\n",
              "  </tbody>\n",
              "</table>\n",
              "<p>2850000 rows × 8 columns</p>\n",
              "</div>"
            ],
            "text/plain": [
              "              User_Id               Name           Time  Rating  \\\n",
              "0        1.014719e+20    Julie A. Gerber  1628003250740       1   \n",
              "1        1.154772e+20   Martin Sheffield  1595031217005       5   \n",
              "2        1.018050e+20       Brian Truett  1522924253567       5   \n",
              "3        1.063444e+20           Tina Sun  1467907819586       1   \n",
              "4        1.008751e+20       James Haynes  1480683415081       5   \n",
              "...               ...                ...            ...     ...   \n",
              "2849995  1.002877e+20      James Rudolph  1617305583696       5   \n",
              "2849996  1.140989e+20  Vincent Alexander  1581817848416       3   \n",
              "2849997  1.123448e+20         Brett Owen  1551240010030       5   \n",
              "2849998  1.054465e+20       ashly kindle  1521152570004       5   \n",
              "2849999  1.087433e+20       Jomarra Auge  1536462690218       5   \n",
              "\n",
              "                                                      Text  Pics  \\\n",
              "0        Update: Their “reply” to my review amounted to...  None   \n",
              "1        He's a knowledgeable doctor but the way he run...  None   \n",
              "2        Best doctor I've ever had, I never wait to be ...  None   \n",
              "3        I was told he is a good doctor. I was trying t...  None   \n",
              "4        Takes the time to actually get to know his pat...  None   \n",
              "...                                                    ...   ...   \n",
              "2849995                                               None  None   \n",
              "2849996                                               None  None   \n",
              "2849997                                               None  None   \n",
              "2849998                                               None  None   \n",
              "2849999                                               None  None   \n",
              "\n",
              "                                                      Resp  \\\n",
              "0        {'text': 'Thank you for the feedback. We would...   \n",
              "1        {'text': 'Thank you for reaching out. I’m forw...   \n",
              "2                                                     None   \n",
              "3                                                     None   \n",
              "4                                                     None   \n",
              "...                                                    ...   \n",
              "2849995    {'text': 'Thank you!', 'time': 1617561671234.0}   \n",
              "2849996                                               None   \n",
              "2849997                                               None   \n",
              "2849998  {'text': 'Thank you, Ashly', 'time': 151691419...   \n",
              "2849999  {'text': 'Thank you, Mrs. Jomarra:)', 'time': ...   \n",
              "\n",
              "                                       Gmap_Id  \n",
              "0        0x8893863ea87bd5dd:0x9383ebf973e74abb  \n",
              "1        0x8893863ea87bd5dd:0x9383ebf973e74abb  \n",
              "2        0x8893863ea87bd5dd:0x9383ebf973e74abb  \n",
              "3        0x8893863ea87bd5dd:0x9383ebf973e74abb  \n",
              "4        0x8893863ea87bd5dd:0x9383ebf973e74abb  \n",
              "...                                        ...  \n",
              "2849995  0x8890966585e36d3f:0x131d47c2c60a8d31  \n",
              "2849996  0x8890966585e36d3f:0x131d47c2c60a8d31  \n",
              "2849997  0x8890966585e36d3f:0x131d47c2c60a8d31  \n",
              "2849998  0x8890966585e36d3f:0x131d47c2c60a8d31  \n",
              "2849999  0x8890966585e36d3f:0x131d47c2c60a8d31  \n",
              "\n",
              "[2850000 rows x 8 columns]"
            ]
          },
          "execution_count": 141,
          "metadata": {},
          "output_type": "execute_result"
        }
      ],
      "source": [
        "df_florida"
      ]
    },
    {
      "cell_type": "markdown",
      "metadata": {},
      "source": [
        "*Uniremos los DataFrames, **df_sitios_** y **df_florida**, para quedarnos solo con las reseñas del comercio de nuestro interes:*"
      ]
    },
    {
      "cell_type": "code",
      "execution_count": 142,
      "metadata": {},
      "outputs": [],
      "source": [
        "reviews_florida = df_florida.merge(df_sitios, on= 'Gmap_Id')"
      ]
    },
    {
      "cell_type": "code",
      "execution_count": 145,
      "metadata": {},
      "outputs": [
        {
          "data": {
            "text/html": [
              "<div>\n",
              "<style scoped>\n",
              "    .dataframe tbody tr th:only-of-type {\n",
              "        vertical-align: middle;\n",
              "    }\n",
              "\n",
              "    .dataframe tbody tr th {\n",
              "        vertical-align: top;\n",
              "    }\n",
              "\n",
              "    .dataframe thead th {\n",
              "        text-align: right;\n",
              "    }\n",
              "</style>\n",
              "<table border=\"1\" class=\"dataframe\">\n",
              "  <thead>\n",
              "    <tr style=\"text-align: right;\">\n",
              "      <th></th>\n",
              "      <th>User_Id</th>\n",
              "      <th>Name_x</th>\n",
              "      <th>Time</th>\n",
              "      <th>Rating</th>\n",
              "      <th>Text</th>\n",
              "      <th>Pics</th>\n",
              "      <th>Resp</th>\n",
              "      <th>Gmap_Id</th>\n",
              "      <th>Name_y</th>\n",
              "      <th>Address</th>\n",
              "      <th>...</th>\n",
              "      <th>Longitude</th>\n",
              "      <th>Category</th>\n",
              "      <th>Avg_Rating</th>\n",
              "      <th>Num_Of_Reviews</th>\n",
              "      <th>Price</th>\n",
              "      <th>Hours</th>\n",
              "      <th>Misc</th>\n",
              "      <th>State</th>\n",
              "      <th>Relative_Results</th>\n",
              "      <th>Url</th>\n",
              "    </tr>\n",
              "  </thead>\n",
              "  <tbody>\n",
              "    <tr>\n",
              "      <th>0</th>\n",
              "      <td>1.123131e+20</td>\n",
              "      <td>Crystal Pedraza</td>\n",
              "      <td>1609195591445</td>\n",
              "      <td>5</td>\n",
              "      <td>Good food good service</td>\n",
              "      <td>None</td>\n",
              "      <td>None</td>\n",
              "      <td>0x88e81ee8d1ae20e9:0xf34a362c6c772e99</td>\n",
              "      <td>McDonald's</td>\n",
              "      <td>McDonald's, 13300 Cortez Blvd, Brooksville, FL...</td>\n",
              "      <td>...</td>\n",
              "      <td>-82.506031</td>\n",
              "      <td>Fast food restaurant Breakfast restaurant Coff...</td>\n",
              "      <td>2.2</td>\n",
              "      <td>38</td>\n",
              "      <td>$</td>\n",
              "      <td>None</td>\n",
              "      <td>{'Accessibility': ['Wheelchair accessible entr...</td>\n",
              "      <td>None</td>\n",
              "      <td>[0x88e81eea3f689d27:0xade1e6e09892161, 0x88e81...</td>\n",
              "      <td>https://www.google.com/maps/place//data=!4m2!3...</td>\n",
              "    </tr>\n",
              "    <tr>\n",
              "      <th>1</th>\n",
              "      <td>1.122551e+20</td>\n",
              "      <td>Jessica Guiliano</td>\n",
              "      <td>1572482113768</td>\n",
              "      <td>1</td>\n",
              "      <td>I am here at 8:30 PM and the only thing my dau...</td>\n",
              "      <td>None</td>\n",
              "      <td>None</td>\n",
              "      <td>0x88e81ee8d1ae20e9:0xf34a362c6c772e99</td>\n",
              "      <td>McDonald's</td>\n",
              "      <td>McDonald's, 13300 Cortez Blvd, Brooksville, FL...</td>\n",
              "      <td>...</td>\n",
              "      <td>-82.506031</td>\n",
              "      <td>Fast food restaurant Breakfast restaurant Coff...</td>\n",
              "      <td>2.2</td>\n",
              "      <td>38</td>\n",
              "      <td>$</td>\n",
              "      <td>None</td>\n",
              "      <td>{'Accessibility': ['Wheelchair accessible entr...</td>\n",
              "      <td>None</td>\n",
              "      <td>[0x88e81eea3f689d27:0xade1e6e09892161, 0x88e81...</td>\n",
              "      <td>https://www.google.com/maps/place//data=!4m2!3...</td>\n",
              "    </tr>\n",
              "  </tbody>\n",
              "</table>\n",
              "<p>2 rows × 22 columns</p>\n",
              "</div>"
            ],
            "text/plain": [
              "        User_Id            Name_x           Time  Rating  \\\n",
              "0  1.123131e+20   Crystal Pedraza  1609195591445       5   \n",
              "1  1.122551e+20  Jessica Guiliano  1572482113768       1   \n",
              "\n",
              "                                                Text  Pics  Resp  \\\n",
              "0                             Good food good service  None  None   \n",
              "1  I am here at 8:30 PM and the only thing my dau...  None  None   \n",
              "\n",
              "                                 Gmap_Id      Name_y  \\\n",
              "0  0x88e81ee8d1ae20e9:0xf34a362c6c772e99  McDonald's   \n",
              "1  0x88e81ee8d1ae20e9:0xf34a362c6c772e99  McDonald's   \n",
              "\n",
              "                                             Address  ...  Longitude  \\\n",
              "0  McDonald's, 13300 Cortez Blvd, Brooksville, FL...  ... -82.506031   \n",
              "1  McDonald's, 13300 Cortez Blvd, Brooksville, FL...  ... -82.506031   \n",
              "\n",
              "                                            Category  Avg_Rating  \\\n",
              "0  Fast food restaurant Breakfast restaurant Coff...         2.2   \n",
              "1  Fast food restaurant Breakfast restaurant Coff...         2.2   \n",
              "\n",
              "  Num_Of_Reviews  Price  Hours  \\\n",
              "0             38      $   None   \n",
              "1             38      $   None   \n",
              "\n",
              "                                                Misc State  \\\n",
              "0  {'Accessibility': ['Wheelchair accessible entr...  None   \n",
              "1  {'Accessibility': ['Wheelchair accessible entr...  None   \n",
              "\n",
              "                                    Relative_Results  \\\n",
              "0  [0x88e81eea3f689d27:0xade1e6e09892161, 0x88e81...   \n",
              "1  [0x88e81eea3f689d27:0xade1e6e09892161, 0x88e81...   \n",
              "\n",
              "                                                 Url  \n",
              "0  https://www.google.com/maps/place//data=!4m2!3...  \n",
              "1  https://www.google.com/maps/place//data=!4m2!3...  \n",
              "\n",
              "[2 rows x 22 columns]"
            ]
          },
          "execution_count": 145,
          "metadata": {},
          "output_type": "execute_result"
        }
      ],
      "source": [
        "reviews_florida.head(2)"
      ]
    },
    {
      "cell_type": "markdown",
      "metadata": {},
      "source": [
        "*Guardamos el DataFrame resultante para su posterior uso:*"
      ]
    },
    {
      "cell_type": "code",
      "execution_count": 154,
      "metadata": {},
      "outputs": [],
      "source": [
        "df_sitios_.to_parquet('./Datos/Archivos Filtrados/reviews_florida_mcdonalds.parquet')"
      ]
    }
  ],
  "metadata": {
    "colab": {
      "provenance": []
    },
    "kernelspec": {
      "display_name": "Python 3",
      "name": "python3"
    },
    "language_info": {
      "codemirror_mode": {
        "name": "ipython",
        "version": 3
      },
      "file_extension": ".py",
      "mimetype": "text/x-python",
      "name": "python",
      "nbconvert_exporter": "python",
      "pygments_lexer": "ipython3",
      "version": "3.11.3"
    }
  },
  "nbformat": 4,
  "nbformat_minor": 0
}
